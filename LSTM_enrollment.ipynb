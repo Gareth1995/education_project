{
 "cells": [
  {
   "cell_type": "code",
   "execution_count": 97,
   "metadata": {},
   "outputs": [],
   "source": [
    "import numpy as np\n",
    "import matplotlib.pyplot as plt\n",
    "import pandas as pd\n",
    "import math\n",
    "from keras.models import Sequential\n",
    "from keras.layers import Dense, LSTM, Flatten\n",
    "from sklearn.preprocessing import MinMaxScaler\n",
    "from sklearn.metrics import mean_squared_error\n",
    "# from keras.layers import ConvLSTM2D"
   ]
  },
  {
   "cell_type": "code",
   "execution_count": 98,
   "metadata": {},
   "outputs": [
    {
     "data": {
      "text/html": [
       "<div>\n",
       "<style scoped>\n",
       "    .dataframe tbody tr th:only-of-type {\n",
       "        vertical-align: middle;\n",
       "    }\n",
       "\n",
       "    .dataframe tbody tr th {\n",
       "        vertical-align: top;\n",
       "    }\n",
       "\n",
       "    .dataframe thead th {\n",
       "        text-align: right;\n",
       "    }\n",
       "</style>\n",
       "<table border=\"1\" class=\"dataframe\">\n",
       "  <thead>\n",
       "    <tr style=\"text-align: right;\">\n",
       "      <th></th>\n",
       "      <th>year</th>\n",
       "      <th>sum</th>\n",
       "    </tr>\n",
       "  </thead>\n",
       "  <tbody>\n",
       "    <tr>\n",
       "      <th>0</th>\n",
       "      <td>2000</td>\n",
       "      <td>137091</td>\n",
       "    </tr>\n",
       "    <tr>\n",
       "      <th>1</th>\n",
       "      <td>2001</td>\n",
       "      <td>139677</td>\n",
       "    </tr>\n",
       "    <tr>\n",
       "      <th>2</th>\n",
       "      <td>2002</td>\n",
       "      <td>143838</td>\n",
       "    </tr>\n",
       "    <tr>\n",
       "      <th>3</th>\n",
       "      <td>2003</td>\n",
       "      <td>144501</td>\n",
       "    </tr>\n",
       "    <tr>\n",
       "      <th>4</th>\n",
       "      <td>2004</td>\n",
       "      <td>148547</td>\n",
       "    </tr>\n",
       "    <tr>\n",
       "      <th>5</th>\n",
       "      <td>2005</td>\n",
       "      <td>147775</td>\n",
       "    </tr>\n",
       "    <tr>\n",
       "      <th>6</th>\n",
       "      <td>2006</td>\n",
       "      <td>145220</td>\n",
       "    </tr>\n",
       "    <tr>\n",
       "      <th>7</th>\n",
       "      <td>2007</td>\n",
       "      <td>147288</td>\n",
       "    </tr>\n",
       "    <tr>\n",
       "      <th>8</th>\n",
       "      <td>2008</td>\n",
       "      <td>146257</td>\n",
       "    </tr>\n",
       "    <tr>\n",
       "      <th>9</th>\n",
       "      <td>2009</td>\n",
       "      <td>147656</td>\n",
       "    </tr>\n",
       "    <tr>\n",
       "      <th>10</th>\n",
       "      <td>2010</td>\n",
       "      <td>148487</td>\n",
       "    </tr>\n",
       "    <tr>\n",
       "      <th>11</th>\n",
       "      <td>2011</td>\n",
       "      <td>148770</td>\n",
       "    </tr>\n",
       "    <tr>\n",
       "      <th>12</th>\n",
       "      <td>2012</td>\n",
       "      <td>150191</td>\n",
       "    </tr>\n",
       "    <tr>\n",
       "      <th>13</th>\n",
       "      <td>2013</td>\n",
       "      <td>151218</td>\n",
       "    </tr>\n",
       "    <tr>\n",
       "      <th>14</th>\n",
       "      <td>2014</td>\n",
       "      <td>154004</td>\n",
       "    </tr>\n",
       "    <tr>\n",
       "      <th>15</th>\n",
       "      <td>2015</td>\n",
       "      <td>157766</td>\n",
       "    </tr>\n",
       "    <tr>\n",
       "      <th>16</th>\n",
       "      <td>2016</td>\n",
       "      <td>186640</td>\n",
       "    </tr>\n",
       "    <tr>\n",
       "      <th>17</th>\n",
       "      <td>2017</td>\n",
       "      <td>192390</td>\n",
       "    </tr>\n",
       "    <tr>\n",
       "      <th>18</th>\n",
       "      <td>2018</td>\n",
       "      <td>198198</td>\n",
       "    </tr>\n",
       "    <tr>\n",
       "      <th>19</th>\n",
       "      <td>2019</td>\n",
       "      <td>202861</td>\n",
       "    </tr>\n",
       "    <tr>\n",
       "      <th>20</th>\n",
       "      <td>2020</td>\n",
       "      <td>207255</td>\n",
       "    </tr>\n",
       "    <tr>\n",
       "      <th>21</th>\n",
       "      <td>2021</td>\n",
       "      <td>210668</td>\n",
       "    </tr>\n",
       "    <tr>\n",
       "      <th>22</th>\n",
       "      <td>2022</td>\n",
       "      <td>213430</td>\n",
       "    </tr>\n",
       "    <tr>\n",
       "      <th>23</th>\n",
       "      <td>2023</td>\n",
       "      <td>216982</td>\n",
       "    </tr>\n",
       "  </tbody>\n",
       "</table>\n",
       "</div>"
      ],
      "text/plain": [
       "    year     sum\n",
       "0   2000  137091\n",
       "1   2001  139677\n",
       "2   2002  143838\n",
       "3   2003  144501\n",
       "4   2004  148547\n",
       "5   2005  147775\n",
       "6   2006  145220\n",
       "7   2007  147288\n",
       "8   2008  146257\n",
       "9   2009  147656\n",
       "10  2010  148487\n",
       "11  2011  148770\n",
       "12  2012  150191\n",
       "13  2013  151218\n",
       "14  2014  154004\n",
       "15  2015  157766\n",
       "16  2016  186640\n",
       "17  2017  192390\n",
       "18  2018  198198\n",
       "19  2019  202861\n",
       "20  2020  207255\n",
       "21  2021  210668\n",
       "22  2022  213430\n",
       "23  2023  216982"
      ]
     },
     "execution_count": 98,
     "metadata": {},
     "output_type": "execute_result"
    }
   ],
   "source": [
    "# import enrollment data\n",
    "df = pd.read_excel('R/data/enrollment data.xlsx', sheet_name='metro east')\n",
    "metro_enrollment = df.groupby(['district', 'year']).agg([sum])\n",
    "metro_enrollment = metro_enrollment['enrol'].reset_index()[['year','sum']]\n",
    "metro_enrollment"
   ]
  },
  {
   "cell_type": "code",
   "execution_count": 99,
   "metadata": {},
   "outputs": [
    {
     "data": {
      "text/plain": [
       "[<matplotlib.lines.Line2D at 0x1ecfd80be50>]"
      ]
     },
     "execution_count": 99,
     "metadata": {},
     "output_type": "execute_result"
    },
    {
     "data": {
      "image/png": "[encoded data removed]",
      "text/plain": [
       "<Figure size 640x480 with 1 Axes>"
      ]
     },
     "metadata": {},
     "output_type": "display_data"
    }
   ],
   "source": [
    "plt.plot(metro_enrollment['sum'])"
   ]
  },
  {
   "cell_type": "code",
   "execution_count": 100,
   "metadata": {},
   "outputs": [
    {
     "data": {
      "text/plain": [
       "array([[137091.],\n",
       "       [139677.],\n",
       "       [143838.],\n",
       "       [144501.],\n",
       "       [148547.],\n",
       "       [147775.],\n",
       "       [145220.],\n",
       "       [147288.],\n",
       "       [146257.],\n",
       "       [147656.],\n",
       "       [148487.],\n",
       "       [148770.],\n",
       "       [150191.],\n",
       "       [151218.],\n",
       "       [154004.],\n",
       "       [157766.],\n",
       "       [186640.],\n",
       "       [192390.],\n",
       "       [198198.],\n",
       "       [202861.],\n",
       "       [207255.],\n",
       "       [210668.],\n",
       "       [213430.],\n",
       "       [216982.]], dtype=float32)"
      ]
     },
     "execution_count": 100,
     "metadata": {},
     "output_type": "execute_result"
    }
   ],
   "source": [
    "# convert values\n",
    "dataset = metro_enrollment['sum']\n",
    "dataset = dataset.values\n",
    "dataset = (dataset.astype('float32')).reshape(-1,1)\n",
    "dataset"
   ]
  },
  {
   "cell_type": "code",
   "execution_count": 101,
   "metadata": {},
   "outputs": [
    {
     "data": {
      "text/plain": [
       "array([[0.        ],\n",
       "       [0.03236914],\n",
       "       [0.08445251],\n",
       "       [0.09275138],\n",
       "       [0.14339542],\n",
       "       [0.1337322 ],\n",
       "       [0.10175109],\n",
       "       [0.12763643],\n",
       "       [0.11473131],\n",
       "       [0.13224268],\n",
       "       [0.1426444 ],\n",
       "       [0.14618671],\n",
       "       [0.16397345],\n",
       "       [0.17682838],\n",
       "       [0.21170092],\n",
       "       [0.25879014],\n",
       "       [0.62020755],\n",
       "       [0.69218063],\n",
       "       [0.7648797 ],\n",
       "       [0.8232467 ],\n",
       "       [0.87824655],\n",
       "       [0.92096734],\n",
       "       [0.95553946],\n",
       "       [1.        ]], dtype=float32)"
      ]
     },
     "execution_count": 101,
     "metadata": {},
     "output_type": "execute_result"
    }
   ],
   "source": [
    "# scale values so they are between 0 and 1 for LSTM model\n",
    "scaler = MinMaxScaler(feature_range=(0,1))\n",
    "dataset = scaler.fit_transform(dataset)\n",
    "dataset"
   ]
  },
  {
   "cell_type": "code",
   "execution_count": 102,
   "metadata": {},
   "outputs": [],
   "source": [
    "# split into train and test set\n",
    "train_size = int(len(dataset) * 0.66)\n",
    "test_size = len(dataset) - train_size\n",
    "train, test = dataset[0:train_size,:], dataset[train_size:len(dataset),:]"
   ]
  },
  {
   "cell_type": "code",
   "execution_count": 103,
   "metadata": {},
   "outputs": [],
   "source": [
    "# method to create sequence of lagged values for each enrollment count\n",
    "def to_sequence(dataset, seq_size=1):\n",
    "    x = []\n",
    "    y = []\n",
    "\n",
    "    for i in range(len(dataset) - seq_size-1):\n",
    "        window = dataset[i:(i+seq_size), 0]\n",
    "        x.append(window)\n",
    "        y.append(dataset[i+seq_size, 0])\n",
    "    \n",
    "    return np.array(x), np.array(y)"
   ]
  },
  {
   "cell_type": "code",
   "execution_count": 104,
   "metadata": {},
   "outputs": [],
   "source": [
    "# apply sequencing function\n",
    "seq_size = 3\n",
    "trainX, trainY = to_sequence(train, seq_size)\n",
    "testX, testY = to_sequence(test, seq_size)"
   ]
  },
  {
   "cell_type": "code",
   "execution_count": 105,
   "metadata": {},
   "outputs": [
    {
     "data": {
      "text/plain": [
       "(11, 3)"
      ]
     },
     "execution_count": 105,
     "metadata": {},
     "output_type": "execute_result"
    }
   ],
   "source": [
    "trainX.shape"
   ]
  },
  {
   "cell_type": "code",
   "execution_count": 106,
   "metadata": {},
   "outputs": [],
   "source": [
    "# Reshape input to be [samples, time steps, features]\n",
    "trainX = np.reshape(trainX, (trainX.shape[0], 1, trainX.shape[1]))\n",
    "testX = np.reshape(testX, (testX.shape[0], 1, testX.shape[1]))"
   ]
  },
  {
   "cell_type": "code",
   "execution_count": 107,
   "metadata": {},
   "outputs": [
    {
     "name": "stdout",
     "output_type": "stream",
     "text": [
      "Model: \"sequential_5\"\n",
      "_________________________________________________________________\n",
      " Layer (type)                Output Shape              Param #   \n",
      "=================================================================\n",
      " lstm_2 (LSTM)               (None, 64)                17408     \n",
      "                                                                 \n",
      " dense_4 (Dense)             (None, 32)                2080      \n",
      "                                                                 \n",
      " dense_5 (Dense)             (None, 1)                 33        \n",
      "                                                                 \n",
      "=================================================================\n",
      "Total params: 19521 (76.25 KB)\n",
      "Trainable params: 19521 (76.25 KB)\n",
      "Non-trainable params: 0 (0.00 Byte)\n",
      "_________________________________________________________________\n",
      "Training\n"
     ]
    }
   ],
   "source": [
    "# single LSTM with hidden layer\n",
    "model = Sequential()\n",
    "model.add(LSTM(64, input_shape=(None, seq_size)))\n",
    "model.add(Dense(32))\n",
    "model.add(Dense(1))\n",
    "model.compile(loss='mean_squared_error', optimizer='adam')\n",
    "model.summary()\n",
    "print('Training')"
   ]
  },
  {
   "cell_type": "code",
   "execution_count": 108,
   "metadata": {},
   "outputs": [
    {
     "name": "stdout",
     "output_type": "stream",
     "text": [
      "Epoch 1/100\n",
      "1/1 - 3s - loss: 0.0199 - val_loss: 0.7774 - 3s/epoch - 3s/step\n",
      "Epoch 2/100\n",
      "1/1 - 0s - loss: 0.0172 - val_loss: 0.7403 - 48ms/epoch - 48ms/step\n",
      "Epoch 3/100\n",
      "1/1 - 0s - loss: 0.0146 - val_loss: 0.7043 - 51ms/epoch - 51ms/step\n",
      "Epoch 4/100\n",
      "1/1 - 0s - loss: 0.0123 - val_loss: 0.6695 - 39ms/epoch - 39ms/step\n",
      "Epoch 5/100\n",
      "1/1 - 0s - loss: 0.0102 - val_loss: 0.6357 - 36ms/epoch - 36ms/step\n",
      "Epoch 6/100\n",
      "1/1 - 0s - loss: 0.0083 - val_loss: 0.6030 - 36ms/epoch - 36ms/step\n",
      "Epoch 7/100\n",
      "1/1 - 0s - loss: 0.0066 - val_loss: 0.5713 - 38ms/epoch - 38ms/step\n",
      "Epoch 8/100\n",
      "1/1 - 0s - loss: 0.0051 - val_loss: 0.5407 - 32ms/epoch - 32ms/step\n",
      "Epoch 9/100\n",
      "1/1 - 0s - loss: 0.0038 - val_loss: 0.5112 - 32ms/epoch - 32ms/step\n",
      "Epoch 10/100\n",
      "1/1 - 0s - loss: 0.0028 - val_loss: 0.4829 - 48ms/epoch - 48ms/step\n",
      "Epoch 11/100\n",
      "1/1 - 0s - loss: 0.0019 - val_loss: 0.4559 - 48ms/epoch - 48ms/step\n",
      "Epoch 12/100\n",
      "1/1 - 0s - loss: 0.0013 - val_loss: 0.4302 - 44ms/epoch - 44ms/step\n",
      "Epoch 13/100\n",
      "1/1 - 0s - loss: 8.1849e-04 - val_loss: 0.4062 - 36ms/epoch - 36ms/step\n",
      "Epoch 14/100\n",
      "1/1 - 0s - loss: 5.4397e-04 - val_loss: 0.3841 - 32ms/epoch - 32ms/step\n",
      "Epoch 15/100\n",
      "1/1 - 0s - loss: 4.3313e-04 - val_loss: 0.3640 - 40ms/epoch - 40ms/step\n",
      "Epoch 16/100\n",
      "1/1 - 0s - loss: 4.5938e-04 - val_loss: 0.3463 - 36ms/epoch - 36ms/step\n",
      "Epoch 17/100\n",
      "1/1 - 0s - loss: 5.8868e-04 - val_loss: 0.3313 - 36ms/epoch - 36ms/step\n",
      "Epoch 18/100\n",
      "1/1 - 0s - loss: 7.8120e-04 - val_loss: 0.3191 - 37ms/epoch - 37ms/step\n",
      "Epoch 19/100\n",
      "1/1 - 0s - loss: 9.9536e-04 - val_loss: 0.3099 - 37ms/epoch - 37ms/step\n",
      "Epoch 20/100\n",
      "1/1 - 0s - loss: 0.0012 - val_loss: 0.3036 - 40ms/epoch - 40ms/step\n",
      "Epoch 21/100\n",
      "1/1 - 0s - loss: 0.0013 - val_loss: 0.3000 - 40ms/epoch - 40ms/step\n",
      "Epoch 22/100\n",
      "1/1 - 0s - loss: 0.0014 - val_loss: 0.2989 - 36ms/epoch - 36ms/step\n",
      "Epoch 23/100\n",
      "1/1 - 0s - loss: 0.0015 - val_loss: 0.3000 - 45ms/epoch - 45ms/step\n",
      "Epoch 24/100\n",
      "1/1 - 0s - loss: 0.0014 - val_loss: 0.3030 - 41ms/epoch - 41ms/step\n",
      "Epoch 25/100\n",
      "1/1 - 0s - loss: 0.0013 - val_loss: 0.3076 - 45ms/epoch - 45ms/step\n",
      "Epoch 26/100\n",
      "1/1 - 0s - loss: 0.0012 - val_loss: 0.3135 - 40ms/epoch - 40ms/step\n",
      "Epoch 27/100\n",
      "1/1 - 0s - loss: 0.0011 - val_loss: 0.3202 - 38ms/epoch - 38ms/step\n",
      "Epoch 28/100\n",
      "1/1 - 0s - loss: 9.2334e-04 - val_loss: 0.3277 - 37ms/epoch - 37ms/step\n",
      "Epoch 29/100\n",
      "1/1 - 0s - loss: 7.8518e-04 - val_loss: 0.3356 - 36ms/epoch - 36ms/step\n",
      "Epoch 30/100\n",
      "1/1 - 0s - loss: 6.6458e-04 - val_loss: 0.3436 - 44ms/epoch - 44ms/step\n",
      "Epoch 31/100\n",
      "1/1 - 0s - loss: 5.6730e-04 - val_loss: 0.3515 - 42ms/epoch - 42ms/step\n",
      "Epoch 32/100\n",
      "1/1 - 0s - loss: 4.9585e-04 - val_loss: 0.3591 - 52ms/epoch - 52ms/step\n",
      "Epoch 33/100\n",
      "1/1 - 0s - loss: 4.4994e-04 - val_loss: 0.3663 - 40ms/epoch - 40ms/step\n",
      "Epoch 34/100\n",
      "1/1 - 0s - loss: 4.2709e-04 - val_loss: 0.3729 - 37ms/epoch - 37ms/step\n",
      "Epoch 35/100\n",
      "1/1 - 0s - loss: 4.2334e-04 - val_loss: 0.3788 - 35ms/epoch - 35ms/step\n",
      "Epoch 36/100\n",
      "1/1 - 0s - loss: 4.3390e-04 - val_loss: 0.3839 - 40ms/epoch - 40ms/step\n",
      "Epoch 37/100\n",
      "1/1 - 0s - loss: 4.5375e-04 - val_loss: 0.3881 - 42ms/epoch - 42ms/step\n",
      "Epoch 38/100\n",
      "1/1 - 0s - loss: 4.7810e-04 - val_loss: 0.3915 - 41ms/epoch - 41ms/step\n",
      "Epoch 39/100\n",
      "1/1 - 0s - loss: 5.0281e-04 - val_loss: 0.3940 - 36ms/epoch - 36ms/step\n",
      "Epoch 40/100\n",
      "1/1 - 0s - loss: 5.2456e-04 - val_loss: 0.3956 - 36ms/epoch - 36ms/step\n",
      "Epoch 41/100\n",
      "1/1 - 0s - loss: 5.4100e-04 - val_loss: 0.3964 - 36ms/epoch - 36ms/step\n",
      "Epoch 42/100\n",
      "1/1 - 0s - loss: 5.5075e-04 - val_loss: 0.3963 - 32ms/epoch - 32ms/step\n",
      "Epoch 43/100\n",
      "1/1 - 0s - loss: 5.5335e-04 - val_loss: 0.3956 - 36ms/epoch - 36ms/step\n",
      "Epoch 44/100\n",
      "1/1 - 0s - loss: 5.4913e-04 - val_loss: 0.3942 - 36ms/epoch - 36ms/step\n",
      "Epoch 45/100\n",
      "1/1 - 0s - loss: 5.3903e-04 - val_loss: 0.3922 - 32ms/epoch - 32ms/step\n",
      "Epoch 46/100\n",
      "1/1 - 0s - loss: 5.2444e-04 - val_loss: 0.3898 - 45ms/epoch - 45ms/step\n",
      "Epoch 47/100\n",
      "1/1 - 0s - loss: 5.0698e-04 - val_loss: 0.3869 - 35ms/epoch - 35ms/step\n",
      "Epoch 48/100\n",
      "1/1 - 0s - loss: 4.8835e-04 - val_loss: 0.3837 - 33ms/epoch - 33ms/step\n",
      "Epoch 49/100\n",
      "1/1 - 0s - loss: 4.7011e-04 - val_loss: 0.3803 - 36ms/epoch - 36ms/step\n",
      "Epoch 50/100\n",
      "1/1 - 0s - loss: 4.5361e-04 - val_loss: 0.3768 - 33ms/epoch - 33ms/step\n",
      "Epoch 51/100\n",
      "1/1 - 0s - loss: 4.3986e-04 - val_loss: 0.3733 - 35ms/epoch - 35ms/step\n",
      "Epoch 52/100\n",
      "1/1 - 0s - loss: 4.2947e-04 - val_loss: 0.3699 - 36ms/epoch - 36ms/step\n",
      "Epoch 53/100\n",
      "1/1 - 0s - loss: 4.2265e-04 - val_loss: 0.3665 - 37ms/epoch - 37ms/step\n",
      "Epoch 54/100\n",
      "1/1 - 0s - loss: 4.1924e-04 - val_loss: 0.3634 - 32ms/epoch - 32ms/step\n",
      "Epoch 55/100\n",
      "1/1 - 0s - loss: 4.1878e-04 - val_loss: 0.3606 - 33ms/epoch - 33ms/step\n",
      "Epoch 56/100\n",
      "1/1 - 0s - loss: 4.2054e-04 - val_loss: 0.3580 - 37ms/epoch - 37ms/step\n",
      "Epoch 57/100\n",
      "1/1 - 0s - loss: 4.2373e-04 - val_loss: 0.3559 - 36ms/epoch - 36ms/step\n",
      "Epoch 58/100\n",
      "1/1 - 0s - loss: 4.2750e-04 - val_loss: 0.3540 - 36ms/epoch - 36ms/step\n",
      "Epoch 59/100\n",
      "1/1 - 0s - loss: 4.3110e-04 - val_loss: 0.3526 - 39ms/epoch - 39ms/step\n",
      "Epoch 60/100\n",
      "1/1 - 0s - loss: 4.3394e-04 - val_loss: 0.3516 - 41ms/epoch - 41ms/step\n",
      "Epoch 61/100\n",
      "1/1 - 0s - loss: 4.3561e-04 - val_loss: 0.3509 - 44ms/epoch - 44ms/step\n",
      "Epoch 62/100\n",
      "1/1 - 0s - loss: 4.3594e-04 - val_loss: 0.3505 - 40ms/epoch - 40ms/step\n",
      "Epoch 63/100\n",
      "1/1 - 0s - loss: 4.3495e-04 - val_loss: 0.3505 - 42ms/epoch - 42ms/step\n",
      "Epoch 64/100\n",
      "1/1 - 0s - loss: 4.3285e-04 - val_loss: 0.3507 - 33ms/epoch - 33ms/step\n",
      "Epoch 65/100\n",
      "1/1 - 0s - loss: 4.2993e-04 - val_loss: 0.3511 - 36ms/epoch - 36ms/step\n",
      "Epoch 66/100\n",
      "1/1 - 0s - loss: 4.2657e-04 - val_loss: 0.3517 - 36ms/epoch - 36ms/step\n",
      "Epoch 67/100\n",
      "1/1 - 0s - loss: 4.2313e-04 - val_loss: 0.3524 - 41ms/epoch - 41ms/step\n",
      "Epoch 68/100\n",
      "1/1 - 0s - loss: 4.1994e-04 - val_loss: 0.3532 - 36ms/epoch - 36ms/step\n",
      "Epoch 69/100\n",
      "1/1 - 0s - loss: 4.1724e-04 - val_loss: 0.3539 - 44ms/epoch - 44ms/step\n",
      "Epoch 70/100\n",
      "1/1 - 0s - loss: 4.1517e-04 - val_loss: 0.3547 - 40ms/epoch - 40ms/step\n",
      "Epoch 71/100\n",
      "1/1 - 0s - loss: 4.1379e-04 - val_loss: 0.3553 - 36ms/epoch - 36ms/step\n",
      "Epoch 72/100\n",
      "1/1 - 0s - loss: 4.1304e-04 - val_loss: 0.3559 - 34ms/epoch - 34ms/step\n",
      "Epoch 73/100\n",
      "1/1 - 0s - loss: 4.1282e-04 - val_loss: 0.3563 - 39ms/epoch - 39ms/step\n",
      "Epoch 74/100\n",
      "1/1 - 0s - loss: 4.1298e-04 - val_loss: 0.3565 - 38ms/epoch - 38ms/step\n",
      "Epoch 75/100\n",
      "1/1 - 0s - loss: 4.1333e-04 - val_loss: 0.3566 - 35ms/epoch - 35ms/step\n",
      "Epoch 76/100\n",
      "1/1 - 0s - loss: 4.1372e-04 - val_loss: 0.3565 - 42ms/epoch - 42ms/step\n",
      "Epoch 77/100\n",
      "1/1 - 0s - loss: 4.1401e-04 - val_loss: 0.3562 - 38ms/epoch - 38ms/step\n",
      "Epoch 78/100\n",
      "1/1 - 0s - loss: 4.1410e-04 - val_loss: 0.3557 - 41ms/epoch - 41ms/step\n",
      "Epoch 79/100\n",
      "1/1 - 0s - loss: 4.1394e-04 - val_loss: 0.3550 - 36ms/epoch - 36ms/step\n",
      "Epoch 80/100\n",
      "1/1 - 0s - loss: 4.1353e-04 - val_loss: 0.3542 - 48ms/epoch - 48ms/step\n",
      "Epoch 81/100\n",
      "1/1 - 0s - loss: 4.1289e-04 - val_loss: 0.3533 - 46ms/epoch - 46ms/step\n",
      "Epoch 82/100\n",
      "1/1 - 0s - loss: 4.1208e-04 - val_loss: 0.3522 - 40ms/epoch - 40ms/step\n",
      "Epoch 83/100\n",
      "1/1 - 0s - loss: 4.1117e-04 - val_loss: 0.3511 - 36ms/epoch - 36ms/step\n",
      "Epoch 84/100\n",
      "1/1 - 0s - loss: 4.1024e-04 - val_loss: 0.3499 - 34ms/epoch - 34ms/step\n",
      "Epoch 85/100\n",
      "1/1 - 0s - loss: 4.0935e-04 - val_loss: 0.3486 - 36ms/epoch - 36ms/step\n",
      "Epoch 86/100\n",
      "1/1 - 0s - loss: 4.0856e-04 - val_loss: 0.3474 - 29ms/epoch - 29ms/step\n",
      "Epoch 87/100\n",
      "1/1 - 0s - loss: 4.0790e-04 - val_loss: 0.3462 - 32ms/epoch - 32ms/step\n",
      "Epoch 88/100\n",
      "1/1 - 0s - loss: 4.0738e-04 - val_loss: 0.3450 - 31ms/epoch - 31ms/step\n",
      "Epoch 89/100\n",
      "1/1 - 0s - loss: 4.0697e-04 - val_loss: 0.3438 - 31ms/epoch - 31ms/step\n",
      "Epoch 90/100\n",
      "1/1 - 0s - loss: 4.0667e-04 - val_loss: 0.3428 - 35ms/epoch - 35ms/step\n",
      "Epoch 91/100\n",
      "1/1 - 0s - loss: 4.0643e-04 - val_loss: 0.3418 - 32ms/epoch - 32ms/step\n",
      "Epoch 92/100\n",
      "1/1 - 0s - loss: 4.0623e-04 - val_loss: 0.3408 - 30ms/epoch - 30ms/step\n",
      "Epoch 93/100\n",
      "1/1 - 0s - loss: 4.0601e-04 - val_loss: 0.3400 - 31ms/epoch - 31ms/step\n",
      "Epoch 94/100\n",
      "1/1 - 0s - loss: 4.0576e-04 - val_loss: 0.3393 - 34ms/epoch - 34ms/step\n",
      "Epoch 95/100\n",
      "1/1 - 0s - loss: 4.0546e-04 - val_loss: 0.3386 - 34ms/epoch - 34ms/step\n",
      "Epoch 96/100\n",
      "1/1 - 0s - loss: 4.0511e-04 - val_loss: 0.3380 - 32ms/epoch - 32ms/step\n",
      "Epoch 97/100\n",
      "1/1 - 0s - loss: 4.0470e-04 - val_loss: 0.3375 - 32ms/epoch - 32ms/step\n",
      "Epoch 98/100\n",
      "1/1 - 0s - loss: 4.0425e-04 - val_loss: 0.3370 - 41ms/epoch - 41ms/step\n",
      "Epoch 99/100\n",
      "1/1 - 0s - loss: 4.0379e-04 - val_loss: 0.3366 - 33ms/epoch - 33ms/step\n",
      "Epoch 100/100\n",
      "1/1 - 0s - loss: 4.0331e-04 - val_loss: 0.3361 - 45ms/epoch - 45ms/step\n"
     ]
    },
    {
     "data": {
      "text/plain": [
       "<keras.src.callbacks.History at 0x1ecfa208190>"
      ]
     },
     "execution_count": 108,
     "metadata": {},
     "output_type": "execute_result"
    }
   ],
   "source": [
    "# fit model\n",
    "model.fit(trainX, trainY, validation_data=(testX, testY), verbose=2, epochs=100)"
   ]
  },
  {
   "cell_type": "code",
   "execution_count": 109,
   "metadata": {},
   "outputs": [
    {
     "name": "stdout",
     "output_type": "stream",
     "text": [
      "1/1 [==============================] - 0s 427ms/step\n",
      "1/1 [==============================] - 0s 20ms/step\n"
     ]
    }
   ],
   "source": [
    "# make predictions\n",
    "trainPreds = model.predict(trainX)\n",
    "testPreds = model.predict(testX)"
   ]
  },
  {
   "cell_type": "code",
   "execution_count": 110,
   "metadata": {},
   "outputs": [],
   "source": [
    "# invert predictions back to original scale\n",
    "trainPreds = scaler.inverse_transform(trainPreds)\n",
    "trainY = scaler.inverse_transform([trainY])\n",
    "\n",
    "testPredict = scaler.inverse_transform(testPreds)\n",
    "testY = scaler.inverse_transform([testY])"
   ]
  },
  {
   "cell_type": "code",
   "execution_count": 111,
   "metadata": {},
   "outputs": [
    {
     "name": "stdout",
     "output_type": "stream",
     "text": [
      "Train Score: 1603.50 RMSE\n",
      "Test Score: 206553.84 RMSE\n"
     ]
    }
   ],
   "source": [
    "# calculate mse\n",
    "trainScore = math.sqrt(mean_squared_error(trainY[0], trainPreds[:,0]))\n",
    "print('Train Score: %.2f RMSE' % (trainScore))\n",
    "\n",
    "testScore = math.sqrt(mean_squared_error(testY[0], testPreds[:,0]))\n",
    "print('Test Score: %.2f RMSE' % (testScore))"
   ]
  },
  {
   "cell_type": "code",
   "execution_count": 118,
   "metadata": {},
   "outputs": [
    {
     "name": "stdout",
     "output_type": "stream",
     "text": [
      "[[      nan]\n",
      " [      nan]\n",
      " [      nan]\n",
      " [146371.42]\n",
      " [146891.02]\n",
      " [147784.42]\n",
      " [147939.38]\n",
      " [148151.64]\n",
      " [148160.9 ]\n",
      " [147837.03]\n",
      " [148175.39]\n",
      " [148181.86]\n",
      " [148404.73]\n",
      " [148646.95]\n",
      " [      nan]\n",
      " [      nan]\n",
      " [      nan]\n",
      " [      nan]\n",
      " [      nan]\n",
      " [      nan]\n",
      " [      nan]\n",
      " [      nan]\n",
      " [      nan]\n",
      " [      nan]]\n",
      "[[       nan]\n",
      " [       nan]\n",
      " [       nan]\n",
      " [0.2274024 ]\n",
      " [0.28086665]\n",
      " [0.29818335]\n",
      " [0.31469756]\n",
      " [0.32814038]\n",
      " [       nan]\n",
      " [       nan]\n",
      " [       nan]\n",
      " [       nan]\n",
      " [       nan]\n",
      " [       nan]\n",
      " [       nan]\n",
      " [       nan]\n",
      " [       nan]\n",
      " [       nan]\n",
      " [       nan]\n",
      " [       nan]\n",
      " [       nan]\n",
      " [       nan]\n",
      " [       nan]\n",
      " [       nan]]\n"
     ]
    }
   ],
   "source": [
    "# convert train and test predictions so it is in correct format for plotting\n",
    "trainPredPlot = np.empty_like(dataset)\n",
    "trainPredPlot[:, :] = np.nan\n",
    "trainPredPlot[seq_size:len(trainPreds)+seq_size, :] = trainPreds\n",
    "print(trainPredPlot)\n",
    "\n",
    "testPredPlot = np.empty_like(dataset)\n",
    "testPredPlot[:, :] = np.nan\n",
    "testPredPlot[seq_size:len(testPreds)+seq_size, :] = testPreds\n",
    "print(testPredPlot)"
   ]
  },
  {
   "cell_type": "code",
   "execution_count": 119,
   "metadata": {},
   "outputs": [
    {
     "data": {
      "image/png": "[encoded data removed]",
      "text/plain": [
       "<Figure size 640x480 with 1 Axes>"
      ]
     },
     "metadata": {},
     "output_type": "display_data"
    }
   ],
   "source": [
    "# plot the output\n",
    "plt.plot(scaler.inverse_transform(dataset))\n",
    "plt.plot(trainPredPlot)\n",
    "plt.plot(testPredPlot)\n",
    "plt.show()"
   ]
  }
 ],
 "metadata": {
  "kernelspec": {
   "display_name": "Python 3",
   "language": "python",
   "name": "python3"
  },
  "language_info": {
   "codemirror_mode": {
    "name": "ipython",
    "version": 3
   },
   "file_extension": ".py",
   "mimetype": "text/x-python",
   "name": "python",
   "nbconvert_exporter": "python",
   "pygments_lexer": "ipython3",
   "version": "3.11.4"
  },
  "orig_nbformat": 4
 },
 "nbformat": 4,
 "nbformat_minor": 2
}
