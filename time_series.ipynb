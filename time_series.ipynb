{
 "cells": [
  {
   "cell_type": "markdown",
   "metadata": {},
   "source": [
    "## Apply time series for forecasting on number of students in metro east over time "
   ]
  },
  {
   "cell_type": "code",
   "execution_count": 54,
   "metadata": {},
   "outputs": [],
   "source": [
    "# load libraries\n",
    "import pandas as pd\n",
    "import numpy as np\n",
    "import matplotlib.pyplot as plt\n",
    "from statsmodels.graphics.tsaplots import plot_acf, plot_pacf\n",
    "from statsmodels.tsa.stattools import adfuller\n",
    "from statsmodels.tsa.arima.model import ARIMA\n",
    "from statsmodels.graphics.api import qqplot\n",
    "import statsmodels.api as sm\n",
    "import plotly.express as px\n",
    "from scipy import stats\n",
    "from sklearn.metrics import mean_squared_error\n",
    "from math import sqrt"
   ]
  },
  {
   "cell_type": "code",
   "execution_count": 55,
   "metadata": {},
   "outputs": [],
   "source": [
    "# load data\n",
    "enrollment_ts = pd.read_excel('eda/data/enrollment data.xlsx', sheet_name='Clean_PO_Detail')"
   ]
  },
  {
   "cell_type": "code",
   "execution_count": 56,
   "metadata": {},
   "outputs": [],
   "source": [
    "# variable to apply time series to\n",
    "grade = 'GR12'\n",
    "metro_name = 'METRO EAST'"
   ]
  },
  {
   "cell_type": "code",
   "execution_count": 57,
   "metadata": {},
   "outputs": [
    {
     "data": {
      "text/html": [
       "<div>\n",
       "<style scoped>\n",
       "    .dataframe tbody tr th:only-of-type {\n",
       "        vertical-align: middle;\n",
       "    }\n",
       "\n",
       "    .dataframe tbody tr th {\n",
       "        vertical-align: top;\n",
       "    }\n",
       "\n",
       "    .dataframe thead th {\n",
       "        text-align: right;\n",
       "    }\n",
       "</style>\n",
       "<table border=\"1\" class=\"dataframe\">\n",
       "  <thead>\n",
       "    <tr style=\"text-align: right;\">\n",
       "      <th></th>\n",
       "      <th>EDUC DISTRICT</th>\n",
       "      <th>YEAR</th>\n",
       "      <th>sum</th>\n",
       "    </tr>\n",
       "  </thead>\n",
       "  <tbody>\n",
       "    <tr>\n",
       "      <th>0</th>\n",
       "      <td>CAPE WINELANDS</td>\n",
       "      <td>2000</td>\n",
       "      <td>5864</td>\n",
       "    </tr>\n",
       "    <tr>\n",
       "      <th>1</th>\n",
       "      <td>CAPE WINELANDS</td>\n",
       "      <td>2001</td>\n",
       "      <td>5900</td>\n",
       "    </tr>\n",
       "    <tr>\n",
       "      <th>2</th>\n",
       "      <td>CAPE WINELANDS</td>\n",
       "      <td>2002</td>\n",
       "      <td>6153</td>\n",
       "    </tr>\n",
       "    <tr>\n",
       "      <th>3</th>\n",
       "      <td>CAPE WINELANDS</td>\n",
       "      <td>2003</td>\n",
       "      <td>5872</td>\n",
       "    </tr>\n",
       "    <tr>\n",
       "      <th>4</th>\n",
       "      <td>CAPE WINELANDS</td>\n",
       "      <td>2004</td>\n",
       "      <td>5725</td>\n",
       "    </tr>\n",
       "    <tr>\n",
       "      <th>...</th>\n",
       "      <td>...</td>\n",
       "      <td>...</td>\n",
       "      <td>...</td>\n",
       "    </tr>\n",
       "    <tr>\n",
       "      <th>187</th>\n",
       "      <td>WEST COAST</td>\n",
       "      <td>2019</td>\n",
       "      <td>2602</td>\n",
       "    </tr>\n",
       "    <tr>\n",
       "      <th>188</th>\n",
       "      <td>WEST COAST</td>\n",
       "      <td>2020</td>\n",
       "      <td>2702</td>\n",
       "    </tr>\n",
       "    <tr>\n",
       "      <th>189</th>\n",
       "      <td>WEST COAST</td>\n",
       "      <td>2021</td>\n",
       "      <td>2866</td>\n",
       "    </tr>\n",
       "    <tr>\n",
       "      <th>190</th>\n",
       "      <td>WEST COAST</td>\n",
       "      <td>2022</td>\n",
       "      <td>3183</td>\n",
       "    </tr>\n",
       "    <tr>\n",
       "      <th>191</th>\n",
       "      <td>WEST COAST</td>\n",
       "      <td>2023</td>\n",
       "      <td>3326</td>\n",
       "    </tr>\n",
       "  </tbody>\n",
       "</table>\n",
       "<p>192 rows × 3 columns</p>\n",
       "</div>"
      ],
      "text/plain": [
       "      EDUC DISTRICT  YEAR   sum\n",
       "0    CAPE WINELANDS  2000  5864\n",
       "1    CAPE WINELANDS  2001  5900\n",
       "2    CAPE WINELANDS  2002  6153\n",
       "3    CAPE WINELANDS  2003  5872\n",
       "4    CAPE WINELANDS  2004  5725\n",
       "..              ...   ...   ...\n",
       "187      WEST COAST  2019  2602\n",
       "188      WEST COAST  2020  2702\n",
       "189      WEST COAST  2021  2866\n",
       "190      WEST COAST  2022  3183\n",
       "191      WEST COAST  2023  3326\n",
       "\n",
       "[192 rows x 3 columns]"
      ]
     },
     "execution_count": 57,
     "metadata": {},
     "output_type": "execute_result"
    }
   ],
   "source": [
    "# group by district and circuit and sum the values together\n",
    "metro_enrollment = enrollment_ts.groupby(['EDUC DISTRICT', 'YEAR']).agg([sum])\n",
    "metro_enrollment = metro_enrollment[grade].reset_index()\n",
    "metro_enrollment"
   ]
  },
  {
   "cell_type": "code",
   "execution_count": 58,
   "metadata": {},
   "outputs": [
    {
     "data": {
      "application/vnd.plotly.v1+json": {
       "config": {
        "plotlyServerURL": "https://plot.ly"
       },
       "data": [
        {
         "hovertemplate": "EDUC DISTRICT=CAPE WINELANDS<br>Year=%{x}<br>student enrollment=%{y}<extra></extra>",
         "legendgroup": "CAPE WINELANDS",
         "line": {
          "color": "#636efa",
          "dash": "solid"
         },
         "marker": {
          "symbol": "circle"
         },
         "mode": "lines",
         "name": "CAPE WINELANDS",
         "orientation": "v",
         "showlegend": true,
         "type": "scatter",
         "x": [
          2000,
          2001,
          2002,
          2003,
          2004,
          2005,
          2006,
          2007,
          2008,
          2009,
          2010,
          2011,
          2012,
          2013,
          2014,
          2015,
          2016,
          2017,
          2018,
          2019,
          2020,
          2021,
          2022,
          2023
         ],
         "xaxis": "x",
         "y": [
          5864,
          5900,
          6153,
          5872,
          5725,
          5576,
          6033,
          6305,
          6546,
          7033,
          6753,
          5859,
          6500,
          6926,
          7088,
          8366,
          7792,
          7271,
          7946,
          7868,
          7731,
          8787,
          8889,
          9041
         ],
         "yaxis": "y"
        },
        {
         "hovertemplate": "EDUC DISTRICT=EDEN AND CENTRAL KAROO<br>Year=%{x}<br>student enrollment=%{y}<extra></extra>",
         "legendgroup": "EDEN AND CENTRAL KAROO",
         "line": {
          "color": "#EF553B",
          "dash": "solid"
         },
         "marker": {
          "symbol": "circle"
         },
         "mode": "lines",
         "name": "EDEN AND CENTRAL KAROO",
         "orientation": "v",
         "showlegend": true,
         "type": "scatter",
         "x": [
          2000,
          2001,
          2002,
          2003,
          2004,
          2005,
          2006,
          2007,
          2008,
          2009,
          2010,
          2011,
          2012,
          2013,
          2014,
          2015,
          2016,
          2017,
          2018,
          2019,
          2020,
          2021,
          2022,
          2023
         ],
         "xaxis": "x",
         "y": [
          4546,
          4248,
          4398,
          4075,
          4020,
          4164,
          4368,
          4566,
          4556,
          5008,
          4990,
          4267,
          4856,
          5345,
          5669,
          6337,
          5927,
          5406,
          5934,
          5423,
          5878,
          6208,
          6467,
          6622
         ],
         "yaxis": "y"
        },
        {
         "hovertemplate": "EDUC DISTRICT=METRO CENTRAL<br>Year=%{x}<br>student enrollment=%{y}<extra></extra>",
         "legendgroup": "METRO CENTRAL",
         "line": {
          "color": "#00cc96",
          "dash": "solid"
         },
         "marker": {
          "symbol": "circle"
         },
         "mode": "lines",
         "name": "METRO CENTRAL",
         "orientation": "v",
         "showlegend": true,
         "type": "scatter",
         "x": [
          2000,
          2001,
          2002,
          2003,
          2004,
          2005,
          2006,
          2007,
          2008,
          2009,
          2010,
          2011,
          2012,
          2013,
          2014,
          2015,
          2016,
          2017,
          2018,
          2019,
          2020,
          2021,
          2022,
          2023
         ],
         "xaxis": "x",
         "y": [
          9360,
          8635,
          8907,
          7921,
          7880,
          7618,
          7539,
          7881,
          7122,
          8356,
          6457,
          5837,
          6291,
          6758,
          6935,
          7868,
          7003,
          7276,
          7012,
          7141,
          7053,
          8144,
          8346,
          8733
         ],
         "yaxis": "y"
        },
        {
         "hovertemplate": "EDUC DISTRICT=METRO EAST<br>Year=%{x}<br>student enrollment=%{y}<extra></extra>",
         "legendgroup": "METRO EAST",
         "line": {
          "color": "#ab63fa",
          "dash": "solid"
         },
         "marker": {
          "symbol": "circle"
         },
         "mode": "lines",
         "name": "METRO EAST",
         "orientation": "v",
         "showlegend": true,
         "type": "scatter",
         "x": [
          2000,
          2001,
          2002,
          2003,
          2004,
          2005,
          2006,
          2007,
          2008,
          2009,
          2010,
          2011,
          2012,
          2013,
          2014,
          2015,
          2016,
          2017,
          2018,
          2019,
          2020,
          2021,
          2022,
          2023
         ],
         "xaxis": "x",
         "y": [
          5574,
          5419,
          5623,
          5791,
          6053,
          6136,
          6197,
          6937,
          7114,
          7054,
          7698,
          6476,
          6853,
          7426,
          7052,
          8449,
          9396,
          9055,
          9510,
          9660,
          10151,
          10979,
          11421,
          11691
         ],
         "yaxis": "y"
        },
        {
         "hovertemplate": "EDUC DISTRICT=METRO NORTH<br>Year=%{x}<br>student enrollment=%{y}<extra></extra>",
         "legendgroup": "METRO NORTH",
         "line": {
          "color": "#FFA15A",
          "dash": "solid"
         },
         "marker": {
          "symbol": "circle"
         },
         "mode": "lines",
         "name": "METRO NORTH",
         "orientation": "v",
         "showlegend": true,
         "type": "scatter",
         "x": [
          2000,
          2001,
          2002,
          2003,
          2004,
          2005,
          2006,
          2007,
          2008,
          2009,
          2010,
          2011,
          2012,
          2013,
          2014,
          2015,
          2016,
          2017,
          2018,
          2019,
          2020,
          2021,
          2022,
          2023
         ],
         "xaxis": "x",
         "y": [
          6775,
          6693,
          6571,
          6919,
          6707,
          6863,
          6781,
          7461,
          8070,
          7996,
          8127,
          7505,
          8018,
          8606,
          9163,
          10252,
          8073,
          7838,
          7833,
          8056,
          7989,
          9014,
          9155,
          9940
         ],
         "yaxis": "y"
        },
        {
         "hovertemplate": "EDUC DISTRICT=METRO SOUTH<br>Year=%{x}<br>student enrollment=%{y}<extra></extra>",
         "legendgroup": "METRO SOUTH",
         "line": {
          "color": "#19d3f3",
          "dash": "solid"
         },
         "marker": {
          "symbol": "circle"
         },
         "mode": "lines",
         "name": "METRO SOUTH",
         "orientation": "v",
         "showlegend": true,
         "type": "scatter",
         "x": [
          2000,
          2001,
          2002,
          2003,
          2004,
          2005,
          2006,
          2007,
          2008,
          2009,
          2010,
          2011,
          2012,
          2013,
          2014,
          2015,
          2016,
          2017,
          2018,
          2019,
          2020,
          2021,
          2022,
          2023
         ],
         "xaxis": "x",
         "y": [
          5751,
          5801,
          5650,
          5902,
          5909,
          5840,
          6311,
          6121,
          6465,
          6615,
          7126,
          5744,
          7036,
          7261,
          7264,
          8803,
          8417,
          8395,
          8749,
          8345,
          8759,
          9651,
          10200,
          10176
         ],
         "yaxis": "y"
        },
        {
         "hovertemplate": "EDUC DISTRICT=OVERBERG<br>Year=%{x}<br>student enrollment=%{y}<extra></extra>",
         "legendgroup": "OVERBERG",
         "line": {
          "color": "#FF6692",
          "dash": "solid"
         },
         "marker": {
          "symbol": "circle"
         },
         "mode": "lines",
         "name": "OVERBERG",
         "orientation": "v",
         "showlegend": true,
         "type": "scatter",
         "x": [
          2000,
          2001,
          2002,
          2003,
          2004,
          2005,
          2006,
          2007,
          2008,
          2009,
          2010,
          2011,
          2012,
          2013,
          2014,
          2015,
          2016,
          2017,
          2018,
          2019,
          2020,
          2021,
          2022,
          2023
         ],
         "xaxis": "x",
         "y": [
          1262,
          1274,
          1355,
          1340,
          1304,
          1303,
          1213,
          1344,
          1482,
          1506,
          1694,
          1324,
          1452,
          1551,
          1518,
          1912,
          1718,
          1790,
          1981,
          1981,
          2111,
          2142,
          2275,
          2424
         ],
         "yaxis": "y"
        },
        {
         "hovertemplate": "EDUC DISTRICT=WEST COAST<br>Year=%{x}<br>student enrollment=%{y}<extra></extra>",
         "legendgroup": "WEST COAST",
         "line": {
          "color": "#B6E880",
          "dash": "solid"
         },
         "marker": {
          "symbol": "circle"
         },
         "mode": "lines",
         "name": "WEST COAST",
         "orientation": "v",
         "showlegend": true,
         "type": "scatter",
         "x": [
          2000,
          2001,
          2002,
          2003,
          2004,
          2005,
          2006,
          2007,
          2008,
          2009,
          2010,
          2011,
          2012,
          2013,
          2014,
          2015,
          2016,
          2017,
          2018,
          2019,
          2020,
          2021,
          2022,
          2023
         ],
         "xaxis": "x",
         "y": [
          1864,
          1940,
          1811,
          1824,
          1853,
          1803,
          1756,
          2009,
          2115,
          2124,
          2031,
          1978,
          2105,
          2162,
          2157,
          2403,
          2578,
          2423,
          2494,
          2602,
          2702,
          2866,
          3183,
          3326
         ],
         "yaxis": "y"
        }
       ],
       "layout": {
        "legend": {
         "title": {
          "text": "EDUC DISTRICT"
         },
         "tracegroupgap": 0
        },
        "template": {
         "data": {
          "bar": [
           {
            "error_x": {
             "color": "#2a3f5f"
            },
            "error_y": {
             "color": "#2a3f5f"
            },
            "marker": {
             "line": {
              "color": "#E5ECF6",
              "width": 0.5
             },
             "pattern": {
              "fillmode": "overlay",
              "size": 10,
              "solidity": 0.2
             }
            },
            "type": "bar"
           }
          ],
          "barpolar": [
           {
            "marker": {
             "line": {
              "color": "#E5ECF6",
              "width": 0.5
             },
             "pattern": {
              "fillmode": "overlay",
              "size": 10,
              "solidity": 0.2
             }
            },
            "type": "barpolar"
           }
          ],
          "carpet": [
           {
            "aaxis": {
             "endlinecolor": "#2a3f5f",
             "gridcolor": "white",
             "linecolor": "white",
             "minorgridcolor": "white",
             "startlinecolor": "#2a3f5f"
            },
            "baxis": {
             "endlinecolor": "#2a3f5f",
             "gridcolor": "white",
             "linecolor": "white",
             "minorgridcolor": "white",
             "startlinecolor": "#2a3f5f"
            },
            "type": "carpet"
           }
          ],
          "choropleth": [
           {
            "colorbar": {
             "outlinewidth": 0,
             "ticks": ""
            },
            "type": "choropleth"
           }
          ],
          "contour": [
           {
            "colorbar": {
             "outlinewidth": 0,
             "ticks": ""
            },
            "colorscale": [
             [
              0,
              "#0d0887"
             ],
             [
              0.1111111111111111,
              "#46039f"
             ],
             [
              0.2222222222222222,
              "#7201a8"
             ],
             [
              0.3333333333333333,
              "#9c179e"
             ],
             [
              0.4444444444444444,
              "#bd3786"
             ],
             [
              0.5555555555555556,
              "#d8576b"
             ],
             [
              0.6666666666666666,
              "#ed7953"
             ],
             [
              0.7777777777777778,
              "#fb9f3a"
             ],
             [
              0.8888888888888888,
              "#fdca26"
             ],
             [
              1,
              "#f0f921"
             ]
            ],
            "type": "contour"
           }
          ],
          "contourcarpet": [
           {
            "colorbar": {
             "outlinewidth": 0,
             "ticks": ""
            },
            "type": "contourcarpet"
           }
          ],
          "heatmap": [
           {
            "colorbar": {
             "outlinewidth": 0,
             "ticks": ""
            },
            "colorscale": [
             [
              0,
              "#0d0887"
             ],
             [
              0.1111111111111111,
              "#46039f"
             ],
             [
              0.2222222222222222,
              "#7201a8"
             ],
             [
              0.3333333333333333,
              "#9c179e"
             ],
             [
              0.4444444444444444,
              "#bd3786"
             ],
             [
              0.5555555555555556,
              "#d8576b"
             ],
             [
              0.6666666666666666,
              "#ed7953"
             ],
             [
              0.7777777777777778,
              "#fb9f3a"
             ],
             [
              0.8888888888888888,
              "#fdca26"
             ],
             [
              1,
              "#f0f921"
             ]
            ],
            "type": "heatmap"
           }
          ],
          "heatmapgl": [
           {
            "colorbar": {
             "outlinewidth": 0,
             "ticks": ""
            },
            "colorscale": [
             [
              0,
              "#0d0887"
             ],
             [
              0.1111111111111111,
              "#46039f"
             ],
             [
              0.2222222222222222,
              "#7201a8"
             ],
             [
              0.3333333333333333,
              "#9c179e"
             ],
             [
              0.4444444444444444,
              "#bd3786"
             ],
             [
              0.5555555555555556,
              "#d8576b"
             ],
             [
              0.6666666666666666,
              "#ed7953"
             ],
             [
              0.7777777777777778,
              "#fb9f3a"
             ],
             [
              0.8888888888888888,
              "#fdca26"
             ],
             [
              1,
              "#f0f921"
             ]
            ],
            "type": "heatmapgl"
           }
          ],
          "histogram": [
           {
            "marker": {
             "pattern": {
              "fillmode": "overlay",
              "size": 10,
              "solidity": 0.2
             }
            },
            "type": "histogram"
           }
          ],
          "histogram2d": [
           {
            "colorbar": {
             "outlinewidth": 0,
             "ticks": ""
            },
            "colorscale": [
             [
              0,
              "#0d0887"
             ],
             [
              0.1111111111111111,
              "#46039f"
             ],
             [
              0.2222222222222222,
              "#7201a8"
             ],
             [
              0.3333333333333333,
              "#9c179e"
             ],
             [
              0.4444444444444444,
              "#bd3786"
             ],
             [
              0.5555555555555556,
              "#d8576b"
             ],
             [
              0.6666666666666666,
              "#ed7953"
             ],
             [
              0.7777777777777778,
              "#fb9f3a"
             ],
             [
              0.8888888888888888,
              "#fdca26"
             ],
             [
              1,
              "#f0f921"
             ]
            ],
            "type": "histogram2d"
           }
          ],
          "histogram2dcontour": [
           {
            "colorbar": {
             "outlinewidth": 0,
             "ticks": ""
            },
            "colorscale": [
             [
              0,
              "#0d0887"
             ],
             [
              0.1111111111111111,
              "#46039f"
             ],
             [
              0.2222222222222222,
              "#7201a8"
             ],
             [
              0.3333333333333333,
              "#9c179e"
             ],
             [
              0.4444444444444444,
              "#bd3786"
             ],
             [
              0.5555555555555556,
              "#d8576b"
             ],
             [
              0.6666666666666666,
              "#ed7953"
             ],
             [
              0.7777777777777778,
              "#fb9f3a"
             ],
             [
              0.8888888888888888,
              "#fdca26"
             ],
             [
              1,
              "#f0f921"
             ]
            ],
            "type": "histogram2dcontour"
           }
          ],
          "mesh3d": [
           {
            "colorbar": {
             "outlinewidth": 0,
             "ticks": ""
            },
            "type": "mesh3d"
           }
          ],
          "parcoords": [
           {
            "line": {
             "colorbar": {
              "outlinewidth": 0,
              "ticks": ""
             }
            },
            "type": "parcoords"
           }
          ],
          "pie": [
           {
            "automargin": true,
            "type": "pie"
           }
          ],
          "scatter": [
           {
            "fillpattern": {
             "fillmode": "overlay",
             "size": 10,
             "solidity": 0.2
            },
            "type": "scatter"
           }
          ],
          "scatter3d": [
           {
            "line": {
             "colorbar": {
              "outlinewidth": 0,
              "ticks": ""
             }
            },
            "marker": {
             "colorbar": {
              "outlinewidth": 0,
              "ticks": ""
             }
            },
            "type": "scatter3d"
           }
          ],
          "scattercarpet": [
           {
            "marker": {
             "colorbar": {
              "outlinewidth": 0,
              "ticks": ""
             }
            },
            "type": "scattercarpet"
           }
          ],
          "scattergeo": [
           {
            "marker": {
             "colorbar": {
              "outlinewidth": 0,
              "ticks": ""
             }
            },
            "type": "scattergeo"
           }
          ],
          "scattergl": [
           {
            "marker": {
             "colorbar": {
              "outlinewidth": 0,
              "ticks": ""
             }
            },
            "type": "scattergl"
           }
          ],
          "scattermapbox": [
           {
            "marker": {
             "colorbar": {
              "outlinewidth": 0,
              "ticks": ""
             }
            },
            "type": "scattermapbox"
           }
          ],
          "scatterpolar": [
           {
            "marker": {
             "colorbar": {
              "outlinewidth": 0,
              "ticks": ""
             }
            },
            "type": "scatterpolar"
           }
          ],
          "scatterpolargl": [
           {
            "marker": {
             "colorbar": {
              "outlinewidth": 0,
              "ticks": ""
             }
            },
            "type": "scatterpolargl"
           }
          ],
          "scatterternary": [
           {
            "marker": {
             "colorbar": {
              "outlinewidth": 0,
              "ticks": ""
             }
            },
            "type": "scatterternary"
           }
          ],
          "surface": [
           {
            "colorbar": {
             "outlinewidth": 0,
             "ticks": ""
            },
            "colorscale": [
             [
              0,
              "#0d0887"
             ],
             [
              0.1111111111111111,
              "#46039f"
             ],
             [
              0.2222222222222222,
              "#7201a8"
             ],
             [
              0.3333333333333333,
              "#9c179e"
             ],
             [
              0.4444444444444444,
              "#bd3786"
             ],
             [
              0.5555555555555556,
              "#d8576b"
             ],
             [
              0.6666666666666666,
              "#ed7953"
             ],
             [
              0.7777777777777778,
              "#fb9f3a"
             ],
             [
              0.8888888888888888,
              "#fdca26"
             ],
             [
              1,
              "#f0f921"
             ]
            ],
            "type": "surface"
           }
          ],
          "table": [
           {
            "cells": {
             "fill": {
              "color": "#EBF0F8"
             },
             "line": {
              "color": "white"
             }
            },
            "header": {
             "fill": {
              "color": "#C8D4E3"
             },
             "line": {
              "color": "white"
             }
            },
            "type": "table"
           }
          ]
         },
         "layout": {
          "annotationdefaults": {
           "arrowcolor": "#2a3f5f",
           "arrowhead": 0,
           "arrowwidth": 1
          },
          "autotypenumbers": "strict",
          "coloraxis": {
           "colorbar": {
            "outlinewidth": 0,
            "ticks": ""
           }
          },
          "colorscale": {
           "diverging": [
            [
             0,
             "#8e0152"
            ],
            [
             0.1,
             "#c51b7d"
            ],
            [
             0.2,
             "#de77ae"
            ],
            [
             0.3,
             "#f1b6da"
            ],
            [
             0.4,
             "#fde0ef"
            ],
            [
             0.5,
             "#f7f7f7"
            ],
            [
             0.6,
             "#e6f5d0"
            ],
            [
             0.7,
             "#b8e186"
            ],
            [
             0.8,
             "#7fbc41"
            ],
            [
             0.9,
             "#4d9221"
            ],
            [
             1,
             "#276419"
            ]
           ],
           "sequential": [
            [
             0,
             "#0d0887"
            ],
            [
             0.1111111111111111,
             "#46039f"
            ],
            [
             0.2222222222222222,
             "#7201a8"
            ],
            [
             0.3333333333333333,
             "#9c179e"
            ],
            [
             0.4444444444444444,
             "#bd3786"
            ],
            [
             0.5555555555555556,
             "#d8576b"
            ],
            [
             0.6666666666666666,
             "#ed7953"
            ],
            [
             0.7777777777777778,
             "#fb9f3a"
            ],
            [
             0.8888888888888888,
             "#fdca26"
            ],
            [
             1,
             "#f0f921"
            ]
           ],
           "sequentialminus": [
            [
             0,
             "#0d0887"
            ],
            [
             0.1111111111111111,
             "#46039f"
            ],
            [
             0.2222222222222222,
             "#7201a8"
            ],
            [
             0.3333333333333333,
             "#9c179e"
            ],
            [
             0.4444444444444444,
             "#bd3786"
            ],
            [
             0.5555555555555556,
             "#d8576b"
            ],
            [
             0.6666666666666666,
             "#ed7953"
            ],
            [
             0.7777777777777778,
             "#fb9f3a"
            ],
            [
             0.8888888888888888,
             "#fdca26"
            ],
            [
             1,
             "#f0f921"
            ]
           ]
          },
          "colorway": [
           "#636efa",
           "#EF553B",
           "#00cc96",
           "#ab63fa",
           "#FFA15A",
           "#19d3f3",
           "#FF6692",
           "#B6E880",
           "#FF97FF",
           "#FECB52"
          ],
          "font": {
           "color": "#2a3f5f"
          },
          "geo": {
           "bgcolor": "white",
           "lakecolor": "white",
           "landcolor": "#E5ECF6",
           "showlakes": true,
           "showland": true,
           "subunitcolor": "white"
          },
          "hoverlabel": {
           "align": "left"
          },
          "hovermode": "closest",
          "mapbox": {
           "style": "light"
          },
          "paper_bgcolor": "white",
          "plot_bgcolor": "#E5ECF6",
          "polar": {
           "angularaxis": {
            "gridcolor": "white",
            "linecolor": "white",
            "ticks": ""
           },
           "bgcolor": "#E5ECF6",
           "radialaxis": {
            "gridcolor": "white",
            "linecolor": "white",
            "ticks": ""
           }
          },
          "scene": {
           "xaxis": {
            "backgroundcolor": "#E5ECF6",
            "gridcolor": "white",
            "gridwidth": 2,
            "linecolor": "white",
            "showbackground": true,
            "ticks": "",
            "zerolinecolor": "white"
           },
           "yaxis": {
            "backgroundcolor": "#E5ECF6",
            "gridcolor": "white",
            "gridwidth": 2,
            "linecolor": "white",
            "showbackground": true,
            "ticks": "",
            "zerolinecolor": "white"
           },
           "zaxis": {
            "backgroundcolor": "#E5ECF6",
            "gridcolor": "white",
            "gridwidth": 2,
            "linecolor": "white",
            "showbackground": true,
            "ticks": "",
            "zerolinecolor": "white"
           }
          },
          "shapedefaults": {
           "line": {
            "color": "#2a3f5f"
           }
          },
          "ternary": {
           "aaxis": {
            "gridcolor": "white",
            "linecolor": "white",
            "ticks": ""
           },
           "baxis": {
            "gridcolor": "white",
            "linecolor": "white",
            "ticks": ""
           },
           "bgcolor": "#E5ECF6",
           "caxis": {
            "gridcolor": "white",
            "linecolor": "white",
            "ticks": ""
           }
          },
          "title": {
           "x": 0.05
          },
          "xaxis": {
           "automargin": true,
           "gridcolor": "white",
           "linecolor": "white",
           "ticks": "",
           "title": {
            "standoff": 15
           },
           "zerolinecolor": "white",
           "zerolinewidth": 2
          },
          "yaxis": {
           "automargin": true,
           "gridcolor": "white",
           "linecolor": "white",
           "ticks": "",
           "title": {
            "standoff": 15
           },
           "zerolinecolor": "white",
           "zerolinewidth": 2
          }
         }
        },
        "title": {
         "text": "Enrollment Time Series"
        },
        "xaxis": {
         "anchor": "y",
         "domain": [
          0,
          1
         ],
         "title": {
          "text": "Year"
         }
        },
        "yaxis": {
         "anchor": "x",
         "domain": [
          0,
          1
         ],
         "title": {
          "text": "student enrollment"
         }
        }
       }
      }
     },
     "metadata": {},
     "output_type": "display_data"
    }
   ],
   "source": [
    "# create plotly plot of metro enrollments\n",
    "fig = px.line(metro_enrollment, x='YEAR', y='sum', color='EDUC DISTRICT',\n",
    "    labels={\n",
    "        'sum': 'student enrollment',\n",
    "        'YEAR': 'Year',\n",
    "        'variable': 'Metro'\n",
    "    },\n",
    "title = 'Enrollment Time Series')\n",
    "fig.show()"
   ]
  },
  {
   "cell_type": "code",
   "execution_count": 59,
   "metadata": {},
   "outputs": [
    {
     "data": {
      "text/html": [
       "<div>\n",
       "<style scoped>\n",
       "    .dataframe tbody tr th:only-of-type {\n",
       "        vertical-align: middle;\n",
       "    }\n",
       "\n",
       "    .dataframe tbody tr th {\n",
       "        vertical-align: top;\n",
       "    }\n",
       "\n",
       "    .dataframe thead th {\n",
       "        text-align: right;\n",
       "    }\n",
       "</style>\n",
       "<table border=\"1\" class=\"dataframe\">\n",
       "  <thead>\n",
       "    <tr style=\"text-align: right;\">\n",
       "      <th></th>\n",
       "      <th>EDUC DISTRICT</th>\n",
       "      <th>YEAR</th>\n",
       "      <th>GR12</th>\n",
       "    </tr>\n",
       "  </thead>\n",
       "  <tbody>\n",
       "    <tr>\n",
       "      <th>72</th>\n",
       "      <td>METRO EAST</td>\n",
       "      <td>2000</td>\n",
       "      <td>5574</td>\n",
       "    </tr>\n",
       "    <tr>\n",
       "      <th>73</th>\n",
       "      <td>METRO EAST</td>\n",
       "      <td>2001</td>\n",
       "      <td>5419</td>\n",
       "    </tr>\n",
       "    <tr>\n",
       "      <th>74</th>\n",
       "      <td>METRO EAST</td>\n",
       "      <td>2002</td>\n",
       "      <td>5623</td>\n",
       "    </tr>\n",
       "    <tr>\n",
       "      <th>75</th>\n",
       "      <td>METRO EAST</td>\n",
       "      <td>2003</td>\n",
       "      <td>5791</td>\n",
       "    </tr>\n",
       "    <tr>\n",
       "      <th>76</th>\n",
       "      <td>METRO EAST</td>\n",
       "      <td>2004</td>\n",
       "      <td>6053</td>\n",
       "    </tr>\n",
       "    <tr>\n",
       "      <th>77</th>\n",
       "      <td>METRO EAST</td>\n",
       "      <td>2005</td>\n",
       "      <td>6136</td>\n",
       "    </tr>\n",
       "    <tr>\n",
       "      <th>78</th>\n",
       "      <td>METRO EAST</td>\n",
       "      <td>2006</td>\n",
       "      <td>6197</td>\n",
       "    </tr>\n",
       "    <tr>\n",
       "      <th>79</th>\n",
       "      <td>METRO EAST</td>\n",
       "      <td>2007</td>\n",
       "      <td>6937</td>\n",
       "    </tr>\n",
       "    <tr>\n",
       "      <th>80</th>\n",
       "      <td>METRO EAST</td>\n",
       "      <td>2008</td>\n",
       "      <td>7114</td>\n",
       "    </tr>\n",
       "    <tr>\n",
       "      <th>81</th>\n",
       "      <td>METRO EAST</td>\n",
       "      <td>2009</td>\n",
       "      <td>7054</td>\n",
       "    </tr>\n",
       "    <tr>\n",
       "      <th>82</th>\n",
       "      <td>METRO EAST</td>\n",
       "      <td>2010</td>\n",
       "      <td>7698</td>\n",
       "    </tr>\n",
       "    <tr>\n",
       "      <th>83</th>\n",
       "      <td>METRO EAST</td>\n",
       "      <td>2011</td>\n",
       "      <td>6476</td>\n",
       "    </tr>\n",
       "    <tr>\n",
       "      <th>84</th>\n",
       "      <td>METRO EAST</td>\n",
       "      <td>2012</td>\n",
       "      <td>6853</td>\n",
       "    </tr>\n",
       "    <tr>\n",
       "      <th>85</th>\n",
       "      <td>METRO EAST</td>\n",
       "      <td>2013</td>\n",
       "      <td>7426</td>\n",
       "    </tr>\n",
       "    <tr>\n",
       "      <th>86</th>\n",
       "      <td>METRO EAST</td>\n",
       "      <td>2014</td>\n",
       "      <td>7052</td>\n",
       "    </tr>\n",
       "    <tr>\n",
       "      <th>87</th>\n",
       "      <td>METRO EAST</td>\n",
       "      <td>2015</td>\n",
       "      <td>8449</td>\n",
       "    </tr>\n",
       "    <tr>\n",
       "      <th>88</th>\n",
       "      <td>METRO EAST</td>\n",
       "      <td>2016</td>\n",
       "      <td>9396</td>\n",
       "    </tr>\n",
       "    <tr>\n",
       "      <th>89</th>\n",
       "      <td>METRO EAST</td>\n",
       "      <td>2017</td>\n",
       "      <td>9055</td>\n",
       "    </tr>\n",
       "    <tr>\n",
       "      <th>90</th>\n",
       "      <td>METRO EAST</td>\n",
       "      <td>2018</td>\n",
       "      <td>9510</td>\n",
       "    </tr>\n",
       "    <tr>\n",
       "      <th>91</th>\n",
       "      <td>METRO EAST</td>\n",
       "      <td>2019</td>\n",
       "      <td>9660</td>\n",
       "    </tr>\n",
       "    <tr>\n",
       "      <th>92</th>\n",
       "      <td>METRO EAST</td>\n",
       "      <td>2020</td>\n",
       "      <td>10151</td>\n",
       "    </tr>\n",
       "    <tr>\n",
       "      <th>93</th>\n",
       "      <td>METRO EAST</td>\n",
       "      <td>2021</td>\n",
       "      <td>10979</td>\n",
       "    </tr>\n",
       "    <tr>\n",
       "      <th>94</th>\n",
       "      <td>METRO EAST</td>\n",
       "      <td>2022</td>\n",
       "      <td>11421</td>\n",
       "    </tr>\n",
       "    <tr>\n",
       "      <th>95</th>\n",
       "      <td>METRO EAST</td>\n",
       "      <td>2023</td>\n",
       "      <td>11691</td>\n",
       "    </tr>\n",
       "  </tbody>\n",
       "</table>\n",
       "</div>"
      ],
      "text/plain": [
       "   EDUC DISTRICT  YEAR   GR12\n",
       "72    METRO EAST  2000   5574\n",
       "73    METRO EAST  2001   5419\n",
       "74    METRO EAST  2002   5623\n",
       "75    METRO EAST  2003   5791\n",
       "76    METRO EAST  2004   6053\n",
       "77    METRO EAST  2005   6136\n",
       "78    METRO EAST  2006   6197\n",
       "79    METRO EAST  2007   6937\n",
       "80    METRO EAST  2008   7114\n",
       "81    METRO EAST  2009   7054\n",
       "82    METRO EAST  2010   7698\n",
       "83    METRO EAST  2011   6476\n",
       "84    METRO EAST  2012   6853\n",
       "85    METRO EAST  2013   7426\n",
       "86    METRO EAST  2014   7052\n",
       "87    METRO EAST  2015   8449\n",
       "88    METRO EAST  2016   9396\n",
       "89    METRO EAST  2017   9055\n",
       "90    METRO EAST  2018   9510\n",
       "91    METRO EAST  2019   9660\n",
       "92    METRO EAST  2020  10151\n",
       "93    METRO EAST  2021  10979\n",
       "94    METRO EAST  2022  11421\n",
       "95    METRO EAST  2023  11691"
      ]
     },
     "execution_count": 59,
     "metadata": {},
     "output_type": "execute_result"
    }
   ],
   "source": [
    "# method to subset data according to metro and variable to count for further analysis\n",
    "def filter_df(df, metro, variable):\n",
    "    \n",
    "    metro_enrollment = df.groupby(['EDUC DISTRICT', 'YEAR']).agg([sum]) # group by education district\n",
    "    metro_enrollment = metro_enrollment[str(variable)].reset_index()\n",
    "\n",
    "    return metro_enrollment[metro_enrollment['EDUC DISTRICT'] == metro].rename(columns = {'sum':str(variable)})\n",
    "\n",
    "enrollment_subset = filter_df(enrollment_ts, metro_name, grade)\n",
    "enrollment_subset"
   ]
  },
  {
   "cell_type": "code",
   "execution_count": 60,
   "metadata": {},
   "outputs": [],
   "source": [
    "# method to make the data stationary\n",
    "def subtract_from_previous(arr):\n",
    "    if len(arr) == 0:\n",
    "        return []\n",
    "\n",
    "    return [arr[i] - arr[i - 1] for i in range(1, len(arr))]"
   ]
  },
  {
   "cell_type": "code",
   "execution_count": 61,
   "metadata": {},
   "outputs": [
    {
     "data": {
      "text/plain": [
       "[0.9975000694311603, 0.060123942823251925]"
      ]
     },
     "execution_count": 61,
     "metadata": {},
     "output_type": "execute_result"
    },
    {
     "data": {
      "image/png": "[encoded data removed]",
      "text/plain": [
       "<Figure size 2000x1500 with 4 Axes>"
      ]
     },
     "metadata": {},
     "output_type": "display_data"
    }
   ],
   "source": [
    "# This function plots time series of student enrollment for a given metro, circuit and grade\n",
    "# If the time series is not stationary it is converted so that it is stationary and the stationary plot will be plotted\n",
    "# the pacf and acf plots are also plotted\n",
    "fig, axes = plt.subplots(4, 1, figsize=(20,15))\n",
    "\n",
    "# def plot_learner_ts(metro, circuit, count_var):\n",
    "def plot_learner_ts(df_subset):\n",
    "    count_var = df_subset.iloc[:,[2]].columns.values[0]\n",
    "    \n",
    "    # do stationarity test (augmented Dickey-Fuller test)\n",
    "    adf_val = adfuller(df_subset[str(count_var)])\n",
    "    \n",
    "    # if p val > 0.05 then time series is not stationary. If p value < 0.05 then it is stationary\n",
    "    # if time series is stationary then convert to stationary plot\n",
    "    if adf_val[1] > 0.05:\n",
    "        # plot number of students over time\n",
    "        axes[0].plot(df_subset['YEAR'], (df_subset[str(count_var)]))\n",
    "        axes[0].set_title('Time Series')\n",
    "        axes[0].set_xlabel('Year')\n",
    "        axes[0].set_ylabel('Number of students enrolled to school')\n",
    "\n",
    "        # convert time series to stationary time series\n",
    "        transformed_ts = subtract_from_previous(np.array(df_subset[str(count_var)]))\n",
    "        transformed_adf = adfuller(transformed_ts)\n",
    "\n",
    "        axes[1].plot(df_subset['YEAR'][1:], transformed_ts) # time series for stationary plot\n",
    "        axes[1].set_title('Stationary Time Series')\n",
    "        axes[1].set_xlabel('Year')\n",
    "        axes[1].set_ylabel('Number of students enrolled to school')\n",
    "\n",
    "        # plot ACF (see https://www.youtube.com/watch?v=y8opUEd05Dg&list=PLvcbYUQ5t0UHOLnBzl46_Q6QKtFgfMGc3&index=3)\n",
    "        acf_plot = plot_acf(np.array(transformed_ts), ax=axes[2]) # acf for stationary plot\n",
    "\n",
    "        # plot PACF (see https://www.youtube.com/watch?v=y8opUEd05Dg&list=PLvcbYUQ5t0UHOLnBzl46_Q6QKtFgfMGc3&index=3)\n",
    "        pacf_plot = plot_pacf(transformed_ts, lags=5, ax=axes[3]) # pacf for stationary plot\n",
    "    \n",
    "    # if the time series is already stationary then plot the time series, acf and pacf plots as is\n",
    "    else:\n",
    "        # plot number of students over time\n",
    "        axes[0].plot(df_subset['YEAR'], (df_subset[str(count_var)]))\n",
    "        axes[0].set_title('Time Series')\n",
    "        axes[0].set_xlabel('Year')\n",
    "        axes[0].set_ylabel('Number of students enrolled to school')\n",
    "\n",
    "        # plot ACF (see https://www.youtube.com/watch?v=y8opUEd05Dg&list=PLvcbYUQ5t0UHOLnBzl46_Q6QKtFgfMGc3&index=3)\n",
    "        acf_plot = plot_acf(df_subset[str(count_var)], ax=axes[2])\n",
    "\n",
    "        # plot PACF (see https://www.youtube.com/watch?v=y8opUEd05Dg&list=PLvcbYUQ5t0UHOLnBzl46_Q6QKtFgfMGc3&index=3)\n",
    "        pacf_plot = plot_pacf(df_subset[str(count_var)], lags=2, ax=axes[3])\n",
    "\n",
    "    # plot all graphs on same grid\n",
    "    plt.tight_layout()\n",
    "\n",
    "    # return transformed adf only if the transformation needed to happen\n",
    "    if adf_val[1] > 0.05:\n",
    "        return [adf_val[1], transformed_adf[1]]\n",
    "    else:\n",
    "        return adf_val[1]\n",
    "\n",
    "plot_learner_ts(enrollment_subset)"
   ]
  },
  {
   "cell_type": "code",
   "execution_count": 62,
   "metadata": {},
   "outputs": [],
   "source": [
    "# save actual values and forecasted values to a csv\n",
    "def save_output(metro_name, grade, observations, predictions, years):\n",
    "    data = {'observations': observations, 'predictions': predictions, 'year': years}\n",
    "    preds_df = pd.DataFrame(data)\n",
    "    preds_df.to_csv('output/'+metro_name+'_'+grade+'_predictions.csv', index=False)\n",
    "\n",
    "    return \"data saved\""
   ]
  },
  {
   "cell_type": "code",
   "execution_count": 74,
   "metadata": {},
   "outputs": [
    {
     "name": "stderr",
     "output_type": "stream",
     "text": [
      "c:\\Users\\GEdwards\\Python\\lib\\site-packages\\statsmodels\\tsa\\statespace\\sarimax.py:866: UserWarning:\n",
      "\n",
      "Too few observations to estimate starting parameters for ARMA and trend. All parameters except for variances will be set to zeros.\n",
      "\n",
      "c:\\Users\\GEdwards\\Python\\lib\\site-packages\\statsmodels\\tsa\\statespace\\sarimax.py:966: UserWarning:\n",
      "\n",
      "Non-stationary starting autoregressive parameters found. Using zeros as starting parameters.\n",
      "\n"
     ]
    },
    {
     "name": "stdout",
     "output_type": "stream",
     "text": [
      "predicted=5897.264740, expected=6053.000000\n",
      "predicted=6180.800998, expected=6136.000000\n",
      "predicted=6305.281419, expected=6197.000000\n",
      "predicted=6257.999993, expected=6937.000000\n"
     ]
    },
    {
     "name": "stderr",
     "output_type": "stream",
     "text": [
      "c:\\Users\\GEdwards\\Python\\lib\\site-packages\\statsmodels\\tsa\\statespace\\sarimax.py:978: UserWarning:\n",
      "\n",
      "Non-invertible starting MA parameters found. Using zeros as starting parameters.\n",
      "\n"
     ]
    },
    {
     "name": "stdout",
     "output_type": "stream",
     "text": [
      "predicted=7086.933905, expected=7114.000000\n",
      "predicted=7348.382415, expected=7054.000000\n",
      "predicted=7278.624835, expected=7698.000000\n",
      "predicted=7832.038979, expected=6476.000000\n",
      "predicted=6591.440350, expected=6853.000000\n",
      "predicted=6681.346796, expected=7426.000000\n",
      "predicted=7564.611375, expected=7052.000000\n",
      "predicted=7285.477931, expected=8449.000000\n",
      "predicted=8399.135185, expected=9396.000000\n",
      "predicted=9699.739873, expected=9055.000000\n",
      "predicted=9377.990085, expected=9510.000000\n",
      "predicted=9767.658638, expected=9660.000000\n",
      "predicted=9942.405819, expected=10151.000000\n",
      "predicted=10398.823404, expected=10979.000000\n",
      "predicted=11225.413490, expected=11421.000000\n",
      "predicted=11717.044450, expected=11691.000000\n",
      "predicted=12001.166310\n",
      "predicted=12305.553686\n",
      "predicted=12609.227243\n",
      "predicted=12911.772395\n",
      "predicted=13213.373151\n",
      "Test RMSE: 578.710\n"
     ]
    },
    {
     "data": {
      "text/plain": [
       "'data saved'"
      ]
     },
     "execution_count": 74,
     "metadata": {},
     "output_type": "execute_result"
    }
   ],
   "source": [
    "# Make predictions on data with the ARIMA model using rolling forecast\n",
    "a_metro_subset = enrollment_subset.copy() # to keep track of dataset in use for function in this block\n",
    "\n",
    "X = a_metro_subset[grade].values\n",
    "\n",
    "# Split data into test and train sets\n",
    "size = int(len(X) * 0.2)\n",
    "train, test = X[0:size], X[size:len(X)]\n",
    "\n",
    "# keep track of outputs\n",
    "history = [x for x in train] # rolling history\n",
    "predictions = list() # keep track of predictions\n",
    "preds_for_rmse = list() # keep track of predictions for rmse calculation\n",
    "observations = list()\n",
    "\n",
    "# rolling forecast\n",
    "for t in range(len(test)+5):\n",
    " model = ARIMA(history, order=(1,2,0)) # run the arima model on train data\n",
    " model_fit = model.fit() # fit the model\n",
    " output = model_fit.forecast() # forecast next value\n",
    " yhat = output[0]\n",
    " predictions.append(yhat)\n",
    " \n",
    " # while model is running on known values\n",
    " if t < len(test):\n",
    "    preds_for_rmse.append(yhat)\n",
    "    obs = test[t]\n",
    "    observations.append(obs)\n",
    "    history.append(obs)\n",
    "    print('predicted=%f, expected=%f' % (yhat, obs))\n",
    " \n",
    " # forecast predictions (2023 to 2028)\n",
    " else:\n",
    "   history.append(yhat)\n",
    "   observations.append(np.nan)\n",
    "   print('predicted=%f' % (yhat))\n",
    "\n",
    "rmse = sqrt(mean_squared_error(test, preds_for_rmse))\n",
    "print('Test RMSE: %.3f' % rmse)\n",
    "\n",
    "\n",
    "years = np.arange(2004,2029)\n",
    "save_output(metro_name, grade, observations, predictions, years)\n"
   ]
  },
  {
   "cell_type": "code",
   "execution_count": 75,
   "metadata": {},
   "outputs": [
    {
     "data": {
      "image/png": "[encoded data removed]",
      "text/plain": [
       "<Figure size 640x480 with 1 Axes>"
      ]
     },
     "metadata": {},
     "output_type": "display_data"
    }
   ],
   "source": [
    "# plot forecasts against actual outcomes\n",
    "plt.plot(test)\n",
    "plt.plot(predictions, color='red')\n",
    "plt.show()"
   ]
  }
 ],
 "metadata": {
  "kernelspec": {
   "display_name": "Python 3",
   "language": "python",
   "name": "python3"
  },
  "language_info": {
   "codemirror_mode": {
    "name": "ipython",
    "version": 3
   },
   "file_extension": ".py",
   "mimetype": "text/x-python",
   "name": "python",
   "nbconvert_exporter": "python",
   "pygments_lexer": "ipython3",
   "version": "3.10.6"
  },
  "orig_nbformat": 4
 },
 "nbformat": 4,
 "nbformat_minor": 2
}
