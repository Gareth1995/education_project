{
 "cells": [
  {
   "cell_type": "markdown",
   "metadata": {},
   "source": [
    "## Apply time series for forecasting on number of students in metro east over time "
   ]
  },
  {
   "cell_type": "code",
   "execution_count": 128,
   "metadata": {},
   "outputs": [],
   "source": [
    "# load libraries\n",
    "import pandas as pd\n",
    "import numpy as np\n",
    "import matplotlib.pyplot as plt\n",
    "from statsmodels.graphics.tsaplots import plot_acf, plot_pacf\n",
    "from statsmodels.tsa.stattools import adfuller\n",
    "from statsmodels.tsa.arima.model import ARIMA\n",
    "from statsmodels.graphics.api import qqplot\n",
    "import statsmodels.api as sm\n",
    "import plotly.express as px\n",
    "from scipy import stats"
   ]
  },
  {
   "cell_type": "code",
   "execution_count": 2,
   "metadata": {},
   "outputs": [],
   "source": [
    "# load data\n",
    "enrollment_ts = pd.read_excel('eda/data/enrollment data.xlsx', sheet_name='Clean_PO_Detail')"
   ]
  },
  {
   "cell_type": "code",
   "execution_count": 22,
   "metadata": {},
   "outputs": [
    {
     "data": {
      "application/vnd.plotly.v1+json": {
       "config": {
        "plotlyServerURL": "https://plot.ly"
       },
       "data": [
        {
         "hovertemplate": "Grade=PREGRR<br>Year=%{x}<br>student enrollment=%{y}<extra></extra>",
         "legendgroup": "PREGRR",
         "line": {
          "color": "#636efa",
          "dash": "solid"
         },
         "marker": {
          "symbol": "circle"
         },
         "mode": "lines",
         "name": "PREGRR",
         "orientation": "v",
         "showlegend": true,
         "type": "scatter",
         "x": [
          2016,
          2017,
          2018,
          2019,
          2020,
          2021,
          2022,
          2023
         ],
         "xaxis": "x",
         "y": [
          0,
          24,
          24,
          25,
          24,
          55,
          68,
          64
         ],
         "yaxis": "y"
        },
        {
         "hovertemplate": "Grade=GRR<br>Year=%{x}<br>student enrollment=%{y}<extra></extra>",
         "legendgroup": "GRR",
         "line": {
          "color": "#EF553B",
          "dash": "solid"
         },
         "marker": {
          "symbol": "circle"
         },
         "mode": "lines",
         "name": "GRR",
         "orientation": "v",
         "showlegend": true,
         "type": "scatter",
         "x": [
          2016,
          2017,
          2018,
          2019,
          2020,
          2021,
          2022,
          2023
         ],
         "xaxis": "x",
         "y": [
          854,
          883,
          920,
          910,
          986,
          999,
          931,
          929
         ],
         "yaxis": "y"
        },
        {
         "hovertemplate": "Grade=GR1<br>Year=%{x}<br>student enrollment=%{y}<extra></extra>",
         "legendgroup": "GR1",
         "line": {
          "color": "#00cc96",
          "dash": "solid"
         },
         "marker": {
          "symbol": "circle"
         },
         "mode": "lines",
         "name": "GR1",
         "orientation": "v",
         "showlegend": true,
         "type": "scatter",
         "x": [
          2016,
          2017,
          2018,
          2019,
          2020,
          2021,
          2022,
          2023
         ],
         "xaxis": "x",
         "y": [
          2053,
          2063,
          2033,
          2298,
          2289,
          2283,
          2259,
          2061
         ],
         "yaxis": "y"
        },
        {
         "hovertemplate": "Grade=GR2<br>Year=%{x}<br>student enrollment=%{y}<extra></extra>",
         "legendgroup": "GR2",
         "line": {
          "color": "#ab63fa",
          "dash": "solid"
         },
         "marker": {
          "symbol": "circle"
         },
         "mode": "lines",
         "name": "GR2",
         "orientation": "v",
         "showlegend": true,
         "type": "scatter",
         "x": [
          2016,
          2017,
          2018,
          2019,
          2020,
          2021,
          2022,
          2023
         ],
         "xaxis": "x",
         "y": [
          2035,
          2037,
          2054,
          2206,
          2278,
          2232,
          2197,
          2192
         ],
         "yaxis": "y"
        },
        {
         "hovertemplate": "Grade=GR3<br>Year=%{x}<br>student enrollment=%{y}<extra></extra>",
         "legendgroup": "GR3",
         "line": {
          "color": "#FFA15A",
          "dash": "solid"
         },
         "marker": {
          "symbol": "circle"
         },
         "mode": "lines",
         "name": "GR3",
         "orientation": "v",
         "showlegend": true,
         "type": "scatter",
         "x": [
          2016,
          2017,
          2018,
          2019,
          2020,
          2021,
          2022,
          2023
         ],
         "xaxis": "x",
         "y": [
          1932,
          1983,
          2037,
          2093,
          2156,
          2204,
          2199,
          2258
         ],
         "yaxis": "y"
        },
        {
         "hovertemplate": "Grade=GR4<br>Year=%{x}<br>student enrollment=%{y}<extra></extra>",
         "legendgroup": "GR4",
         "line": {
          "color": "#19d3f3",
          "dash": "solid"
         },
         "marker": {
          "symbol": "circle"
         },
         "mode": "lines",
         "name": "GR4",
         "orientation": "v",
         "showlegend": true,
         "type": "scatter",
         "x": [
          2016,
          2017,
          2018,
          2019,
          2020,
          2021,
          2022,
          2023
         ],
         "xaxis": "x",
         "y": [
          1983,
          2084,
          2132,
          2371,
          2263,
          2254,
          2231,
          2249
         ],
         "yaxis": "y"
        },
        {
         "hovertemplate": "Grade=GR5<br>Year=%{x}<br>student enrollment=%{y}<extra></extra>",
         "legendgroup": "GR5",
         "line": {
          "color": "#FF6692",
          "dash": "solid"
         },
         "marker": {
          "symbol": "circle"
         },
         "mode": "lines",
         "name": "GR5",
         "orientation": "v",
         "showlegend": true,
         "type": "scatter",
         "x": [
          2016,
          2017,
          2018,
          2019,
          2020,
          2021,
          2022,
          2023
         ],
         "xaxis": "x",
         "y": [
          1797,
          1855,
          1933,
          2137,
          2211,
          2161,
          2127,
          2119
         ],
         "yaxis": "y"
        },
        {
         "hovertemplate": "Grade=GR6<br>Year=%{x}<br>student enrollment=%{y}<extra></extra>",
         "legendgroup": "GR6",
         "line": {
          "color": "#B6E880",
          "dash": "solid"
         },
         "marker": {
          "symbol": "circle"
         },
         "mode": "lines",
         "name": "GR6",
         "orientation": "v",
         "showlegend": true,
         "type": "scatter",
         "x": [
          2016,
          2017,
          2018,
          2019,
          2020,
          2021,
          2022,
          2023
         ],
         "xaxis": "x",
         "y": [
          1715,
          1772,
          1810,
          2010,
          2127,
          2197,
          2083,
          2111
         ],
         "yaxis": "y"
        },
        {
         "hovertemplate": "Grade=GR7<br>Year=%{x}<br>student enrollment=%{y}<extra></extra>",
         "legendgroup": "GR7",
         "line": {
          "color": "#FF97FF",
          "dash": "solid"
         },
         "marker": {
          "symbol": "circle"
         },
         "mode": "lines",
         "name": "GR7",
         "orientation": "v",
         "showlegend": true,
         "type": "scatter",
         "x": [
          2016,
          2017,
          2018,
          2019,
          2020,
          2021,
          2022,
          2023
         ],
         "xaxis": "x",
         "y": [
          1693,
          1731,
          1758,
          1812,
          1975,
          2055,
          2101,
          2007
         ],
         "yaxis": "y"
        },
        {
         "hovertemplate": "Grade=GR8<br>Year=%{x}<br>student enrollment=%{y}<extra></extra>",
         "legendgroup": "GR8",
         "line": {
          "color": "#FECB52",
          "dash": "solid"
         },
         "marker": {
          "symbol": "circle"
         },
         "mode": "lines",
         "name": "GR8",
         "orientation": "v",
         "showlegend": true,
         "type": "scatter",
         "x": [
          2016,
          2017,
          2018,
          2019,
          2020,
          2021,
          2022,
          2023
         ],
         "xaxis": "x",
         "y": [
          1532,
          1750,
          1851,
          2238,
          2198,
          1935,
          2026,
          2119
         ],
         "yaxis": "y"
        },
        {
         "hovertemplate": "Grade=GR9<br>Year=%{x}<br>student enrollment=%{y}<extra></extra>",
         "legendgroup": "GR9",
         "line": {
          "color": "#636efa",
          "dash": "solid"
         },
         "marker": {
          "symbol": "circle"
         },
         "mode": "lines",
         "name": "GR9",
         "orientation": "v",
         "showlegend": true,
         "type": "scatter",
         "x": [
          2016,
          2017,
          2018,
          2019,
          2020,
          2021,
          2022,
          2023
         ],
         "xaxis": "x",
         "y": [
          1534,
          1468,
          1631,
          1753,
          1979,
          2050,
          1943,
          1872
         ],
         "yaxis": "y"
        },
        {
         "hovertemplate": "Grade=GR10<br>Year=%{x}<br>student enrollment=%{y}<extra></extra>",
         "legendgroup": "GR10",
         "line": {
          "color": "#EF553B",
          "dash": "solid"
         },
         "marker": {
          "symbol": "circle"
         },
         "mode": "lines",
         "name": "GR10",
         "orientation": "v",
         "showlegend": true,
         "type": "scatter",
         "x": [
          2016,
          2017,
          2018,
          2019,
          2020,
          2021,
          2022,
          2023
         ],
         "xaxis": "x",
         "y": [
          1940,
          1947,
          1793,
          1844,
          1895,
          2061,
          2076,
          2036
         ],
         "yaxis": "y"
        },
        {
         "hovertemplate": "Grade=GR11<br>Year=%{x}<br>student enrollment=%{y}<extra></extra>",
         "legendgroup": "GR11",
         "line": {
          "color": "#00cc96",
          "dash": "solid"
         },
         "marker": {
          "symbol": "circle"
         },
         "mode": "lines",
         "name": "GR11",
         "orientation": "v",
         "showlegend": true,
         "type": "scatter",
         "x": [
          2016,
          2017,
          2018,
          2019,
          2020,
          2021,
          2022,
          2023
         ],
         "xaxis": "x",
         "y": [
          1587,
          1563,
          1573,
          1460,
          1539,
          1627,
          1651,
          1795
         ],
         "yaxis": "y"
        },
        {
         "hovertemplate": "Grade=GR12<br>Year=%{x}<br>student enrollment=%{y}<extra></extra>",
         "legendgroup": "GR12",
         "line": {
          "color": "#ab63fa",
          "dash": "solid"
         },
         "marker": {
          "symbol": "circle"
         },
         "mode": "lines",
         "name": "GR12",
         "orientation": "v",
         "showlegend": true,
         "type": "scatter",
         "x": [
          2016,
          2017,
          2018,
          2019,
          2020,
          2021,
          2022,
          2023
         ],
         "xaxis": "x",
         "y": [
          1124,
          1194,
          1241,
          1242,
          1173,
          1357,
          1372,
          1422
         ],
         "yaxis": "y"
        },
        {
         "hovertemplate": "Grade=LSEN<br>Year=%{x}<br>student enrollment=%{y}<extra></extra>",
         "legendgroup": "LSEN",
         "line": {
          "color": "#FFA15A",
          "dash": "solid"
         },
         "marker": {
          "symbol": "circle"
         },
         "mode": "lines",
         "name": "LSEN",
         "orientation": "v",
         "showlegend": true,
         "type": "scatter",
         "x": [
          2016,
          2017,
          2018,
          2019,
          2020,
          2021,
          2022,
          2023
         ],
         "xaxis": "x",
         "y": [
          0,
          0,
          0,
          0,
          0,
          0,
          0,
          0
         ],
         "yaxis": "y"
        },
        {
         "hovertemplate": "Grade=TOTAL 1<br>Year=%{x}<br>student enrollment=%{y}<extra></extra>",
         "legendgroup": "TOTAL 1",
         "line": {
          "color": "#19d3f3",
          "dash": "solid"
         },
         "marker": {
          "symbol": "circle"
         },
         "mode": "lines",
         "name": "TOTAL 1",
         "orientation": "v",
         "showlegend": true,
         "type": "scatter",
         "x": [
          2016,
          2017,
          2018,
          2019,
          2020,
          2021,
          2022,
          2023
         ],
         "xaxis": "x",
         "y": [
          21779,
          22354,
          22790,
          24399,
          25093,
          25470,
          25264,
          25234
         ],
         "yaxis": "y"
        }
       ],
       "layout": {
        "legend": {
         "title": {
          "text": "Grade"
         },
         "tracegroupgap": 0
        },
        "template": {
         "data": {
          "bar": [
           {
            "error_x": {
             "color": "#2a3f5f"
            },
            "error_y": {
             "color": "#2a3f5f"
            },
            "marker": {
             "line": {
              "color": "#E5ECF6",
              "width": 0.5
             },
             "pattern": {
              "fillmode": "overlay",
              "size": 10,
              "solidity": 0.2
             }
            },
            "type": "bar"
           }
          ],
          "barpolar": [
           {
            "marker": {
             "line": {
              "color": "#E5ECF6",
              "width": 0.5
             },
             "pattern": {
              "fillmode": "overlay",
              "size": 10,
              "solidity": 0.2
             }
            },
            "type": "barpolar"
           }
          ],
          "carpet": [
           {
            "aaxis": {
             "endlinecolor": "#2a3f5f",
             "gridcolor": "white",
             "linecolor": "white",
             "minorgridcolor": "white",
             "startlinecolor": "#2a3f5f"
            },
            "baxis": {
             "endlinecolor": "#2a3f5f",
             "gridcolor": "white",
             "linecolor": "white",
             "minorgridcolor": "white",
             "startlinecolor": "#2a3f5f"
            },
            "type": "carpet"
           }
          ],
          "choropleth": [
           {
            "colorbar": {
             "outlinewidth": 0,
             "ticks": ""
            },
            "type": "choropleth"
           }
          ],
          "contour": [
           {
            "colorbar": {
             "outlinewidth": 0,
             "ticks": ""
            },
            "colorscale": [
             [
              0,
              "#0d0887"
             ],
             [
              0.1111111111111111,
              "#46039f"
             ],
             [
              0.2222222222222222,
              "#7201a8"
             ],
             [
              0.3333333333333333,
              "#9c179e"
             ],
             [
              0.4444444444444444,
              "#bd3786"
             ],
             [
              0.5555555555555556,
              "#d8576b"
             ],
             [
              0.6666666666666666,
              "#ed7953"
             ],
             [
              0.7777777777777778,
              "#fb9f3a"
             ],
             [
              0.8888888888888888,
              "#fdca26"
             ],
             [
              1,
              "#f0f921"
             ]
            ],
            "type": "contour"
           }
          ],
          "contourcarpet": [
           {
            "colorbar": {
             "outlinewidth": 0,
             "ticks": ""
            },
            "type": "contourcarpet"
           }
          ],
          "heatmap": [
           {
            "colorbar": {
             "outlinewidth": 0,
             "ticks": ""
            },
            "colorscale": [
             [
              0,
              "#0d0887"
             ],
             [
              0.1111111111111111,
              "#46039f"
             ],
             [
              0.2222222222222222,
              "#7201a8"
             ],
             [
              0.3333333333333333,
              "#9c179e"
             ],
             [
              0.4444444444444444,
              "#bd3786"
             ],
             [
              0.5555555555555556,
              "#d8576b"
             ],
             [
              0.6666666666666666,
              "#ed7953"
             ],
             [
              0.7777777777777778,
              "#fb9f3a"
             ],
             [
              0.8888888888888888,
              "#fdca26"
             ],
             [
              1,
              "#f0f921"
             ]
            ],
            "type": "heatmap"
           }
          ],
          "heatmapgl": [
           {
            "colorbar": {
             "outlinewidth": 0,
             "ticks": ""
            },
            "colorscale": [
             [
              0,
              "#0d0887"
             ],
             [
              0.1111111111111111,
              "#46039f"
             ],
             [
              0.2222222222222222,
              "#7201a8"
             ],
             [
              0.3333333333333333,
              "#9c179e"
             ],
             [
              0.4444444444444444,
              "#bd3786"
             ],
             [
              0.5555555555555556,
              "#d8576b"
             ],
             [
              0.6666666666666666,
              "#ed7953"
             ],
             [
              0.7777777777777778,
              "#fb9f3a"
             ],
             [
              0.8888888888888888,
              "#fdca26"
             ],
             [
              1,
              "#f0f921"
             ]
            ],
            "type": "heatmapgl"
           }
          ],
          "histogram": [
           {
            "marker": {
             "pattern": {
              "fillmode": "overlay",
              "size": 10,
              "solidity": 0.2
             }
            },
            "type": "histogram"
           }
          ],
          "histogram2d": [
           {
            "colorbar": {
             "outlinewidth": 0,
             "ticks": ""
            },
            "colorscale": [
             [
              0,
              "#0d0887"
             ],
             [
              0.1111111111111111,
              "#46039f"
             ],
             [
              0.2222222222222222,
              "#7201a8"
             ],
             [
              0.3333333333333333,
              "#9c179e"
             ],
             [
              0.4444444444444444,
              "#bd3786"
             ],
             [
              0.5555555555555556,
              "#d8576b"
             ],
             [
              0.6666666666666666,
              "#ed7953"
             ],
             [
              0.7777777777777778,
              "#fb9f3a"
             ],
             [
              0.8888888888888888,
              "#fdca26"
             ],
             [
              1,
              "#f0f921"
             ]
            ],
            "type": "histogram2d"
           }
          ],
          "histogram2dcontour": [
           {
            "colorbar": {
             "outlinewidth": 0,
             "ticks": ""
            },
            "colorscale": [
             [
              0,
              "#0d0887"
             ],
             [
              0.1111111111111111,
              "#46039f"
             ],
             [
              0.2222222222222222,
              "#7201a8"
             ],
             [
              0.3333333333333333,
              "#9c179e"
             ],
             [
              0.4444444444444444,
              "#bd3786"
             ],
             [
              0.5555555555555556,
              "#d8576b"
             ],
             [
              0.6666666666666666,
              "#ed7953"
             ],
             [
              0.7777777777777778,
              "#fb9f3a"
             ],
             [
              0.8888888888888888,
              "#fdca26"
             ],
             [
              1,
              "#f0f921"
             ]
            ],
            "type": "histogram2dcontour"
           }
          ],
          "mesh3d": [
           {
            "colorbar": {
             "outlinewidth": 0,
             "ticks": ""
            },
            "type": "mesh3d"
           }
          ],
          "parcoords": [
           {
            "line": {
             "colorbar": {
              "outlinewidth": 0,
              "ticks": ""
             }
            },
            "type": "parcoords"
           }
          ],
          "pie": [
           {
            "automargin": true,
            "type": "pie"
           }
          ],
          "scatter": [
           {
            "fillpattern": {
             "fillmode": "overlay",
             "size": 10,
             "solidity": 0.2
            },
            "type": "scatter"
           }
          ],
          "scatter3d": [
           {
            "line": {
             "colorbar": {
              "outlinewidth": 0,
              "ticks": ""
             }
            },
            "marker": {
             "colorbar": {
              "outlinewidth": 0,
              "ticks": ""
             }
            },
            "type": "scatter3d"
           }
          ],
          "scattercarpet": [
           {
            "marker": {
             "colorbar": {
              "outlinewidth": 0,
              "ticks": ""
             }
            },
            "type": "scattercarpet"
           }
          ],
          "scattergeo": [
           {
            "marker": {
             "colorbar": {
              "outlinewidth": 0,
              "ticks": ""
             }
            },
            "type": "scattergeo"
           }
          ],
          "scattergl": [
           {
            "marker": {
             "colorbar": {
              "outlinewidth": 0,
              "ticks": ""
             }
            },
            "type": "scattergl"
           }
          ],
          "scattermapbox": [
           {
            "marker": {
             "colorbar": {
              "outlinewidth": 0,
              "ticks": ""
             }
            },
            "type": "scattermapbox"
           }
          ],
          "scatterpolar": [
           {
            "marker": {
             "colorbar": {
              "outlinewidth": 0,
              "ticks": ""
             }
            },
            "type": "scatterpolar"
           }
          ],
          "scatterpolargl": [
           {
            "marker": {
             "colorbar": {
              "outlinewidth": 0,
              "ticks": ""
             }
            },
            "type": "scatterpolargl"
           }
          ],
          "scatterternary": [
           {
            "marker": {
             "colorbar": {
              "outlinewidth": 0,
              "ticks": ""
             }
            },
            "type": "scatterternary"
           }
          ],
          "surface": [
           {
            "colorbar": {
             "outlinewidth": 0,
             "ticks": ""
            },
            "colorscale": [
             [
              0,
              "#0d0887"
             ],
             [
              0.1111111111111111,
              "#46039f"
             ],
             [
              0.2222222222222222,
              "#7201a8"
             ],
             [
              0.3333333333333333,
              "#9c179e"
             ],
             [
              0.4444444444444444,
              "#bd3786"
             ],
             [
              0.5555555555555556,
              "#d8576b"
             ],
             [
              0.6666666666666666,
              "#ed7953"
             ],
             [
              0.7777777777777778,
              "#fb9f3a"
             ],
             [
              0.8888888888888888,
              "#fdca26"
             ],
             [
              1,
              "#f0f921"
             ]
            ],
            "type": "surface"
           }
          ],
          "table": [
           {
            "cells": {
             "fill": {
              "color": "#EBF0F8"
             },
             "line": {
              "color": "white"
             }
            },
            "header": {
             "fill": {
              "color": "#C8D4E3"
             },
             "line": {
              "color": "white"
             }
            },
            "type": "table"
           }
          ]
         },
         "layout": {
          "annotationdefaults": {
           "arrowcolor": "#2a3f5f",
           "arrowhead": 0,
           "arrowwidth": 1
          },
          "autotypenumbers": "strict",
          "coloraxis": {
           "colorbar": {
            "outlinewidth": 0,
            "ticks": ""
           }
          },
          "colorscale": {
           "diverging": [
            [
             0,
             "#8e0152"
            ],
            [
             0.1,
             "#c51b7d"
            ],
            [
             0.2,
             "#de77ae"
            ],
            [
             0.3,
             "#f1b6da"
            ],
            [
             0.4,
             "#fde0ef"
            ],
            [
             0.5,
             "#f7f7f7"
            ],
            [
             0.6,
             "#e6f5d0"
            ],
            [
             0.7,
             "#b8e186"
            ],
            [
             0.8,
             "#7fbc41"
            ],
            [
             0.9,
             "#4d9221"
            ],
            [
             1,
             "#276419"
            ]
           ],
           "sequential": [
            [
             0,
             "#0d0887"
            ],
            [
             0.1111111111111111,
             "#46039f"
            ],
            [
             0.2222222222222222,
             "#7201a8"
            ],
            [
             0.3333333333333333,
             "#9c179e"
            ],
            [
             0.4444444444444444,
             "#bd3786"
            ],
            [
             0.5555555555555556,
             "#d8576b"
            ],
            [
             0.6666666666666666,
             "#ed7953"
            ],
            [
             0.7777777777777778,
             "#fb9f3a"
            ],
            [
             0.8888888888888888,
             "#fdca26"
            ],
            [
             1,
             "#f0f921"
            ]
           ],
           "sequentialminus": [
            [
             0,
             "#0d0887"
            ],
            [
             0.1111111111111111,
             "#46039f"
            ],
            [
             0.2222222222222222,
             "#7201a8"
            ],
            [
             0.3333333333333333,
             "#9c179e"
            ],
            [
             0.4444444444444444,
             "#bd3786"
            ],
            [
             0.5555555555555556,
             "#d8576b"
            ],
            [
             0.6666666666666666,
             "#ed7953"
            ],
            [
             0.7777777777777778,
             "#fb9f3a"
            ],
            [
             0.8888888888888888,
             "#fdca26"
            ],
            [
             1,
             "#f0f921"
            ]
           ]
          },
          "colorway": [
           "#636efa",
           "#EF553B",
           "#00cc96",
           "#ab63fa",
           "#FFA15A",
           "#19d3f3",
           "#FF6692",
           "#B6E880",
           "#FF97FF",
           "#FECB52"
          ],
          "font": {
           "color": "#2a3f5f"
          },
          "geo": {
           "bgcolor": "white",
           "lakecolor": "white",
           "landcolor": "#E5ECF6",
           "showlakes": true,
           "showland": true,
           "subunitcolor": "white"
          },
          "hoverlabel": {
           "align": "left"
          },
          "hovermode": "closest",
          "mapbox": {
           "style": "light"
          },
          "paper_bgcolor": "white",
          "plot_bgcolor": "#E5ECF6",
          "polar": {
           "angularaxis": {
            "gridcolor": "white",
            "linecolor": "white",
            "ticks": ""
           },
           "bgcolor": "#E5ECF6",
           "radialaxis": {
            "gridcolor": "white",
            "linecolor": "white",
            "ticks": ""
           }
          },
          "scene": {
           "xaxis": {
            "backgroundcolor": "#E5ECF6",
            "gridcolor": "white",
            "gridwidth": 2,
            "linecolor": "white",
            "showbackground": true,
            "ticks": "",
            "zerolinecolor": "white"
           },
           "yaxis": {
            "backgroundcolor": "#E5ECF6",
            "gridcolor": "white",
            "gridwidth": 2,
            "linecolor": "white",
            "showbackground": true,
            "ticks": "",
            "zerolinecolor": "white"
           },
           "zaxis": {
            "backgroundcolor": "#E5ECF6",
            "gridcolor": "white",
            "gridwidth": 2,
            "linecolor": "white",
            "showbackground": true,
            "ticks": "",
            "zerolinecolor": "white"
           }
          },
          "shapedefaults": {
           "line": {
            "color": "#2a3f5f"
           }
          },
          "ternary": {
           "aaxis": {
            "gridcolor": "white",
            "linecolor": "white",
            "ticks": ""
           },
           "baxis": {
            "gridcolor": "white",
            "linecolor": "white",
            "ticks": ""
           },
           "bgcolor": "#E5ECF6",
           "caxis": {
            "gridcolor": "white",
            "linecolor": "white",
            "ticks": ""
           }
          },
          "title": {
           "x": 0.05
          },
          "xaxis": {
           "automargin": true,
           "gridcolor": "white",
           "linecolor": "white",
           "ticks": "",
           "title": {
            "standoff": 15
           },
           "zerolinecolor": "white",
           "zerolinewidth": 2
          },
          "yaxis": {
           "automargin": true,
           "gridcolor": "white",
           "linecolor": "white",
           "ticks": "",
           "title": {
            "standoff": 15
           },
           "zerolinecolor": "white",
           "zerolinewidth": 2
          }
         }
        },
        "title": {
         "text": "Enrollment Time Series"
        },
        "xaxis": {
         "anchor": "y",
         "domain": [
          0,
          1
         ],
         "title": {
          "text": "Year"
         }
        },
        "yaxis": {
         "anchor": "x",
         "domain": [
          0,
          1
         ],
         "title": {
          "text": "student enrollment"
         }
        }
       }
      }
     },
     "metadata": {},
     "output_type": "display_data"
    }
   ],
   "source": [
    "# create plotly plot that displays multiple time series plots\n",
    "\n",
    "def plotly_ts(metro, circuit):\n",
    "    long_enrollment_df = enrollment_ts[['YEAR', 'EDUC DISTRICT', 'TOTAL 1', 'CIRCUIT', \n",
    "                                        'PREGRR', 'GRR', 'GR1', 'GR2',\n",
    "                                        'GR3', 'GR4', 'GR5', 'GR6',\n",
    "                                        'GR7', 'GR8', 'GR9', 'GR10',\n",
    "                                        'GR11', 'GR12', 'LSEN']]\n",
    "\n",
    "    long_enrollment_me_df = long_enrollment_df[long_enrollment_df['EDUC DISTRICT'] == metro]\n",
    "\n",
    "    # get full dataset into long format\n",
    "    long_enrollment_me_df = pd.melt(long_enrollment_me_df,\n",
    "                                    id_vars=['YEAR', 'EDUC DISTRICT', 'CIRCUIT'],\n",
    "                                    value_vars=['PREGRR', 'GRR', 'GR1', 'GR2',\n",
    "                                                'GR3', 'GR4', 'GR5', 'GR6',\n",
    "                                                'GR7', 'GR8', 'GR9', 'GR10',\n",
    "                                                'GR11', 'GR12', 'LSEN', 'TOTAL 1'])\n",
    "\n",
    "    # plot line graph (coloured by municipality, line type according to sim)\n",
    "    fig = px.line(long_enrollment_me_df[long_enrollment_me_df['CIRCUIT'] == circuit], x='YEAR', y='value', color='variable',\n",
    "    labels={\n",
    "        'value': 'student enrollment',\n",
    "        'YEAR': 'Year',\n",
    "        'variable': 'Grade',\n",
    "    },\n",
    "    title = 'Enrollment Time Series')\n",
    "    fig.show()\n",
    "\n",
    "plotly_ts('METRO EAST', 8)"
   ]
  },
  {
   "cell_type": "code",
   "execution_count": 28,
   "metadata": {},
   "outputs": [],
   "source": [
    "def subtract_from_previous(arr):\n",
    "    if len(arr) == 0:\n",
    "        return []\n",
    "\n",
    "    return [arr[i] - arr[i - 1] for i in range(1, len(arr))]"
   ]
  },
  {
   "cell_type": "code",
   "execution_count": 233,
   "metadata": {},
   "outputs": [
    {
     "data": {
      "text/plain": [
       "0.016768998403396115"
      ]
     },
     "execution_count": 233,
     "metadata": {},
     "output_type": "execute_result"
    },
    {
     "data": {
      "image/png": "[encoded data removed]",
      "text/plain": [
       "<Figure size 2000x1500 with 4 Axes>"
      ]
     },
     "metadata": {},
     "output_type": "display_data"
    }
   ],
   "source": [
    "# This function plots time series of student enrollment for a given metro, circuit and grade\n",
    "# If the time series is not stationary it is converted so that it is stationary and the stationary plot will be plotted\n",
    "# the pacf and acf plots are also plotted\n",
    "fig, axes = plt.subplots(4, 1, figsize=(20,15))\n",
    "def plot_learner_ts(metro, circuit, count_var):\n",
    "    \n",
    "    # filter dataset\n",
    "    enrollment_subset = enrollment_ts[(enrollment_ts['EDUC DISTRICT'] == str(metro)) & (enrollment_ts['CIRCUIT'] == int(circuit))][[str(count_var), 'YEAR']]\n",
    "\n",
    "    # plot the stationary time series if time series is not stationary\n",
    "    adf_val = adfuller(enrollment_subset[str(count_var)])\n",
    "    \n",
    "    # if p val > 0.05 then time series is not stationary. If p value < 0.05 then it is stationary\n",
    "    # if time series is stationary then convert to stationary plot\n",
    "    if adf_val[1] > 0.05:\n",
    "        # plot number of students over time\n",
    "        axes[0].plot(enrollment_subset['YEAR'], (enrollment_subset[str(count_var)]))\n",
    "        axes[0].set_title('Time Series')\n",
    "        axes[0].set_xlabel('Year')\n",
    "        axes[0].set_ylabel('Number of students enrolled to school')\n",
    "\n",
    "        # convert time series to stationary time series\n",
    "        transformed_ts = subtract_from_previous(np.array(enrollment_subset[str(count_var)]))\n",
    "        transformed_adf = adfuller(transformed_ts)\n",
    "\n",
    "        axes[1].plot(enrollment_subset['YEAR'][1:], transformed_ts) # time series for stationary plot\n",
    "        axes[1].set_title('Stationary Time Series')\n",
    "        axes[1].set_xlabel('Year')\n",
    "        axes[1].set_ylabel('Number of students enrolled to school')\n",
    "\n",
    "        # plot ACF (see https://www.youtube.com/watch?v=y8opUEd05Dg&list=PLvcbYUQ5t0UHOLnBzl46_Q6QKtFgfMGc3&index=3)\n",
    "        acf_plot = plot_acf(np.array(transformed_ts), ax=axes[2]) # acf for stationary plot\n",
    "\n",
    "        # plot PACF (see https://www.youtube.com/watch?v=y8opUEd05Dg&list=PLvcbYUQ5t0UHOLnBzl46_Q6QKtFgfMGc3&index=3)\n",
    "        pacf_plot = plot_pacf(transformed_ts, lags=5, ax=axes[3]) # pacf for stationary plot\n",
    "    \n",
    "    # if the time series is already stationary then plot the time series, acf and pacf plots as is\n",
    "    else:\n",
    "        # plot number of students over time\n",
    "        axes[0].plot(enrollment_subset['YEAR'], (enrollment_subset[str(count_var)]))\n",
    "        axes[0].set_title('Time Series')\n",
    "        axes[0].set_xlabel('Year')\n",
    "        axes[0].set_ylabel('Number of students enrolled to school')\n",
    "\n",
    "        # plot ACF (see https://www.youtube.com/watch?v=y8opUEd05Dg&list=PLvcbYUQ5t0UHOLnBzl46_Q6QKtFgfMGc3&index=3)\n",
    "        acf_plot = plot_acf(enrollment_subset[str(count_var)], ax=axes[2])\n",
    "\n",
    "        # plot PACF (see https://www.youtube.com/watch?v=y8opUEd05Dg&list=PLvcbYUQ5t0UHOLnBzl46_Q6QKtFgfMGc3&index=3)\n",
    "        pacf_plot = plot_pacf(enrollment_subset[str(count_var)], lags=2, ax=axes[3])\n",
    "\n",
    "    # plot all graphs on same grid\n",
    "    plt.tight_layout()\n",
    "\n",
    "    # return transformed adf only if the transformation needed to happen\n",
    "    if adf_val[1] > 0.05:\n",
    "        return [adf_val[1], transformed_adf[1]]\n",
    "    else:\n",
    "        return adf_val[1]\n",
    "\n",
    "plot_learner_ts('METRO EAST', '3', 'TOTAL 1')"
   ]
  },
  {
   "cell_type": "code",
   "execution_count": null,
   "metadata": {},
   "outputs": [],
   "source": [
    "# filter the enrollment dataframe\n",
    "def filter_df(df, metro, circuit, variable):\n",
    "    return df[(df['EDUC DISTRICT'] == str(metro)) & (df['CIRCUIT'] == circuit)][[str(variable), 'YEAR']]\n",
    "\n",
    "enrollment_subset = filter_df(enrollment_ts, 'METRO EAST', 3, 'TOTAL 1')\n",
    "enrollment_subset\n"
   ]
  },
  {
   "cell_type": "code",
   "execution_count": 235,
   "metadata": {},
   "outputs": [],
   "source": [
    "# create function that applies arma model to time series of subset\n",
    "def enrollment_arma(df, ar, ma, dif):\n",
    "    \n",
    "    # format data and index by date variable\n",
    "    start_year = str(enrollment_subset[0:1]['YEAR'].values[0])\n",
    "    end_year = str(enrollment_subset[-1:]['YEAR'].values[0])\n",
    "\n",
    "    # index thee values using a date value\n",
    "    df.index = pd.Index(sm.tsa.datetools.dates_from_range(start_year, end_year))\n",
    "    df.index.freq = enrollment_subset.index.inferred_freq\n",
    "    del df[\"YEAR\"]\n",
    "\n",
    "    # split into train and test sets (not sure this is necessary)\n",
    "    train = df[:20]\n",
    "    test = df[20:23]\n",
    "\n",
    "    # apply arima\n",
    "    arma_mod = ARIMA(train, order=(ar, dif, ma)).fit()\n",
    "    \n",
    "    return arma_mod\n",
    "\n",
    "\n",
    "arma_mod = enrollment_arma(enrollment_subset, 1, 1, 0)"
   ]
  },
  {
   "cell_type": "code",
   "execution_count": 236,
   "metadata": {},
   "outputs": [
    {
     "data": {
      "image/png": "[encoded data removed]",
      "text/plain": [
       "<Figure size 2000x1500 with 3 Axes>"
      ]
     },
     "metadata": {},
     "output_type": "display_data"
    }
   ],
   "source": [
    "fig, axes = plt.subplots(3, 1, figsize=(20,15))\n",
    "\n",
    "# function to plot residual tests for arma model an the predicted outcomes\n",
    "def plot_ts_predictions(df, arma_model):\n",
    "\n",
    "    # residual plot (should have mean of 0)\n",
    "    ax = arma_model.resid.plot(ax=axes[0])\n",
    "\n",
    "    # normal test for residual plot (residuals should be normally distributed)\n",
    "    resid = arma_model.resid\n",
    "    stats.normaltest(resid)\n",
    "    fig = qqplot(resid, line=\"q\", ax=axes[1], fit=True)\n",
    "\n",
    "    # make predictions\n",
    "    enrol_preds = pd.DataFrame(arma_model.predict(\"2020\", \"2030\", dynamic=True))\n",
    "    enrol_preds.rename(columns={'predicted_mean':'TOTAL 1'}, inplace=True)\n",
    "\n",
    "    # plot enrollment predictions against\n",
    "    axes[2].plot(enrol_preds)\n",
    "    axes[2].plot(df)\n",
    "    axes[2].set_title('Predicted Time Series')\n",
    "    axes[2].set_xlabel('Year')\n",
    "    axes[2].set_ylabel('Number of students enrolled to school')\n",
    "\n",
    "    # plot all graphs on same grid\n",
    "    plt.tight_layout()    \n",
    "\n",
    "plot_ts_predictions(enrollment_subset, arma_mod)"
   ]
  }
 ],
 "metadata": {
  "kernelspec": {
   "display_name": "Python 3",
   "language": "python",
   "name": "python3"
  },
  "language_info": {
   "codemirror_mode": {
    "name": "ipython",
    "version": 3
   },
   "file_extension": ".py",
   "mimetype": "text/x-python",
   "name": "python",
   "nbconvert_exporter": "python",
   "pygments_lexer": "ipython3",
   "version": "3.10.6"
  },
  "orig_nbformat": 4
 },
 "nbformat": 4,
 "nbformat_minor": 2
}
