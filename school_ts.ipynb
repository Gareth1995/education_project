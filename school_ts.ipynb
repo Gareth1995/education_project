{
 "cells": [
  {
   "cell_type": "markdown",
   "metadata": {},
   "source": [
    "# Apply ARIMA to school specific enrollments "
   ]
  },
  {
   "cell_type": "code",
   "execution_count": 73,
   "metadata": {},
   "outputs": [],
   "source": [
    "# load libraries\n",
    "import pandas as pd\n",
    "import numpy as np\n",
    "import matplotlib.pyplot as plt\n",
    "from statsmodels.graphics.tsaplots import plot_acf, plot_pacf\n",
    "from statsmodels.tsa.stattools import adfuller\n",
    "from statsmodels.tsa.arima.model import ARIMA\n",
    "from statsmodels.graphics.api import qqplot\n",
    "import statsmodels.api as sm\n",
    "import plotly.express as px\n",
    "from scipy import stats\n",
    "from sklearn.metrics import mean_squared_error\n",
    "from math import sqrt"
   ]
  },
  {
   "cell_type": "code",
   "execution_count": 74,
   "metadata": {},
   "outputs": [
    {
     "data": {
      "text/html": [
       "<div>\n",
       "<style scoped>\n",
       "    .dataframe tbody tr th:only-of-type {\n",
       "        vertical-align: middle;\n",
       "    }\n",
       "\n",
       "    .dataframe tbody tr th {\n",
       "        vertical-align: top;\n",
       "    }\n",
       "\n",
       "    .dataframe thead th {\n",
       "        text-align: right;\n",
       "    }\n",
       "</style>\n",
       "<table border=\"1\" class=\"dataframe\">\n",
       "  <thead>\n",
       "    <tr style=\"text-align: right;\">\n",
       "      <th></th>\n",
       "      <th>EDUC DISTRICT</th>\n",
       "      <th>SCHOOL NAME</th>\n",
       "      <th>CONTROL</th>\n",
       "      <th>TYPE</th>\n",
       "      <th>QUINTILE</th>\n",
       "      <th>FEE_STATUS</th>\n",
       "      <th>2010</th>\n",
       "      <th>2011</th>\n",
       "      <th>2012</th>\n",
       "      <th>2013</th>\n",
       "      <th>...</th>\n",
       "      <th>Crowd14</th>\n",
       "      <th>Crowd15</th>\n",
       "      <th>Crowd16</th>\n",
       "      <th>Crowd17</th>\n",
       "      <th>Crowd18</th>\n",
       "      <th>Crowd19</th>\n",
       "      <th>Crowd20</th>\n",
       "      <th>Crowd21</th>\n",
       "      <th>Crowd22</th>\n",
       "      <th>Crowd23</th>\n",
       "    </tr>\n",
       "  </thead>\n",
       "  <tbody>\n",
       "    <tr>\n",
       "      <th>0</th>\n",
       "      <td>METRO EAST</td>\n",
       "      <td>SOMERSET COLLEGE</td>\n",
       "      <td>INDEPENDENT</td>\n",
       "      <td>Combined School</td>\n",
       "      <td>NQ5</td>\n",
       "      <td>Fee charging</td>\n",
       "      <td>NaN</td>\n",
       "      <td>959.0</td>\n",
       "      <td>1043.0</td>\n",
       "      <td>1089.0</td>\n",
       "      <td>...</td>\n",
       "      <td>11</td>\n",
       "      <td>11</td>\n",
       "      <td>11</td>\n",
       "      <td>11</td>\n",
       "      <td>11</td>\n",
       "      <td>11</td>\n",
       "      <td>11</td>\n",
       "      <td>11</td>\n",
       "      <td>12</td>\n",
       "      <td>12</td>\n",
       "    </tr>\n",
       "    <tr>\n",
       "      <th>1</th>\n",
       "      <td>METRO EAST</td>\n",
       "      <td>BOSTON PRIVATE SCHOOL</td>\n",
       "      <td>INDEPENDENT</td>\n",
       "      <td>Combined School</td>\n",
       "      <td>NQ5</td>\n",
       "      <td>Fee charging</td>\n",
       "      <td>326.0</td>\n",
       "      <td>352.0</td>\n",
       "      <td>402.0</td>\n",
       "      <td>419.0</td>\n",
       "      <td>...</td>\n",
       "      <td>16</td>\n",
       "      <td>17</td>\n",
       "      <td>19</td>\n",
       "      <td>19</td>\n",
       "      <td>19</td>\n",
       "      <td>19</td>\n",
       "      <td>17</td>\n",
       "      <td>16</td>\n",
       "      <td>15</td>\n",
       "      <td>15</td>\n",
       "    </tr>\n",
       "    <tr>\n",
       "      <th>2</th>\n",
       "      <td>METRO EAST</td>\n",
       "      <td>CHUMISA PRIMARY SCHOOL</td>\n",
       "      <td>PUBLIC</td>\n",
       "      <td>Primary School</td>\n",
       "      <td>NQ2</td>\n",
       "      <td>No Fee</td>\n",
       "      <td>1145.0</td>\n",
       "      <td>1070.0</td>\n",
       "      <td>1127.0</td>\n",
       "      <td>1005.0</td>\n",
       "      <td>...</td>\n",
       "      <td>36</td>\n",
       "      <td>40</td>\n",
       "      <td>41</td>\n",
       "      <td>43</td>\n",
       "      <td>45</td>\n",
       "      <td>46</td>\n",
       "      <td>47</td>\n",
       "      <td>45</td>\n",
       "      <td>43</td>\n",
       "      <td>43</td>\n",
       "    </tr>\n",
       "    <tr>\n",
       "      <th>3</th>\n",
       "      <td>METRO EAST</td>\n",
       "      <td>CURRO SOMERSET WEST</td>\n",
       "      <td>INDEPENDENT</td>\n",
       "      <td>Combined School</td>\n",
       "      <td>NQ2</td>\n",
       "      <td>Fee charging</td>\n",
       "      <td>NaN</td>\n",
       "      <td>NaN</td>\n",
       "      <td>NaN</td>\n",
       "      <td>NaN</td>\n",
       "      <td>...</td>\n",
       "      <td>#VALUE!</td>\n",
       "      <td>#VALUE!</td>\n",
       "      <td>#VALUE!</td>\n",
       "      <td>#VALUE!</td>\n",
       "      <td>#VALUE!</td>\n",
       "      <td>#VALUE!</td>\n",
       "      <td>#VALUE!</td>\n",
       "      <td>9</td>\n",
       "      <td>11</td>\n",
       "      <td>12</td>\n",
       "    </tr>\n",
       "    <tr>\n",
       "      <th>4</th>\n",
       "      <td>METRO EAST</td>\n",
       "      <td>EKUKHANYISELWENI CHRISTIAN SCHOOL</td>\n",
       "      <td>INDEPENDENT</td>\n",
       "      <td>Intermediate School</td>\n",
       "      <td>NQ2</td>\n",
       "      <td>No Fee</td>\n",
       "      <td>NaN</td>\n",
       "      <td>NaN</td>\n",
       "      <td>NaN</td>\n",
       "      <td>NaN</td>\n",
       "      <td>...</td>\n",
       "      <td>#VALUE!</td>\n",
       "      <td>#VALUE!</td>\n",
       "      <td>#VALUE!</td>\n",
       "      <td>14</td>\n",
       "      <td>35</td>\n",
       "      <td>33</td>\n",
       "      <td>36</td>\n",
       "      <td>34</td>\n",
       "      <td>34</td>\n",
       "      <td>30</td>\n",
       "    </tr>\n",
       "    <tr>\n",
       "      <th>...</th>\n",
       "      <td>...</td>\n",
       "      <td>...</td>\n",
       "      <td>...</td>\n",
       "      <td>...</td>\n",
       "      <td>...</td>\n",
       "      <td>...</td>\n",
       "      <td>...</td>\n",
       "      <td>...</td>\n",
       "      <td>...</td>\n",
       "      <td>...</td>\n",
       "      <td>...</td>\n",
       "      <td>...</td>\n",
       "      <td>...</td>\n",
       "      <td>...</td>\n",
       "      <td>...</td>\n",
       "      <td>...</td>\n",
       "      <td>...</td>\n",
       "      <td>...</td>\n",
       "      <td>...</td>\n",
       "      <td>...</td>\n",
       "      <td>...</td>\n",
       "    </tr>\n",
       "    <tr>\n",
       "      <th>185</th>\n",
       "      <td>METRO EAST</td>\n",
       "      <td>DE HOOP LAERSKOOL</td>\n",
       "      <td>PUBLIC</td>\n",
       "      <td>Primary School</td>\n",
       "      <td>NQ5</td>\n",
       "      <td>Fee charging</td>\n",
       "      <td>1113.0</td>\n",
       "      <td>1168.0</td>\n",
       "      <td>1207.0</td>\n",
       "      <td>1205.0</td>\n",
       "      <td>...</td>\n",
       "      <td>30</td>\n",
       "      <td>30</td>\n",
       "      <td>29</td>\n",
       "      <td>30</td>\n",
       "      <td>30</td>\n",
       "      <td>30</td>\n",
       "      <td>30</td>\n",
       "      <td>31</td>\n",
       "      <td>31</td>\n",
       "      <td>31</td>\n",
       "    </tr>\n",
       "    <tr>\n",
       "      <th>186</th>\n",
       "      <td>METRO EAST</td>\n",
       "      <td>DR. G.J. JOUBERT PRIMÊRE SKOOL</td>\n",
       "      <td>PUBLIC</td>\n",
       "      <td>Primary School</td>\n",
       "      <td>NQ4</td>\n",
       "      <td>No Fee</td>\n",
       "      <td>1222.0</td>\n",
       "      <td>1210.0</td>\n",
       "      <td>1192.0</td>\n",
       "      <td>1217.0</td>\n",
       "      <td>...</td>\n",
       "      <td>31</td>\n",
       "      <td>31</td>\n",
       "      <td>34</td>\n",
       "      <td>33</td>\n",
       "      <td>33</td>\n",
       "      <td>33</td>\n",
       "      <td>32</td>\n",
       "      <td>33</td>\n",
       "      <td>32</td>\n",
       "      <td>33</td>\n",
       "    </tr>\n",
       "    <tr>\n",
       "      <th>187</th>\n",
       "      <td>METRO EAST</td>\n",
       "      <td>EDUSMART ACADEMY</td>\n",
       "      <td>INDEPENDENT</td>\n",
       "      <td>Primary School</td>\n",
       "      <td>.</td>\n",
       "      <td>Fee charging</td>\n",
       "      <td>NaN</td>\n",
       "      <td>NaN</td>\n",
       "      <td>NaN</td>\n",
       "      <td>NaN</td>\n",
       "      <td>...</td>\n",
       "      <td>#VALUE!</td>\n",
       "      <td>#VALUE!</td>\n",
       "      <td>#VALUE!</td>\n",
       "      <td>#VALUE!</td>\n",
       "      <td>#VALUE!</td>\n",
       "      <td>#VALUE!</td>\n",
       "      <td>#VALUE!</td>\n",
       "      <td>7</td>\n",
       "      <td>7</td>\n",
       "      <td>7</td>\n",
       "    </tr>\n",
       "    <tr>\n",
       "      <th>188</th>\n",
       "      <td>METRO EAST</td>\n",
       "      <td>HOOFWEG PRIMARY SCHOOL</td>\n",
       "      <td>PUBLIC</td>\n",
       "      <td>Primary School</td>\n",
       "      <td>NQ3</td>\n",
       "      <td>No Fee</td>\n",
       "      <td>1219.0</td>\n",
       "      <td>1278.0</td>\n",
       "      <td>1233.0</td>\n",
       "      <td>1252.0</td>\n",
       "      <td>...</td>\n",
       "      <td>37</td>\n",
       "      <td>37</td>\n",
       "      <td>36</td>\n",
       "      <td>39</td>\n",
       "      <td>38</td>\n",
       "      <td>39</td>\n",
       "      <td>40</td>\n",
       "      <td>40</td>\n",
       "      <td>39</td>\n",
       "      <td>38</td>\n",
       "    </tr>\n",
       "    <tr>\n",
       "      <th>189</th>\n",
       "      <td>METRO EAST</td>\n",
       "      <td>HOPE AND LIGHT COMMUNITY WELFARE (NPC) TRADING AS</td>\n",
       "      <td>INDEPENDENT</td>\n",
       "      <td>Combined School</td>\n",
       "      <td>NQ4</td>\n",
       "      <td>No Fee</td>\n",
       "      <td>NaN</td>\n",
       "      <td>NaN</td>\n",
       "      <td>NaN</td>\n",
       "      <td>NaN</td>\n",
       "      <td>...</td>\n",
       "      <td>#VALUE!</td>\n",
       "      <td>#VALUE!</td>\n",
       "      <td>#VALUE!</td>\n",
       "      <td>#VALUE!</td>\n",
       "      <td>#VALUE!</td>\n",
       "      <td>16</td>\n",
       "      <td>20</td>\n",
       "      <td>21</td>\n",
       "      <td>21</td>\n",
       "      <td>20</td>\n",
       "    </tr>\n",
       "  </tbody>\n",
       "</table>\n",
       "<p>190 rows × 35 columns</p>\n",
       "</div>"
      ],
      "text/plain": [
       "    EDUC DISTRICT                                        SCHOOL NAME  \\\n",
       "0      METRO EAST                                   SOMERSET COLLEGE   \n",
       "1      METRO EAST                              BOSTON PRIVATE SCHOOL   \n",
       "2      METRO EAST                             CHUMISA PRIMARY SCHOOL   \n",
       "3      METRO EAST                                CURRO SOMERSET WEST   \n",
       "4      METRO EAST                  EKUKHANYISELWENI CHRISTIAN SCHOOL   \n",
       "..            ...                                                ...   \n",
       "185    METRO EAST                                  DE HOOP LAERSKOOL   \n",
       "186    METRO EAST                     DR. G.J. JOUBERT PRIMÊRE SKOOL   \n",
       "187    METRO EAST                                   EDUSMART ACADEMY   \n",
       "188    METRO EAST                             HOOFWEG PRIMARY SCHOOL   \n",
       "189    METRO EAST  HOPE AND LIGHT COMMUNITY WELFARE (NPC) TRADING AS   \n",
       "\n",
       "         CONTROL                 TYPE QUINTILE    FEE_STATUS    2010    2011  \\\n",
       "0    INDEPENDENT      Combined School      NQ5  Fee charging     NaN   959.0   \n",
       "1    INDEPENDENT      Combined School      NQ5  Fee charging   326.0   352.0   \n",
       "2         PUBLIC       Primary School      NQ2        No Fee  1145.0  1070.0   \n",
       "3    INDEPENDENT      Combined School      NQ2  Fee charging     NaN     NaN   \n",
       "4    INDEPENDENT  Intermediate School      NQ2        No Fee     NaN     NaN   \n",
       "..           ...                  ...      ...           ...     ...     ...   \n",
       "185       PUBLIC       Primary School      NQ5  Fee charging  1113.0  1168.0   \n",
       "186       PUBLIC       Primary School      NQ4        No Fee  1222.0  1210.0   \n",
       "187  INDEPENDENT       Primary School        .  Fee charging     NaN     NaN   \n",
       "188       PUBLIC       Primary School      NQ3        No Fee  1219.0  1278.0   \n",
       "189  INDEPENDENT      Combined School      NQ4        No Fee     NaN     NaN   \n",
       "\n",
       "       2012    2013  ...  Crowd14  Crowd15  Crowd16  Crowd17  Crowd18  \\\n",
       "0    1043.0  1089.0  ...       11       11       11       11       11   \n",
       "1     402.0   419.0  ...       16       17       19       19       19   \n",
       "2    1127.0  1005.0  ...       36       40       41       43       45   \n",
       "3       NaN     NaN  ...  #VALUE!  #VALUE!  #VALUE!  #VALUE!  #VALUE!   \n",
       "4       NaN     NaN  ...  #VALUE!  #VALUE!  #VALUE!       14       35   \n",
       "..      ...     ...  ...      ...      ...      ...      ...      ...   \n",
       "185  1207.0  1205.0  ...       30       30       29       30       30   \n",
       "186  1192.0  1217.0  ...       31       31       34       33       33   \n",
       "187     NaN     NaN  ...  #VALUE!  #VALUE!  #VALUE!  #VALUE!  #VALUE!   \n",
       "188  1233.0  1252.0  ...       37       37       36       39       38   \n",
       "189     NaN     NaN  ...  #VALUE!  #VALUE!  #VALUE!  #VALUE!  #VALUE!   \n",
       "\n",
       "     Crowd19  Crowd20  Crowd21  Crowd22  Crowd23  \n",
       "0         11       11       11       12       12  \n",
       "1         19       17       16       15       15  \n",
       "2         46       47       45       43       43  \n",
       "3    #VALUE!  #VALUE!        9       11       12  \n",
       "4         33       36       34       34       30  \n",
       "..       ...      ...      ...      ...      ...  \n",
       "185       30       30       31       31       31  \n",
       "186       33       32       33       32       33  \n",
       "187  #VALUE!  #VALUE!        7        7        7  \n",
       "188       39       40       40       39       38  \n",
       "189       16       20       21       21       20  \n",
       "\n",
       "[190 rows x 35 columns]"
      ]
     },
     "execution_count": 74,
     "metadata": {},
     "output_type": "execute_result"
    }
   ],
   "source": [
    "# load data\n",
    "school_enrollments = pd.read_csv('eda/data/enrollment_per_school.csv', encoding='latin-1')\n",
    "school_enrollments"
   ]
  },
  {
   "cell_type": "code",
   "execution_count": 75,
   "metadata": {},
   "outputs": [
    {
     "data": {
      "text/html": [
       "<div>\n",
       "<style scoped>\n",
       "    .dataframe tbody tr th:only-of-type {\n",
       "        vertical-align: middle;\n",
       "    }\n",
       "\n",
       "    .dataframe tbody tr th {\n",
       "        vertical-align: top;\n",
       "    }\n",
       "\n",
       "    .dataframe thead th {\n",
       "        text-align: right;\n",
       "    }\n",
       "</style>\n",
       "<table border=\"1\" class=\"dataframe\">\n",
       "  <thead>\n",
       "    <tr style=\"text-align: right;\">\n",
       "      <th></th>\n",
       "      <th>SCHOOL NAME</th>\n",
       "      <th>EDUC DISTRICT</th>\n",
       "      <th>CONTROL</th>\n",
       "      <th>TYPE</th>\n",
       "      <th>QUINTILE</th>\n",
       "      <th>FEE_STATUS</th>\n",
       "      <th>2010</th>\n",
       "      <th>2011</th>\n",
       "      <th>2012</th>\n",
       "      <th>2013</th>\n",
       "      <th>...</th>\n",
       "      <th>Crowd14</th>\n",
       "      <th>Crowd15</th>\n",
       "      <th>Crowd16</th>\n",
       "      <th>Crowd17</th>\n",
       "      <th>Crowd18</th>\n",
       "      <th>Crowd19</th>\n",
       "      <th>Crowd20</th>\n",
       "      <th>Crowd21</th>\n",
       "      <th>Crowd22</th>\n",
       "      <th>Crowd23</th>\n",
       "    </tr>\n",
       "  </thead>\n",
       "  <tbody>\n",
       "    <tr>\n",
       "      <th>0</th>\n",
       "      <td>MASIYILE SENIOR SECONDARY SCHOOL</td>\n",
       "      <td>METRO EAST</td>\n",
       "      <td>PUBLIC</td>\n",
       "      <td>Secondary School</td>\n",
       "      <td>NQ3</td>\n",
       "      <td>No Fee</td>\n",
       "      <td>1192.0</td>\n",
       "      <td>1243.0</td>\n",
       "      <td>1230.0</td>\n",
       "      <td>1246.0</td>\n",
       "      <td>...</td>\n",
       "      <td>32</td>\n",
       "      <td>34</td>\n",
       "      <td>33</td>\n",
       "      <td>33</td>\n",
       "      <td>35</td>\n",
       "      <td>36</td>\n",
       "      <td>36</td>\n",
       "      <td>36</td>\n",
       "      <td>36</td>\n",
       "      <td>40</td>\n",
       "    </tr>\n",
       "    <tr>\n",
       "      <th>1</th>\n",
       "      <td>CENTRE OF SCIENCE AND TECHNOLOGY</td>\n",
       "      <td>METRO EAST</td>\n",
       "      <td>PUBLIC</td>\n",
       "      <td>Secondary School</td>\n",
       "      <td>NQ3</td>\n",
       "      <td>No Fee</td>\n",
       "      <td>0.0</td>\n",
       "      <td>0.0</td>\n",
       "      <td>0.0</td>\n",
       "      <td>0.0</td>\n",
       "      <td>...</td>\n",
       "      <td>27</td>\n",
       "      <td>27</td>\n",
       "      <td>26</td>\n",
       "      <td>27</td>\n",
       "      <td>26</td>\n",
       "      <td>27</td>\n",
       "      <td>28</td>\n",
       "      <td>30</td>\n",
       "      <td>31</td>\n",
       "      <td>37</td>\n",
       "    </tr>\n",
       "    <tr>\n",
       "      <th>2</th>\n",
       "      <td>INJONGO PRIMARY SCHOOL</td>\n",
       "      <td>METRO EAST</td>\n",
       "      <td>PUBLIC</td>\n",
       "      <td>Primary School</td>\n",
       "      <td>NQ3</td>\n",
       "      <td>No Fee</td>\n",
       "      <td>1051.0</td>\n",
       "      <td>1019.0</td>\n",
       "      <td>951.0</td>\n",
       "      <td>1012.0</td>\n",
       "      <td>...</td>\n",
       "      <td>29</td>\n",
       "      <td>29</td>\n",
       "      <td>29</td>\n",
       "      <td>32</td>\n",
       "      <td>32</td>\n",
       "      <td>33</td>\n",
       "      <td>35</td>\n",
       "      <td>35</td>\n",
       "      <td>35</td>\n",
       "      <td>38</td>\n",
       "    </tr>\n",
       "    <tr>\n",
       "      <th>3</th>\n",
       "      <td>HOPOLANG PRIMARY SCHOOL</td>\n",
       "      <td>METRO EAST</td>\n",
       "      <td>PUBLIC</td>\n",
       "      <td>Intermediate School</td>\n",
       "      <td>NQ3</td>\n",
       "      <td>No Fee</td>\n",
       "      <td>718.0</td>\n",
       "      <td>724.0</td>\n",
       "      <td>760.0</td>\n",
       "      <td>719.0</td>\n",
       "      <td>...</td>\n",
       "      <td>34</td>\n",
       "      <td>33</td>\n",
       "      <td>38</td>\n",
       "      <td>38</td>\n",
       "      <td>40</td>\n",
       "      <td>39</td>\n",
       "      <td>38</td>\n",
       "      <td>38</td>\n",
       "      <td>38</td>\n",
       "      <td>39</td>\n",
       "    </tr>\n",
       "  </tbody>\n",
       "</table>\n",
       "<p>4 rows × 35 columns</p>\n",
       "</div>"
      ],
      "text/plain": [
       "                        SCHOOL NAME EDUC DISTRICT CONTROL  \\\n",
       "0  MASIYILE SENIOR SECONDARY SCHOOL    METRO EAST  PUBLIC   \n",
       "1  CENTRE OF SCIENCE AND TECHNOLOGY    METRO EAST  PUBLIC   \n",
       "2            INJONGO PRIMARY SCHOOL    METRO EAST  PUBLIC   \n",
       "3           HOPOLANG PRIMARY SCHOOL    METRO EAST  PUBLIC   \n",
       "\n",
       "                  TYPE QUINTILE FEE_STATUS    2010    2011    2012    2013  \\\n",
       "0     Secondary School      NQ3     No Fee  1192.0  1243.0  1230.0  1246.0   \n",
       "1     Secondary School      NQ3     No Fee     0.0     0.0     0.0     0.0   \n",
       "2       Primary School      NQ3     No Fee  1051.0  1019.0   951.0  1012.0   \n",
       "3  Intermediate School      NQ3     No Fee   718.0   724.0   760.0   719.0   \n",
       "\n",
       "   ...  Crowd14  Crowd15  Crowd16  Crowd17  Crowd18  Crowd19  Crowd20  \\\n",
       "0  ...       32       34       33       33       35       36       36   \n",
       "1  ...       27       27       26       27       26       27       28   \n",
       "2  ...       29       29       29       32       32       33       35   \n",
       "3  ...       34       33       38       38       40       39       38   \n",
       "\n",
       "   Crowd21  Crowd22  Crowd23  \n",
       "0       36       36       40  \n",
       "1       30       31       37  \n",
       "2       35       35       38  \n",
       "3       38       38       39  \n",
       "\n",
       "[4 rows x 35 columns]"
      ]
     },
     "execution_count": 75,
     "metadata": {},
     "output_type": "execute_result"
    }
   ],
   "source": [
    "# select schools\n",
    "school_subset = school_enrollments.copy()\n",
    "school_subset.set_index('SCHOOL NAME', inplace=True)\n",
    "\n",
    "# school_enrollments\n",
    "schools = ['MASIYILE SENIOR SECONDARY SCHOOL', 'CENTRE OF SCIENCE AND TECHNOLOGY', 'INJONGO PRIMARY SCHOOL', 'HOPOLANG PRIMARY SCHOOL']\n",
    "school_subset = school_subset.loc[schools].reset_index()\n",
    "school_subset.replace(np.nan, 0, inplace=True)\n",
    "school_subset\n"
   ]
  },
  {
   "cell_type": "code",
   "execution_count": 76,
   "metadata": {},
   "outputs": [
    {
     "data": {
      "text/html": [
       "<div>\n",
       "<style scoped>\n",
       "    .dataframe tbody tr th:only-of-type {\n",
       "        vertical-align: middle;\n",
       "    }\n",
       "\n",
       "    .dataframe tbody tr th {\n",
       "        vertical-align: top;\n",
       "    }\n",
       "\n",
       "    .dataframe thead th {\n",
       "        text-align: right;\n",
       "    }\n",
       "</style>\n",
       "<table border=\"1\" class=\"dataframe\">\n",
       "  <thead>\n",
       "    <tr style=\"text-align: right;\">\n",
       "      <th></th>\n",
       "      <th>SCHOOL NAME</th>\n",
       "      <th>variable</th>\n",
       "      <th>value</th>\n",
       "    </tr>\n",
       "  </thead>\n",
       "  <tbody>\n",
       "    <tr>\n",
       "      <th>0</th>\n",
       "      <td>MASIYILE SENIOR SECONDARY SCHOOL</td>\n",
       "      <td>2010</td>\n",
       "      <td>1192.0</td>\n",
       "    </tr>\n",
       "    <tr>\n",
       "      <th>1</th>\n",
       "      <td>CENTRE OF SCIENCE AND TECHNOLOGY</td>\n",
       "      <td>2010</td>\n",
       "      <td>0.0</td>\n",
       "    </tr>\n",
       "    <tr>\n",
       "      <th>2</th>\n",
       "      <td>INJONGO PRIMARY SCHOOL</td>\n",
       "      <td>2010</td>\n",
       "      <td>1051.0</td>\n",
       "    </tr>\n",
       "    <tr>\n",
       "      <th>3</th>\n",
       "      <td>HOPOLANG PRIMARY SCHOOL</td>\n",
       "      <td>2010</td>\n",
       "      <td>718.0</td>\n",
       "    </tr>\n",
       "    <tr>\n",
       "      <th>4</th>\n",
       "      <td>MASIYILE SENIOR SECONDARY SCHOOL</td>\n",
       "      <td>2011</td>\n",
       "      <td>1243.0</td>\n",
       "    </tr>\n",
       "    <tr>\n",
       "      <th>5</th>\n",
       "      <td>CENTRE OF SCIENCE AND TECHNOLOGY</td>\n",
       "      <td>2011</td>\n",
       "      <td>0.0</td>\n",
       "    </tr>\n",
       "    <tr>\n",
       "      <th>6</th>\n",
       "      <td>INJONGO PRIMARY SCHOOL</td>\n",
       "      <td>2011</td>\n",
       "      <td>1019.0</td>\n",
       "    </tr>\n",
       "    <tr>\n",
       "      <th>7</th>\n",
       "      <td>HOPOLANG PRIMARY SCHOOL</td>\n",
       "      <td>2011</td>\n",
       "      <td>724.0</td>\n",
       "    </tr>\n",
       "    <tr>\n",
       "      <th>8</th>\n",
       "      <td>MASIYILE SENIOR SECONDARY SCHOOL</td>\n",
       "      <td>2012</td>\n",
       "      <td>1230.0</td>\n",
       "    </tr>\n",
       "    <tr>\n",
       "      <th>9</th>\n",
       "      <td>CENTRE OF SCIENCE AND TECHNOLOGY</td>\n",
       "      <td>2012</td>\n",
       "      <td>0.0</td>\n",
       "    </tr>\n",
       "    <tr>\n",
       "      <th>10</th>\n",
       "      <td>INJONGO PRIMARY SCHOOL</td>\n",
       "      <td>2012</td>\n",
       "      <td>951.0</td>\n",
       "    </tr>\n",
       "    <tr>\n",
       "      <th>11</th>\n",
       "      <td>HOPOLANG PRIMARY SCHOOL</td>\n",
       "      <td>2012</td>\n",
       "      <td>760.0</td>\n",
       "    </tr>\n",
       "    <tr>\n",
       "      <th>12</th>\n",
       "      <td>MASIYILE SENIOR SECONDARY SCHOOL</td>\n",
       "      <td>2013</td>\n",
       "      <td>1246.0</td>\n",
       "    </tr>\n",
       "    <tr>\n",
       "      <th>13</th>\n",
       "      <td>CENTRE OF SCIENCE AND TECHNOLOGY</td>\n",
       "      <td>2013</td>\n",
       "      <td>0.0</td>\n",
       "    </tr>\n",
       "    <tr>\n",
       "      <th>14</th>\n",
       "      <td>INJONGO PRIMARY SCHOOL</td>\n",
       "      <td>2013</td>\n",
       "      <td>1012.0</td>\n",
       "    </tr>\n",
       "    <tr>\n",
       "      <th>15</th>\n",
       "      <td>HOPOLANG PRIMARY SCHOOL</td>\n",
       "      <td>2013</td>\n",
       "      <td>719.0</td>\n",
       "    </tr>\n",
       "    <tr>\n",
       "      <th>16</th>\n",
       "      <td>MASIYILE SENIOR SECONDARY SCHOOL</td>\n",
       "      <td>2014</td>\n",
       "      <td>1139.0</td>\n",
       "    </tr>\n",
       "    <tr>\n",
       "      <th>17</th>\n",
       "      <td>CENTRE OF SCIENCE AND TECHNOLOGY</td>\n",
       "      <td>2014</td>\n",
       "      <td>562.0</td>\n",
       "    </tr>\n",
       "    <tr>\n",
       "      <th>18</th>\n",
       "      <td>INJONGO PRIMARY SCHOOL</td>\n",
       "      <td>2014</td>\n",
       "      <td>1042.0</td>\n",
       "    </tr>\n",
       "    <tr>\n",
       "      <th>19</th>\n",
       "      <td>HOPOLANG PRIMARY SCHOOL</td>\n",
       "      <td>2014</td>\n",
       "      <td>775.0</td>\n",
       "    </tr>\n",
       "    <tr>\n",
       "      <th>20</th>\n",
       "      <td>MASIYILE SENIOR SECONDARY SCHOOL</td>\n",
       "      <td>2015</td>\n",
       "      <td>1213.0</td>\n",
       "    </tr>\n",
       "    <tr>\n",
       "      <th>21</th>\n",
       "      <td>CENTRE OF SCIENCE AND TECHNOLOGY</td>\n",
       "      <td>2015</td>\n",
       "      <td>566.0</td>\n",
       "    </tr>\n",
       "    <tr>\n",
       "      <th>22</th>\n",
       "      <td>INJONGO PRIMARY SCHOOL</td>\n",
       "      <td>2015</td>\n",
       "      <td>1031.0</td>\n",
       "    </tr>\n",
       "    <tr>\n",
       "      <th>23</th>\n",
       "      <td>HOPOLANG PRIMARY SCHOOL</td>\n",
       "      <td>2015</td>\n",
       "      <td>769.0</td>\n",
       "    </tr>\n",
       "    <tr>\n",
       "      <th>24</th>\n",
       "      <td>MASIYILE SENIOR SECONDARY SCHOOL</td>\n",
       "      <td>2016</td>\n",
       "      <td>1203.0</td>\n",
       "    </tr>\n",
       "    <tr>\n",
       "      <th>25</th>\n",
       "      <td>CENTRE OF SCIENCE AND TECHNOLOGY</td>\n",
       "      <td>2016</td>\n",
       "      <td>555.0</td>\n",
       "    </tr>\n",
       "    <tr>\n",
       "      <th>26</th>\n",
       "      <td>INJONGO PRIMARY SCHOOL</td>\n",
       "      <td>2016</td>\n",
       "      <td>1034.0</td>\n",
       "    </tr>\n",
       "    <tr>\n",
       "      <th>27</th>\n",
       "      <td>HOPOLANG PRIMARY SCHOOL</td>\n",
       "      <td>2016</td>\n",
       "      <td>863.0</td>\n",
       "    </tr>\n",
       "    <tr>\n",
       "      <th>28</th>\n",
       "      <td>MASIYILE SENIOR SECONDARY SCHOOL</td>\n",
       "      <td>2017</td>\n",
       "      <td>1191.0</td>\n",
       "    </tr>\n",
       "    <tr>\n",
       "      <th>29</th>\n",
       "      <td>CENTRE OF SCIENCE AND TECHNOLOGY</td>\n",
       "      <td>2017</td>\n",
       "      <td>561.0</td>\n",
       "    </tr>\n",
       "    <tr>\n",
       "      <th>30</th>\n",
       "      <td>INJONGO PRIMARY SCHOOL</td>\n",
       "      <td>2017</td>\n",
       "      <td>1136.0</td>\n",
       "    </tr>\n",
       "    <tr>\n",
       "      <th>31</th>\n",
       "      <td>HOPOLANG PRIMARY SCHOOL</td>\n",
       "      <td>2017</td>\n",
       "      <td>873.0</td>\n",
       "    </tr>\n",
       "    <tr>\n",
       "      <th>32</th>\n",
       "      <td>MASIYILE SENIOR SECONDARY SCHOOL</td>\n",
       "      <td>2018</td>\n",
       "      <td>1250.0</td>\n",
       "    </tr>\n",
       "    <tr>\n",
       "      <th>33</th>\n",
       "      <td>CENTRE OF SCIENCE AND TECHNOLOGY</td>\n",
       "      <td>2018</td>\n",
       "      <td>549.0</td>\n",
       "    </tr>\n",
       "    <tr>\n",
       "      <th>34</th>\n",
       "      <td>INJONGO PRIMARY SCHOOL</td>\n",
       "      <td>2018</td>\n",
       "      <td>1155.0</td>\n",
       "    </tr>\n",
       "    <tr>\n",
       "      <th>35</th>\n",
       "      <td>HOPOLANG PRIMARY SCHOOL</td>\n",
       "      <td>2018</td>\n",
       "      <td>926.0</td>\n",
       "    </tr>\n",
       "    <tr>\n",
       "      <th>36</th>\n",
       "      <td>MASIYILE SENIOR SECONDARY SCHOOL</td>\n",
       "      <td>2019</td>\n",
       "      <td>1283.0</td>\n",
       "    </tr>\n",
       "    <tr>\n",
       "      <th>37</th>\n",
       "      <td>CENTRE OF SCIENCE AND TECHNOLOGY</td>\n",
       "      <td>2019</td>\n",
       "      <td>562.0</td>\n",
       "    </tr>\n",
       "    <tr>\n",
       "      <th>38</th>\n",
       "      <td>INJONGO PRIMARY SCHOOL</td>\n",
       "      <td>2019</td>\n",
       "      <td>1198.0</td>\n",
       "    </tr>\n",
       "    <tr>\n",
       "      <th>39</th>\n",
       "      <td>HOPOLANG PRIMARY SCHOOL</td>\n",
       "      <td>2019</td>\n",
       "      <td>907.0</td>\n",
       "    </tr>\n",
       "    <tr>\n",
       "      <th>40</th>\n",
       "      <td>MASIYILE SENIOR SECONDARY SCHOOL</td>\n",
       "      <td>2020</td>\n",
       "      <td>1297.0</td>\n",
       "    </tr>\n",
       "    <tr>\n",
       "      <th>41</th>\n",
       "      <td>CENTRE OF SCIENCE AND TECHNOLOGY</td>\n",
       "      <td>2020</td>\n",
       "      <td>594.0</td>\n",
       "    </tr>\n",
       "    <tr>\n",
       "      <th>42</th>\n",
       "      <td>INJONGO PRIMARY SCHOOL</td>\n",
       "      <td>2020</td>\n",
       "      <td>1243.0</td>\n",
       "    </tr>\n",
       "    <tr>\n",
       "      <th>43</th>\n",
       "      <td>HOPOLANG PRIMARY SCHOOL</td>\n",
       "      <td>2020</td>\n",
       "      <td>866.0</td>\n",
       "    </tr>\n",
       "    <tr>\n",
       "      <th>44</th>\n",
       "      <td>MASIYILE SENIOR SECONDARY SCHOOL</td>\n",
       "      <td>2021</td>\n",
       "      <td>1310.0</td>\n",
       "    </tr>\n",
       "    <tr>\n",
       "      <th>45</th>\n",
       "      <td>CENTRE OF SCIENCE AND TECHNOLOGY</td>\n",
       "      <td>2021</td>\n",
       "      <td>627.0</td>\n",
       "    </tr>\n",
       "    <tr>\n",
       "      <th>46</th>\n",
       "      <td>INJONGO PRIMARY SCHOOL</td>\n",
       "      <td>2021</td>\n",
       "      <td>1249.0</td>\n",
       "    </tr>\n",
       "    <tr>\n",
       "      <th>47</th>\n",
       "      <td>HOPOLANG PRIMARY SCHOOL</td>\n",
       "      <td>2021</td>\n",
       "      <td>871.0</td>\n",
       "    </tr>\n",
       "    <tr>\n",
       "      <th>48</th>\n",
       "      <td>MASIYILE SENIOR SECONDARY SCHOOL</td>\n",
       "      <td>2022</td>\n",
       "      <td>1302.0</td>\n",
       "    </tr>\n",
       "    <tr>\n",
       "      <th>49</th>\n",
       "      <td>CENTRE OF SCIENCE AND TECHNOLOGY</td>\n",
       "      <td>2022</td>\n",
       "      <td>642.0</td>\n",
       "    </tr>\n",
       "    <tr>\n",
       "      <th>50</th>\n",
       "      <td>INJONGO PRIMARY SCHOOL</td>\n",
       "      <td>2022</td>\n",
       "      <td>1261.0</td>\n",
       "    </tr>\n",
       "    <tr>\n",
       "      <th>51</th>\n",
       "      <td>HOPOLANG PRIMARY SCHOOL</td>\n",
       "      <td>2022</td>\n",
       "      <td>883.0</td>\n",
       "    </tr>\n",
       "    <tr>\n",
       "      <th>52</th>\n",
       "      <td>MASIYILE SENIOR SECONDARY SCHOOL</td>\n",
       "      <td>2023</td>\n",
       "      <td>1439.0</td>\n",
       "    </tr>\n",
       "    <tr>\n",
       "      <th>53</th>\n",
       "      <td>CENTRE OF SCIENCE AND TECHNOLOGY</td>\n",
       "      <td>2023</td>\n",
       "      <td>768.0</td>\n",
       "    </tr>\n",
       "    <tr>\n",
       "      <th>54</th>\n",
       "      <td>INJONGO PRIMARY SCHOOL</td>\n",
       "      <td>2023</td>\n",
       "      <td>1355.0</td>\n",
       "    </tr>\n",
       "    <tr>\n",
       "      <th>55</th>\n",
       "      <td>HOPOLANG PRIMARY SCHOOL</td>\n",
       "      <td>2023</td>\n",
       "      <td>899.0</td>\n",
       "    </tr>\n",
       "  </tbody>\n",
       "</table>\n",
       "</div>"
      ],
      "text/plain": [
       "                         SCHOOL NAME variable   value\n",
       "0   MASIYILE SENIOR SECONDARY SCHOOL     2010  1192.0\n",
       "1   CENTRE OF SCIENCE AND TECHNOLOGY     2010     0.0\n",
       "2             INJONGO PRIMARY SCHOOL     2010  1051.0\n",
       "3            HOPOLANG PRIMARY SCHOOL     2010   718.0\n",
       "4   MASIYILE SENIOR SECONDARY SCHOOL     2011  1243.0\n",
       "5   CENTRE OF SCIENCE AND TECHNOLOGY     2011     0.0\n",
       "6             INJONGO PRIMARY SCHOOL     2011  1019.0\n",
       "7            HOPOLANG PRIMARY SCHOOL     2011   724.0\n",
       "8   MASIYILE SENIOR SECONDARY SCHOOL     2012  1230.0\n",
       "9   CENTRE OF SCIENCE AND TECHNOLOGY     2012     0.0\n",
       "10            INJONGO PRIMARY SCHOOL     2012   951.0\n",
       "11           HOPOLANG PRIMARY SCHOOL     2012   760.0\n",
       "12  MASIYILE SENIOR SECONDARY SCHOOL     2013  1246.0\n",
       "13  CENTRE OF SCIENCE AND TECHNOLOGY     2013     0.0\n",
       "14            INJONGO PRIMARY SCHOOL     2013  1012.0\n",
       "15           HOPOLANG PRIMARY SCHOOL     2013   719.0\n",
       "16  MASIYILE SENIOR SECONDARY SCHOOL     2014  1139.0\n",
       "17  CENTRE OF SCIENCE AND TECHNOLOGY     2014   562.0\n",
       "18            INJONGO PRIMARY SCHOOL     2014  1042.0\n",
       "19           HOPOLANG PRIMARY SCHOOL     2014   775.0\n",
       "20  MASIYILE SENIOR SECONDARY SCHOOL     2015  1213.0\n",
       "21  CENTRE OF SCIENCE AND TECHNOLOGY     2015   566.0\n",
       "22            INJONGO PRIMARY SCHOOL     2015  1031.0\n",
       "23           HOPOLANG PRIMARY SCHOOL     2015   769.0\n",
       "24  MASIYILE SENIOR SECONDARY SCHOOL     2016  1203.0\n",
       "25  CENTRE OF SCIENCE AND TECHNOLOGY     2016   555.0\n",
       "26            INJONGO PRIMARY SCHOOL     2016  1034.0\n",
       "27           HOPOLANG PRIMARY SCHOOL     2016   863.0\n",
       "28  MASIYILE SENIOR SECONDARY SCHOOL     2017  1191.0\n",
       "29  CENTRE OF SCIENCE AND TECHNOLOGY     2017   561.0\n",
       "30            INJONGO PRIMARY SCHOOL     2017  1136.0\n",
       "31           HOPOLANG PRIMARY SCHOOL     2017   873.0\n",
       "32  MASIYILE SENIOR SECONDARY SCHOOL     2018  1250.0\n",
       "33  CENTRE OF SCIENCE AND TECHNOLOGY     2018   549.0\n",
       "34            INJONGO PRIMARY SCHOOL     2018  1155.0\n",
       "35           HOPOLANG PRIMARY SCHOOL     2018   926.0\n",
       "36  MASIYILE SENIOR SECONDARY SCHOOL     2019  1283.0\n",
       "37  CENTRE OF SCIENCE AND TECHNOLOGY     2019   562.0\n",
       "38            INJONGO PRIMARY SCHOOL     2019  1198.0\n",
       "39           HOPOLANG PRIMARY SCHOOL     2019   907.0\n",
       "40  MASIYILE SENIOR SECONDARY SCHOOL     2020  1297.0\n",
       "41  CENTRE OF SCIENCE AND TECHNOLOGY     2020   594.0\n",
       "42            INJONGO PRIMARY SCHOOL     2020  1243.0\n",
       "43           HOPOLANG PRIMARY SCHOOL     2020   866.0\n",
       "44  MASIYILE SENIOR SECONDARY SCHOOL     2021  1310.0\n",
       "45  CENTRE OF SCIENCE AND TECHNOLOGY     2021   627.0\n",
       "46            INJONGO PRIMARY SCHOOL     2021  1249.0\n",
       "47           HOPOLANG PRIMARY SCHOOL     2021   871.0\n",
       "48  MASIYILE SENIOR SECONDARY SCHOOL     2022  1302.0\n",
       "49  CENTRE OF SCIENCE AND TECHNOLOGY     2022   642.0\n",
       "50            INJONGO PRIMARY SCHOOL     2022  1261.0\n",
       "51           HOPOLANG PRIMARY SCHOOL     2022   883.0\n",
       "52  MASIYILE SENIOR SECONDARY SCHOOL     2023  1439.0\n",
       "53  CENTRE OF SCIENCE AND TECHNOLOGY     2023   768.0\n",
       "54            INJONGO PRIMARY SCHOOL     2023  1355.0\n",
       "55           HOPOLANG PRIMARY SCHOOL     2023   899.0"
      ]
     },
     "execution_count": 76,
     "metadata": {},
     "output_type": "execute_result"
    }
   ],
   "source": [
    "# transform data to long format\n",
    "school_subset = school_subset.reset_index()\n",
    "long_school_subset = pd.melt(school_subset, id_vars='SCHOOL NAME', value_vars=['2010', '2011', '2012',\n",
    "                                                                               '2013', '2014', '2015',\n",
    "                                                                               '2016', '2017', '2018',\n",
    "                                                                               '2019', '2020', '2021',\n",
    "                                                                               '2022', '2023'])\n",
    "long_school_subset\n"
   ]
  },
  {
   "cell_type": "code",
   "execution_count": 77,
   "metadata": {},
   "outputs": [
    {
     "data": {
      "application/vnd.plotly.v1+json": {
       "config": {
        "plotlyServerURL": "https://plot.ly"
       },
       "data": [
        {
         "hovertemplate": "School Name=MASIYILE SENIOR SECONDARY SCHOOL<br>Year=%{x}<br>student enrollment=%{y}<extra></extra>",
         "legendgroup": "MASIYILE SENIOR SECONDARY SCHOOL",
         "line": {
          "color": "#636efa",
          "dash": "solid"
         },
         "marker": {
          "symbol": "circle"
         },
         "mode": "lines",
         "name": "MASIYILE SENIOR SECONDARY SCHOOL",
         "orientation": "v",
         "showlegend": true,
         "type": "scatter",
         "x": [
          "2010",
          "2011",
          "2012",
          "2013",
          "2014",
          "2015",
          "2016",
          "2017",
          "2018",
          "2019",
          "2020",
          "2021",
          "2022",
          "2023"
         ],
         "xaxis": "x",
         "y": [
          1192,
          1243,
          1230,
          1246,
          1139,
          1213,
          1203,
          1191,
          1250,
          1283,
          1297,
          1310,
          1302,
          1439
         ],
         "yaxis": "y"
        },
        {
         "hovertemplate": "School Name=CENTRE OF SCIENCE AND TECHNOLOGY<br>Year=%{x}<br>student enrollment=%{y}<extra></extra>",
         "legendgroup": "CENTRE OF SCIENCE AND TECHNOLOGY",
         "line": {
          "color": "#EF553B",
          "dash": "solid"
         },
         "marker": {
          "symbol": "circle"
         },
         "mode": "lines",
         "name": "CENTRE OF SCIENCE AND TECHNOLOGY",
         "orientation": "v",
         "showlegend": true,
         "type": "scatter",
         "x": [
          "2010",
          "2011",
          "2012",
          "2013",
          "2014",
          "2015",
          "2016",
          "2017",
          "2018",
          "2019",
          "2020",
          "2021",
          "2022",
          "2023"
         ],
         "xaxis": "x",
         "y": [
          0,
          0,
          0,
          0,
          562,
          566,
          555,
          561,
          549,
          562,
          594,
          627,
          642,
          768
         ],
         "yaxis": "y"
        },
        {
         "hovertemplate": "School Name=INJONGO PRIMARY SCHOOL<br>Year=%{x}<br>student enrollment=%{y}<extra></extra>",
         "legendgroup": "INJONGO PRIMARY SCHOOL",
         "line": {
          "color": "#00cc96",
          "dash": "solid"
         },
         "marker": {
          "symbol": "circle"
         },
         "mode": "lines",
         "name": "INJONGO PRIMARY SCHOOL",
         "orientation": "v",
         "showlegend": true,
         "type": "scatter",
         "x": [
          "2010",
          "2011",
          "2012",
          "2013",
          "2014",
          "2015",
          "2016",
          "2017",
          "2018",
          "2019",
          "2020",
          "2021",
          "2022",
          "2023"
         ],
         "xaxis": "x",
         "y": [
          1051,
          1019,
          951,
          1012,
          1042,
          1031,
          1034,
          1136,
          1155,
          1198,
          1243,
          1249,
          1261,
          1355
         ],
         "yaxis": "y"
        },
        {
         "hovertemplate": "School Name=HOPOLANG PRIMARY SCHOOL<br>Year=%{x}<br>student enrollment=%{y}<extra></extra>",
         "legendgroup": "HOPOLANG PRIMARY SCHOOL",
         "line": {
          "color": "#ab63fa",
          "dash": "solid"
         },
         "marker": {
          "symbol": "circle"
         },
         "mode": "lines",
         "name": "HOPOLANG PRIMARY SCHOOL",
         "orientation": "v",
         "showlegend": true,
         "type": "scatter",
         "x": [
          "2010",
          "2011",
          "2012",
          "2013",
          "2014",
          "2015",
          "2016",
          "2017",
          "2018",
          "2019",
          "2020",
          "2021",
          "2022",
          "2023"
         ],
         "xaxis": "x",
         "y": [
          718,
          724,
          760,
          719,
          775,
          769,
          863,
          873,
          926,
          907,
          866,
          871,
          883,
          899
         ],
         "yaxis": "y"
        }
       ],
       "layout": {
        "legend": {
         "title": {
          "text": "School Name"
         },
         "tracegroupgap": 0
        },
        "template": {
         "data": {
          "bar": [
           {
            "error_x": {
             "color": "#2a3f5f"
            },
            "error_y": {
             "color": "#2a3f5f"
            },
            "marker": {
             "line": {
              "color": "#E5ECF6",
              "width": 0.5
             },
             "pattern": {
              "fillmode": "overlay",
              "size": 10,
              "solidity": 0.2
             }
            },
            "type": "bar"
           }
          ],
          "barpolar": [
           {
            "marker": {
             "line": {
              "color": "#E5ECF6",
              "width": 0.5
             },
             "pattern": {
              "fillmode": "overlay",
              "size": 10,
              "solidity": 0.2
             }
            },
            "type": "barpolar"
           }
          ],
          "carpet": [
           {
            "aaxis": {
             "endlinecolor": "#2a3f5f",
             "gridcolor": "white",
             "linecolor": "white",
             "minorgridcolor": "white",
             "startlinecolor": "#2a3f5f"
            },
            "baxis": {
             "endlinecolor": "#2a3f5f",
             "gridcolor": "white",
             "linecolor": "white",
             "minorgridcolor": "white",
             "startlinecolor": "#2a3f5f"
            },
            "type": "carpet"
           }
          ],
          "choropleth": [
           {
            "colorbar": {
             "outlinewidth": 0,
             "ticks": ""
            },
            "type": "choropleth"
           }
          ],
          "contour": [
           {
            "colorbar": {
             "outlinewidth": 0,
             "ticks": ""
            },
            "colorscale": [
             [
              0,
              "#0d0887"
             ],
             [
              0.1111111111111111,
              "#46039f"
             ],
             [
              0.2222222222222222,
              "#7201a8"
             ],
             [
              0.3333333333333333,
              "#9c179e"
             ],
             [
              0.4444444444444444,
              "#bd3786"
             ],
             [
              0.5555555555555556,
              "#d8576b"
             ],
             [
              0.6666666666666666,
              "#ed7953"
             ],
             [
              0.7777777777777778,
              "#fb9f3a"
             ],
             [
              0.8888888888888888,
              "#fdca26"
             ],
             [
              1,
              "#f0f921"
             ]
            ],
            "type": "contour"
           }
          ],
          "contourcarpet": [
           {
            "colorbar": {
             "outlinewidth": 0,
             "ticks": ""
            },
            "type": "contourcarpet"
           }
          ],
          "heatmap": [
           {
            "colorbar": {
             "outlinewidth": 0,
             "ticks": ""
            },
            "colorscale": [
             [
              0,
              "#0d0887"
             ],
             [
              0.1111111111111111,
              "#46039f"
             ],
             [
              0.2222222222222222,
              "#7201a8"
             ],
             [
              0.3333333333333333,
              "#9c179e"
             ],
             [
              0.4444444444444444,
              "#bd3786"
             ],
             [
              0.5555555555555556,
              "#d8576b"
             ],
             [
              0.6666666666666666,
              "#ed7953"
             ],
             [
              0.7777777777777778,
              "#fb9f3a"
             ],
             [
              0.8888888888888888,
              "#fdca26"
             ],
             [
              1,
              "#f0f921"
             ]
            ],
            "type": "heatmap"
           }
          ],
          "heatmapgl": [
           {
            "colorbar": {
             "outlinewidth": 0,
             "ticks": ""
            },
            "colorscale": [
             [
              0,
              "#0d0887"
             ],
             [
              0.1111111111111111,
              "#46039f"
             ],
             [
              0.2222222222222222,
              "#7201a8"
             ],
             [
              0.3333333333333333,
              "#9c179e"
             ],
             [
              0.4444444444444444,
              "#bd3786"
             ],
             [
              0.5555555555555556,
              "#d8576b"
             ],
             [
              0.6666666666666666,
              "#ed7953"
             ],
             [
              0.7777777777777778,
              "#fb9f3a"
             ],
             [
              0.8888888888888888,
              "#fdca26"
             ],
             [
              1,
              "#f0f921"
             ]
            ],
            "type": "heatmapgl"
           }
          ],
          "histogram": [
           {
            "marker": {
             "pattern": {
              "fillmode": "overlay",
              "size": 10,
              "solidity": 0.2
             }
            },
            "type": "histogram"
           }
          ],
          "histogram2d": [
           {
            "colorbar": {
             "outlinewidth": 0,
             "ticks": ""
            },
            "colorscale": [
             [
              0,
              "#0d0887"
             ],
             [
              0.1111111111111111,
              "#46039f"
             ],
             [
              0.2222222222222222,
              "#7201a8"
             ],
             [
              0.3333333333333333,
              "#9c179e"
             ],
             [
              0.4444444444444444,
              "#bd3786"
             ],
             [
              0.5555555555555556,
              "#d8576b"
             ],
             [
              0.6666666666666666,
              "#ed7953"
             ],
             [
              0.7777777777777778,
              "#fb9f3a"
             ],
             [
              0.8888888888888888,
              "#fdca26"
             ],
             [
              1,
              "#f0f921"
             ]
            ],
            "type": "histogram2d"
           }
          ],
          "histogram2dcontour": [
           {
            "colorbar": {
             "outlinewidth": 0,
             "ticks": ""
            },
            "colorscale": [
             [
              0,
              "#0d0887"
             ],
             [
              0.1111111111111111,
              "#46039f"
             ],
             [
              0.2222222222222222,
              "#7201a8"
             ],
             [
              0.3333333333333333,
              "#9c179e"
             ],
             [
              0.4444444444444444,
              "#bd3786"
             ],
             [
              0.5555555555555556,
              "#d8576b"
             ],
             [
              0.6666666666666666,
              "#ed7953"
             ],
             [
              0.7777777777777778,
              "#fb9f3a"
             ],
             [
              0.8888888888888888,
              "#fdca26"
             ],
             [
              1,
              "#f0f921"
             ]
            ],
            "type": "histogram2dcontour"
           }
          ],
          "mesh3d": [
           {
            "colorbar": {
             "outlinewidth": 0,
             "ticks": ""
            },
            "type": "mesh3d"
           }
          ],
          "parcoords": [
           {
            "line": {
             "colorbar": {
              "outlinewidth": 0,
              "ticks": ""
             }
            },
            "type": "parcoords"
           }
          ],
          "pie": [
           {
            "automargin": true,
            "type": "pie"
           }
          ],
          "scatter": [
           {
            "fillpattern": {
             "fillmode": "overlay",
             "size": 10,
             "solidity": 0.2
            },
            "type": "scatter"
           }
          ],
          "scatter3d": [
           {
            "line": {
             "colorbar": {
              "outlinewidth": 0,
              "ticks": ""
             }
            },
            "marker": {
             "colorbar": {
              "outlinewidth": 0,
              "ticks": ""
             }
            },
            "type": "scatter3d"
           }
          ],
          "scattercarpet": [
           {
            "marker": {
             "colorbar": {
              "outlinewidth": 0,
              "ticks": ""
             }
            },
            "type": "scattercarpet"
           }
          ],
          "scattergeo": [
           {
            "marker": {
             "colorbar": {
              "outlinewidth": 0,
              "ticks": ""
             }
            },
            "type": "scattergeo"
           }
          ],
          "scattergl": [
           {
            "marker": {
             "colorbar": {
              "outlinewidth": 0,
              "ticks": ""
             }
            },
            "type": "scattergl"
           }
          ],
          "scattermapbox": [
           {
            "marker": {
             "colorbar": {
              "outlinewidth": 0,
              "ticks": ""
             }
            },
            "type": "scattermapbox"
           }
          ],
          "scatterpolar": [
           {
            "marker": {
             "colorbar": {
              "outlinewidth": 0,
              "ticks": ""
             }
            },
            "type": "scatterpolar"
           }
          ],
          "scatterpolargl": [
           {
            "marker": {
             "colorbar": {
              "outlinewidth": 0,
              "ticks": ""
             }
            },
            "type": "scatterpolargl"
           }
          ],
          "scatterternary": [
           {
            "marker": {
             "colorbar": {
              "outlinewidth": 0,
              "ticks": ""
             }
            },
            "type": "scatterternary"
           }
          ],
          "surface": [
           {
            "colorbar": {
             "outlinewidth": 0,
             "ticks": ""
            },
            "colorscale": [
             [
              0,
              "#0d0887"
             ],
             [
              0.1111111111111111,
              "#46039f"
             ],
             [
              0.2222222222222222,
              "#7201a8"
             ],
             [
              0.3333333333333333,
              "#9c179e"
             ],
             [
              0.4444444444444444,
              "#bd3786"
             ],
             [
              0.5555555555555556,
              "#d8576b"
             ],
             [
              0.6666666666666666,
              "#ed7953"
             ],
             [
              0.7777777777777778,
              "#fb9f3a"
             ],
             [
              0.8888888888888888,
              "#fdca26"
             ],
             [
              1,
              "#f0f921"
             ]
            ],
            "type": "surface"
           }
          ],
          "table": [
           {
            "cells": {
             "fill": {
              "color": "#EBF0F8"
             },
             "line": {
              "color": "white"
             }
            },
            "header": {
             "fill": {
              "color": "#C8D4E3"
             },
             "line": {
              "color": "white"
             }
            },
            "type": "table"
           }
          ]
         },
         "layout": {
          "annotationdefaults": {
           "arrowcolor": "#2a3f5f",
           "arrowhead": 0,
           "arrowwidth": 1
          },
          "autotypenumbers": "strict",
          "coloraxis": {
           "colorbar": {
            "outlinewidth": 0,
            "ticks": ""
           }
          },
          "colorscale": {
           "diverging": [
            [
             0,
             "#8e0152"
            ],
            [
             0.1,
             "#c51b7d"
            ],
            [
             0.2,
             "#de77ae"
            ],
            [
             0.3,
             "#f1b6da"
            ],
            [
             0.4,
             "#fde0ef"
            ],
            [
             0.5,
             "#f7f7f7"
            ],
            [
             0.6,
             "#e6f5d0"
            ],
            [
             0.7,
             "#b8e186"
            ],
            [
             0.8,
             "#7fbc41"
            ],
            [
             0.9,
             "#4d9221"
            ],
            [
             1,
             "#276419"
            ]
           ],
           "sequential": [
            [
             0,
             "#0d0887"
            ],
            [
             0.1111111111111111,
             "#46039f"
            ],
            [
             0.2222222222222222,
             "#7201a8"
            ],
            [
             0.3333333333333333,
             "#9c179e"
            ],
            [
             0.4444444444444444,
             "#bd3786"
            ],
            [
             0.5555555555555556,
             "#d8576b"
            ],
            [
             0.6666666666666666,
             "#ed7953"
            ],
            [
             0.7777777777777778,
             "#fb9f3a"
            ],
            [
             0.8888888888888888,
             "#fdca26"
            ],
            [
             1,
             "#f0f921"
            ]
           ],
           "sequentialminus": [
            [
             0,
             "#0d0887"
            ],
            [
             0.1111111111111111,
             "#46039f"
            ],
            [
             0.2222222222222222,
             "#7201a8"
            ],
            [
             0.3333333333333333,
             "#9c179e"
            ],
            [
             0.4444444444444444,
             "#bd3786"
            ],
            [
             0.5555555555555556,
             "#d8576b"
            ],
            [
             0.6666666666666666,
             "#ed7953"
            ],
            [
             0.7777777777777778,
             "#fb9f3a"
            ],
            [
             0.8888888888888888,
             "#fdca26"
            ],
            [
             1,
             "#f0f921"
            ]
           ]
          },
          "colorway": [
           "#636efa",
           "#EF553B",
           "#00cc96",
           "#ab63fa",
           "#FFA15A",
           "#19d3f3",
           "#FF6692",
           "#B6E880",
           "#FF97FF",
           "#FECB52"
          ],
          "font": {
           "color": "#2a3f5f"
          },
          "geo": {
           "bgcolor": "white",
           "lakecolor": "white",
           "landcolor": "#E5ECF6",
           "showlakes": true,
           "showland": true,
           "subunitcolor": "white"
          },
          "hoverlabel": {
           "align": "left"
          },
          "hovermode": "closest",
          "mapbox": {
           "style": "light"
          },
          "paper_bgcolor": "white",
          "plot_bgcolor": "#E5ECF6",
          "polar": {
           "angularaxis": {
            "gridcolor": "white",
            "linecolor": "white",
            "ticks": ""
           },
           "bgcolor": "#E5ECF6",
           "radialaxis": {
            "gridcolor": "white",
            "linecolor": "white",
            "ticks": ""
           }
          },
          "scene": {
           "xaxis": {
            "backgroundcolor": "#E5ECF6",
            "gridcolor": "white",
            "gridwidth": 2,
            "linecolor": "white",
            "showbackground": true,
            "ticks": "",
            "zerolinecolor": "white"
           },
           "yaxis": {
            "backgroundcolor": "#E5ECF6",
            "gridcolor": "white",
            "gridwidth": 2,
            "linecolor": "white",
            "showbackground": true,
            "ticks": "",
            "zerolinecolor": "white"
           },
           "zaxis": {
            "backgroundcolor": "#E5ECF6",
            "gridcolor": "white",
            "gridwidth": 2,
            "linecolor": "white",
            "showbackground": true,
            "ticks": "",
            "zerolinecolor": "white"
           }
          },
          "shapedefaults": {
           "line": {
            "color": "#2a3f5f"
           }
          },
          "ternary": {
           "aaxis": {
            "gridcolor": "white",
            "linecolor": "white",
            "ticks": ""
           },
           "baxis": {
            "gridcolor": "white",
            "linecolor": "white",
            "ticks": ""
           },
           "bgcolor": "#E5ECF6",
           "caxis": {
            "gridcolor": "white",
            "linecolor": "white",
            "ticks": ""
           }
          },
          "title": {
           "x": 0.05
          },
          "xaxis": {
           "automargin": true,
           "gridcolor": "white",
           "linecolor": "white",
           "ticks": "",
           "title": {
            "standoff": 15
           },
           "zerolinecolor": "white",
           "zerolinewidth": 2
          },
          "yaxis": {
           "automargin": true,
           "gridcolor": "white",
           "linecolor": "white",
           "ticks": "",
           "title": {
            "standoff": 15
           },
           "zerolinecolor": "white",
           "zerolinewidth": 2
          }
         }
        },
        "title": {
         "text": "Enrollment Time Series"
        },
        "xaxis": {
         "anchor": "y",
         "domain": [
          0,
          1
         ],
         "title": {
          "text": "Year"
         }
        },
        "yaxis": {
         "anchor": "x",
         "domain": [
          0,
          1
         ],
         "title": {
          "text": "student enrollment"
         }
        }
       }
      }
     },
     "metadata": {},
     "output_type": "display_data"
    }
   ],
   "source": [
    "# plot enrollment over time\n",
    "fig = px.line(long_school_subset, x='variable', y='value', color='SCHOOL NAME',\n",
    "    labels={\n",
    "        'value': 'student enrollment',\n",
    "        'variable': 'Year',\n",
    "        'SCHOOL NAME': 'School Name'\n",
    "    },\n",
    "title = 'Enrollment Time Series')\n",
    "fig.show()"
   ]
  },
  {
   "cell_type": "code",
   "execution_count": 86,
   "metadata": {},
   "outputs": [
    {
     "data": {
      "text/html": [
       "<div>\n",
       "<style scoped>\n",
       "    .dataframe tbody tr th:only-of-type {\n",
       "        vertical-align: middle;\n",
       "    }\n",
       "\n",
       "    .dataframe tbody tr th {\n",
       "        vertical-align: top;\n",
       "    }\n",
       "\n",
       "    .dataframe thead th {\n",
       "        text-align: right;\n",
       "    }\n",
       "</style>\n",
       "<table border=\"1\" class=\"dataframe\">\n",
       "  <thead>\n",
       "    <tr style=\"text-align: right;\">\n",
       "      <th></th>\n",
       "      <th>SCHOOL NAME</th>\n",
       "      <th>YEAR</th>\n",
       "      <th>TOTAL 1</th>\n",
       "    </tr>\n",
       "  </thead>\n",
       "  <tbody>\n",
       "    <tr>\n",
       "      <th>0</th>\n",
       "      <td>MASIYILE SENIOR SECONDARY SCHOOL</td>\n",
       "      <td>2010</td>\n",
       "      <td>1192.0</td>\n",
       "    </tr>\n",
       "    <tr>\n",
       "      <th>1</th>\n",
       "      <td>MASIYILE SENIOR SECONDARY SCHOOL</td>\n",
       "      <td>2011</td>\n",
       "      <td>1243.0</td>\n",
       "    </tr>\n",
       "    <tr>\n",
       "      <th>2</th>\n",
       "      <td>MASIYILE SENIOR SECONDARY SCHOOL</td>\n",
       "      <td>2012</td>\n",
       "      <td>1230.0</td>\n",
       "    </tr>\n",
       "    <tr>\n",
       "      <th>3</th>\n",
       "      <td>MASIYILE SENIOR SECONDARY SCHOOL</td>\n",
       "      <td>2013</td>\n",
       "      <td>1246.0</td>\n",
       "    </tr>\n",
       "    <tr>\n",
       "      <th>4</th>\n",
       "      <td>MASIYILE SENIOR SECONDARY SCHOOL</td>\n",
       "      <td>2014</td>\n",
       "      <td>1139.0</td>\n",
       "    </tr>\n",
       "    <tr>\n",
       "      <th>5</th>\n",
       "      <td>MASIYILE SENIOR SECONDARY SCHOOL</td>\n",
       "      <td>2015</td>\n",
       "      <td>1213.0</td>\n",
       "    </tr>\n",
       "    <tr>\n",
       "      <th>6</th>\n",
       "      <td>MASIYILE SENIOR SECONDARY SCHOOL</td>\n",
       "      <td>2016</td>\n",
       "      <td>1203.0</td>\n",
       "    </tr>\n",
       "    <tr>\n",
       "      <th>7</th>\n",
       "      <td>MASIYILE SENIOR SECONDARY SCHOOL</td>\n",
       "      <td>2017</td>\n",
       "      <td>1191.0</td>\n",
       "    </tr>\n",
       "    <tr>\n",
       "      <th>8</th>\n",
       "      <td>MASIYILE SENIOR SECONDARY SCHOOL</td>\n",
       "      <td>2018</td>\n",
       "      <td>1250.0</td>\n",
       "    </tr>\n",
       "    <tr>\n",
       "      <th>9</th>\n",
       "      <td>MASIYILE SENIOR SECONDARY SCHOOL</td>\n",
       "      <td>2019</td>\n",
       "      <td>1283.0</td>\n",
       "    </tr>\n",
       "    <tr>\n",
       "      <th>10</th>\n",
       "      <td>MASIYILE SENIOR SECONDARY SCHOOL</td>\n",
       "      <td>2020</td>\n",
       "      <td>1297.0</td>\n",
       "    </tr>\n",
       "    <tr>\n",
       "      <th>11</th>\n",
       "      <td>MASIYILE SENIOR SECONDARY SCHOOL</td>\n",
       "      <td>2021</td>\n",
       "      <td>1310.0</td>\n",
       "    </tr>\n",
       "    <tr>\n",
       "      <th>12</th>\n",
       "      <td>MASIYILE SENIOR SECONDARY SCHOOL</td>\n",
       "      <td>2022</td>\n",
       "      <td>1302.0</td>\n",
       "    </tr>\n",
       "    <tr>\n",
       "      <th>13</th>\n",
       "      <td>MASIYILE SENIOR SECONDARY SCHOOL</td>\n",
       "      <td>2023</td>\n",
       "      <td>1439.0</td>\n",
       "    </tr>\n",
       "  </tbody>\n",
       "</table>\n",
       "</div>"
      ],
      "text/plain": [
       "                         SCHOOL NAME  YEAR  TOTAL 1\n",
       "0   MASIYILE SENIOR SECONDARY SCHOOL  2010   1192.0\n",
       "1   MASIYILE SENIOR SECONDARY SCHOOL  2011   1243.0\n",
       "2   MASIYILE SENIOR SECONDARY SCHOOL  2012   1230.0\n",
       "3   MASIYILE SENIOR SECONDARY SCHOOL  2013   1246.0\n",
       "4   MASIYILE SENIOR SECONDARY SCHOOL  2014   1139.0\n",
       "5   MASIYILE SENIOR SECONDARY SCHOOL  2015   1213.0\n",
       "6   MASIYILE SENIOR SECONDARY SCHOOL  2016   1203.0\n",
       "7   MASIYILE SENIOR SECONDARY SCHOOL  2017   1191.0\n",
       "8   MASIYILE SENIOR SECONDARY SCHOOL  2018   1250.0\n",
       "9   MASIYILE SENIOR SECONDARY SCHOOL  2019   1283.0\n",
       "10  MASIYILE SENIOR SECONDARY SCHOOL  2020   1297.0\n",
       "11  MASIYILE SENIOR SECONDARY SCHOOL  2021   1310.0\n",
       "12  MASIYILE SENIOR SECONDARY SCHOOL  2022   1302.0\n",
       "13  MASIYILE SENIOR SECONDARY SCHOOL  2023   1439.0"
      ]
     },
     "execution_count": 86,
     "metadata": {},
     "output_type": "execute_result"
    }
   ],
   "source": [
    "# method to select a school from the dataset\n",
    "school_name = 'MASIYILE SENIOR SECONDARY SCHOOL'\n",
    "def filter_schools(df, school_name):\n",
    "    df_subset = df[df['SCHOOL NAME'] == school_name]\n",
    "\n",
    "    long_subset = pd.melt(df_subset, id_vars='SCHOOL NAME', value_vars=['2010', '2011', '2012',\n",
    "                                                                        '2013', '2014', '2015',\n",
    "                                                                        '2016', '2017', '2018',\n",
    "                                                                        '2019', '2020', '2021',\n",
    "                                                                        '2022', '2023'])\n",
    "    \n",
    "    long_subset.rename(columns={'variable': 'YEAR', 'value': 'TOTAL 1'}, inplace=True)\n",
    "    return long_subset\n",
    "\n",
    "a_school = filter_schools(school_enrollments, school_name)\n",
    "\n",
    "# remove nan years\n",
    "# a_school = a_school.iloc[4:]\n",
    "a_school"
   ]
  },
  {
   "cell_type": "code",
   "execution_count": 87,
   "metadata": {},
   "outputs": [],
   "source": [
    "# helper method to make data stationary\n",
    "def subtract_from_previous(arr):\n",
    "    if len(arr) == 0:\n",
    "        return []\n",
    "\n",
    "    return [arr[i] - arr[i - 1] for i in range(1, len(arr))]"
   ]
  },
  {
   "cell_type": "code",
   "execution_count": 88,
   "metadata": {},
   "outputs": [
    {
     "data": {
      "text/plain": [
       "[0.9283401903062468, 0.000825597317472495]"
      ]
     },
     "execution_count": 88,
     "metadata": {},
     "output_type": "execute_result"
    },
    {
     "data": {
      "image/png": "[encoded data removed]",
      "text/plain": [
       "<Figure size 2000x1500 with 4 Axes>"
      ]
     },
     "metadata": {},
     "output_type": "display_data"
    }
   ],
   "source": [
    "# fit plot over time with stationarity pacf and acf\n",
    "# This function plots time series of student enrollment for a given metro, circuit and grade\n",
    "# If the time series is not stationary it is converted so that it is stationary and the stationary plot will be plotted\n",
    "# the pacf and acf plots are also plotted\n",
    "fig, axes = plt.subplots(4, 1, figsize=(20,15))\n",
    "\n",
    "# def plot_learner_ts(metro, circuit, count_var):\n",
    "def plot_learner_ts(df_subset):\n",
    "\n",
    "    # extract the counts\n",
    "    count_var = df_subset.iloc[:,[2]].columns.values[0]\n",
    "    \n",
    "    # plot the stationary time series if time series is not stationary\n",
    "    adf_val = adfuller(df_subset[str(count_var)])\n",
    "    \n",
    "    # if p val > 0.05 then time series is not stationary. If p value < 0.05 then it is stationary\n",
    "    # if time series is stationary then convert to stationary plot\n",
    "    if adf_val[1] > 0.05:\n",
    "        # plot number of students over time\n",
    "        axes[0].plot(df_subset['YEAR'], (df_subset[str(count_var)]))\n",
    "        axes[0].set_title('Time Series')\n",
    "        axes[0].set_xlabel('Year')\n",
    "        axes[0].set_ylabel('Number of students enrolled to school')\n",
    "\n",
    "        # convert time series to stationary time series\n",
    "        transformed_ts = subtract_from_previous(np.array(df_subset[str(count_var)]))\n",
    "        transformed_adf = adfuller(transformed_ts)\n",
    "\n",
    "        axes[1].plot(df_subset['YEAR'][1:], transformed_ts) # time series for stationary plot\n",
    "        axes[1].set_title('Stationary Time Series')\n",
    "        axes[1].set_xlabel('Year')\n",
    "        axes[1].set_ylabel('Number of students enrolled to school')\n",
    "\n",
    "        # plot ACF (see https://www.youtube.com/watch?v=y8opUEd05Dg&list=PLvcbYUQ5t0UHOLnBzl46_Q6QKtFgfMGc3&index=3)\n",
    "        acf_plot = plot_acf(np.array(transformed_ts), ax=axes[2]) # acf for stationary plot\n",
    "\n",
    "        # plot PACF (see https://www.youtube.com/watch?v=y8opUEd05Dg&list=PLvcbYUQ5t0UHOLnBzl46_Q6QKtFgfMGc3&index=3)\n",
    "        pacf_plot = plot_pacf(transformed_ts, lags=3, ax=axes[3]) # pacf for stationary plot\n",
    "    \n",
    "    # if the time series is already stationary then plot the time series, acf and pacf plots as is\n",
    "    else:\n",
    "        # plot number of students over time\n",
    "        axes[0].plot(df_subset['YEAR'], (df_subset[str(count_var)]))\n",
    "        axes[0].set_title('Time Series')\n",
    "        axes[0].set_xlabel('Year')\n",
    "        axes[0].set_ylabel('Number of students enrolled to school')\n",
    "\n",
    "        # plot ACF (see https://www.youtube.com/watch?v=y8opUEd05Dg&list=PLvcbYUQ5t0UHOLnBzl46_Q6QKtFgfMGc3&index=3)\n",
    "        acf_plot = plot_acf(df_subset[str(count_var)], ax=axes[2])\n",
    "\n",
    "        # plot PACF (see https://www.youtube.com/watch?v=y8opUEd05Dg&list=PLvcbYUQ5t0UHOLnBzl46_Q6QKtFgfMGc3&index=3)\n",
    "        pacf_plot = plot_pacf(df_subset[str(count_var)], lags=2, ax=axes[3])\n",
    "\n",
    "    # plot all graphs on same grid\n",
    "    plt.tight_layout()\n",
    "\n",
    "    # return transformed adf only if the transformation needed to happen\n",
    "    if adf_val[1] > 0.05:\n",
    "        return [adf_val[1], transformed_adf[1]]\n",
    "    else:\n",
    "        return adf_val[1]\n",
    "\n",
    "plot_learner_ts(a_school)"
   ]
  },
  {
   "cell_type": "code",
   "execution_count": 96,
   "metadata": {},
   "outputs": [
    {
     "name": "stdout",
     "output_type": "stream",
     "text": [
      "9\n",
      "predicted=1092.329801, expected=1213.000000\n",
      "predicted=1133.293041, expected=1203.000000\n",
      "predicted=748.013750, expected=1191.000000\n",
      "predicted=1193.996047, expected=1250.000000\n",
      "predicted=1226.156250, expected=1283.000000\n"
     ]
    },
    {
     "name": "stderr",
     "output_type": "stream",
     "text": [
      "c:\\Users\\GEdwards\\Python\\lib\\site-packages\\statsmodels\\tsa\\statespace\\sarimax.py:866: UserWarning:\n",
      "\n",
      "Too few observations to estimate starting parameters for ARMA and trend. All parameters except for variances will be set to zeros.\n",
      "\n",
      "c:\\Users\\GEdwards\\Python\\lib\\site-packages\\statsmodels\\base\\model.py:607: ConvergenceWarning:\n",
      "\n",
      "Maximum Likelihood optimization failed to converge. Check mle_retvals\n",
      "\n",
      "c:\\Users\\GEdwards\\Python\\lib\\site-packages\\statsmodels\\tsa\\statespace\\sarimax.py:966: UserWarning:\n",
      "\n",
      "Non-stationary starting autoregressive parameters found. Using zeros as starting parameters.\n",
      "\n",
      "c:\\Users\\GEdwards\\Python\\lib\\site-packages\\statsmodels\\tsa\\statespace\\sarimax.py:978: UserWarning:\n",
      "\n",
      "Non-invertible starting MA parameters found. Using zeros as starting parameters.\n",
      "\n",
      "c:\\Users\\GEdwards\\Python\\lib\\site-packages\\statsmodels\\base\\model.py:607: ConvergenceWarning:\n",
      "\n",
      "Maximum Likelihood optimization failed to converge. Check mle_retvals\n",
      "\n"
     ]
    },
    {
     "name": "stdout",
     "output_type": "stream",
     "text": [
      "predicted=1282.962086, expected=1297.000000\n",
      "predicted=1305.027505, expected=1310.000000\n",
      "predicted=1318.748905, expected=1302.000000\n",
      "predicted=1316.768076, expected=1439.000000\n",
      "predicted=1420.781293\n",
      "predicted=1474.597491\n",
      "predicted=1494.158984\n",
      "predicted=1529.673475\n",
      "predicted=1557.446370\n",
      "predicted=1588.793015\n",
      "predicted=1618.345912\n",
      "predicted=1648.698662\n",
      "predicted=1678.621122\n",
      "predicted=1708.717530\n",
      "Test RMSE: 162.436\n",
      "{'observations': [1213.0, 1203.0, 1191.0, 1250.0, 1283.0, 1297.0, 1310.0, 1302.0, 1439.0, nan, nan, nan, nan, nan, nan, nan, nan, nan, nan], 'predictions': [1092.3298012783, 1133.293041290522, 748.0137500362368, 1193.9960466336374, 1226.1562498390163, 1282.9620864518442, 1305.0275051308279, 1318.7489045241218, 1316.7680759728714, 1420.7812928281705, 1474.5974907820216, 1494.158983543641, 1529.67347489937, 1557.4463699099474, 1588.7930147596285, 1618.3459122891995, 1648.6986615103792, 1678.6211223273936, 1708.7175299233218], 'year': array([2019, 2020, 2021, 2022, 2023, 2024, 2025, 2026, 2027, 2028, 2029,\n",
      "       2030, 2031, 2032, 2033])}\n"
     ]
    },
    {
     "ename": "ValueError",
     "evalue": "All arrays must be of the same length",
     "output_type": "error",
     "traceback": [
      "\u001b[1;31m---------------------------------------------------------------------------\u001b[0m",
      "\u001b[1;31mValueError\u001b[0m                                Traceback (most recent call last)",
      "\u001b[1;32md:\\work_projects\\2023\\Education\\education_project\\school_ts.ipynb Cell 10\u001b[0m in \u001b[0;36m<cell line: 53>\u001b[1;34m()\u001b[0m\n\u001b[0;32m     <a href='vscode-notebook-cell:/d%3A/work_projects/2023/Education/education_project/school_ts.ipynb#X12sZmlsZQ%3D%3D?line=50'>51</a>\u001b[0m data \u001b[39m=\u001b[39m {\u001b[39m'\u001b[39m\u001b[39mobservations\u001b[39m\u001b[39m'\u001b[39m: observations, \u001b[39m'\u001b[39m\u001b[39mpredictions\u001b[39m\u001b[39m'\u001b[39m: predictions, \u001b[39m'\u001b[39m\u001b[39myear\u001b[39m\u001b[39m'\u001b[39m: years}\n\u001b[0;32m     <a href='vscode-notebook-cell:/d%3A/work_projects/2023/Education/education_project/school_ts.ipynb#X12sZmlsZQ%3D%3D?line=51'>52</a>\u001b[0m \u001b[39mprint\u001b[39m(data)\n\u001b[1;32m---> <a href='vscode-notebook-cell:/d%3A/work_projects/2023/Education/education_project/school_ts.ipynb#X12sZmlsZQ%3D%3D?line=52'>53</a>\u001b[0m preds_df \u001b[39m=\u001b[39m pd\u001b[39m.\u001b[39;49mDataFrame(data)\n\u001b[0;32m     <a href='vscode-notebook-cell:/d%3A/work_projects/2023/Education/education_project/school_ts.ipynb#X12sZmlsZQ%3D%3D?line=53'>54</a>\u001b[0m preds_df\u001b[39m.\u001b[39mto_csv(\u001b[39m'\u001b[39m\u001b[39moutput/school_predictions/\u001b[39m\u001b[39m'\u001b[39m\u001b[39m+\u001b[39mschool_name\u001b[39m+\u001b[39m\u001b[39m'\u001b[39m\u001b[39m_predictions.csv\u001b[39m\u001b[39m'\u001b[39m, index\u001b[39m=\u001b[39m\u001b[39mFalse\u001b[39;00m)\n",
      "File \u001b[1;32mc:\\Users\\GEdwards\\Python\\lib\\site-packages\\pandas\\core\\frame.py:636\u001b[0m, in \u001b[0;36mDataFrame.__init__\u001b[1;34m(self, data, index, columns, dtype, copy)\u001b[0m\n\u001b[0;32m    630\u001b[0m     mgr \u001b[39m=\u001b[39m \u001b[39mself\u001b[39m\u001b[39m.\u001b[39m_init_mgr(\n\u001b[0;32m    631\u001b[0m         data, axes\u001b[39m=\u001b[39m{\u001b[39m\"\u001b[39m\u001b[39mindex\u001b[39m\u001b[39m\"\u001b[39m: index, \u001b[39m\"\u001b[39m\u001b[39mcolumns\u001b[39m\u001b[39m\"\u001b[39m: columns}, dtype\u001b[39m=\u001b[39mdtype, copy\u001b[39m=\u001b[39mcopy\n\u001b[0;32m    632\u001b[0m     )\n\u001b[0;32m    634\u001b[0m \u001b[39melif\u001b[39;00m \u001b[39misinstance\u001b[39m(data, \u001b[39mdict\u001b[39m):\n\u001b[0;32m    635\u001b[0m     \u001b[39m# GH#38939 de facto copy defaults to False only in non-dict cases\u001b[39;00m\n\u001b[1;32m--> 636\u001b[0m     mgr \u001b[39m=\u001b[39m dict_to_mgr(data, index, columns, dtype\u001b[39m=\u001b[39;49mdtype, copy\u001b[39m=\u001b[39;49mcopy, typ\u001b[39m=\u001b[39;49mmanager)\n\u001b[0;32m    637\u001b[0m \u001b[39melif\u001b[39;00m \u001b[39misinstance\u001b[39m(data, ma\u001b[39m.\u001b[39mMaskedArray):\n\u001b[0;32m    638\u001b[0m     \u001b[39mimport\u001b[39;00m \u001b[39mnumpy\u001b[39;00m\u001b[39m.\u001b[39;00m\u001b[39mma\u001b[39;00m\u001b[39m.\u001b[39;00m\u001b[39mmrecords\u001b[39;00m \u001b[39mas\u001b[39;00m \u001b[39mmrecords\u001b[39;00m\n",
      "File \u001b[1;32mc:\\Users\\GEdwards\\Python\\lib\\site-packages\\pandas\\core\\internals\\construction.py:502\u001b[0m, in \u001b[0;36mdict_to_mgr\u001b[1;34m(data, index, columns, dtype, typ, copy)\u001b[0m\n\u001b[0;32m    494\u001b[0m     arrays \u001b[39m=\u001b[39m [\n\u001b[0;32m    495\u001b[0m         x\n\u001b[0;32m    496\u001b[0m         \u001b[39mif\u001b[39;00m \u001b[39mnot\u001b[39;00m \u001b[39mhasattr\u001b[39m(x, \u001b[39m\"\u001b[39m\u001b[39mdtype\u001b[39m\u001b[39m\"\u001b[39m) \u001b[39mor\u001b[39;00m \u001b[39mnot\u001b[39;00m \u001b[39misinstance\u001b[39m(x\u001b[39m.\u001b[39mdtype, ExtensionDtype)\n\u001b[0;32m    497\u001b[0m         \u001b[39melse\u001b[39;00m x\u001b[39m.\u001b[39mcopy()\n\u001b[0;32m    498\u001b[0m         \u001b[39mfor\u001b[39;00m x \u001b[39min\u001b[39;00m arrays\n\u001b[0;32m    499\u001b[0m     ]\n\u001b[0;32m    500\u001b[0m     \u001b[39m# TODO: can we get rid of the dt64tz special case above?\u001b[39;00m\n\u001b[1;32m--> 502\u001b[0m \u001b[39mreturn\u001b[39;00m arrays_to_mgr(arrays, columns, index, dtype\u001b[39m=\u001b[39;49mdtype, typ\u001b[39m=\u001b[39;49mtyp, consolidate\u001b[39m=\u001b[39;49mcopy)\n",
      "File \u001b[1;32mc:\\Users\\GEdwards\\Python\\lib\\site-packages\\pandas\\core\\internals\\construction.py:120\u001b[0m, in \u001b[0;36marrays_to_mgr\u001b[1;34m(arrays, columns, index, dtype, verify_integrity, typ, consolidate)\u001b[0m\n\u001b[0;32m    117\u001b[0m \u001b[39mif\u001b[39;00m verify_integrity:\n\u001b[0;32m    118\u001b[0m     \u001b[39m# figure out the index, if necessary\u001b[39;00m\n\u001b[0;32m    119\u001b[0m     \u001b[39mif\u001b[39;00m index \u001b[39mis\u001b[39;00m \u001b[39mNone\u001b[39;00m:\n\u001b[1;32m--> 120\u001b[0m         index \u001b[39m=\u001b[39m _extract_index(arrays)\n\u001b[0;32m    121\u001b[0m     \u001b[39melse\u001b[39;00m:\n\u001b[0;32m    122\u001b[0m         index \u001b[39m=\u001b[39m ensure_index(index)\n",
      "File \u001b[1;32mc:\\Users\\GEdwards\\Python\\lib\\site-packages\\pandas\\core\\internals\\construction.py:674\u001b[0m, in \u001b[0;36m_extract_index\u001b[1;34m(data)\u001b[0m\n\u001b[0;32m    672\u001b[0m lengths \u001b[39m=\u001b[39m \u001b[39mlist\u001b[39m(\u001b[39mset\u001b[39m(raw_lengths))\n\u001b[0;32m    673\u001b[0m \u001b[39mif\u001b[39;00m \u001b[39mlen\u001b[39m(lengths) \u001b[39m>\u001b[39m \u001b[39m1\u001b[39m:\n\u001b[1;32m--> 674\u001b[0m     \u001b[39mraise\u001b[39;00m \u001b[39mValueError\u001b[39;00m(\u001b[39m\"\u001b[39m\u001b[39mAll arrays must be of the same length\u001b[39m\u001b[39m\"\u001b[39m)\n\u001b[0;32m    676\u001b[0m \u001b[39mif\u001b[39;00m have_dicts:\n\u001b[0;32m    677\u001b[0m     \u001b[39mraise\u001b[39;00m \u001b[39mValueError\u001b[39;00m(\n\u001b[0;32m    678\u001b[0m         \u001b[39m\"\u001b[39m\u001b[39mMixing dicts with non-Series may lead to ambiguous ordering.\u001b[39m\u001b[39m\"\u001b[39m\n\u001b[0;32m    679\u001b[0m     )\n",
      "\u001b[1;31mValueError\u001b[0m: All arrays must be of the same length"
     ]
    }
   ],
   "source": [
    "# apply arima with rolling forecasts\n",
    "# Using rolling predictions\n",
    "\n",
    "X = a_school['TOTAL 1'].values\n",
    "\n",
    "# split into train and test sets\n",
    "size = int(len(X) * 0.4)\n",
    "train, test = X[0:size], X[size:len(X)]\n",
    "print(len(test))\n",
    "history = [x for x in train]\n",
    "predictions = list()\n",
    "observations = list()\n",
    "preds_for_rmse = list()\n",
    "\n",
    "num_pred_years = 10\n",
    "\n",
    "# rolling forecast\n",
    "for t in range(len(test) + num_pred_years):\n",
    " model = ARIMA(history, order=(1,2,1)) # run the arima model on train data\n",
    " model_fit = model.fit() # fit the model\n",
    " output = model_fit.forecast() # forecast next value\n",
    " yhat = output[0]\n",
    " predictions.append(yhat)\n",
    "\n",
    "#  obs = test[t]\n",
    "#  history.append(obs)\n",
    "#  print('predicted=%f, expected=%f' % (yhat, obs))\n",
    " \n",
    " if t < len(test):\n",
    "    preds_for_rmse.append(yhat)\n",
    "    obs = test[t]\n",
    "    observations.append(obs)\n",
    "    history.append(obs)\n",
    "    print('predicted=%f, expected=%f' % (yhat, obs))\n",
    " \n",
    " # forecast predictions (2023 to 2028)\n",
    " else:\n",
    "   history.append(yhat)\n",
    "   observations.append(np.nan)\n",
    "   print('predicted=%f' % (yhat))\n",
    "\n",
    "rmse = sqrt(mean_squared_error(test, preds_for_rmse))\n",
    "print('Test RMSE: %.3f' % rmse)\n",
    "\n",
    "# save actual values and forecasted values to a csv\n",
    "# min_year = int(min(a_school['YEAR']))\n",
    "min_year = a_school['YEAR'][len(test):len(test)+1].values[0]\n",
    "max_year = 2023 + 1\n",
    "years = np.arange(int(min_year),int(max_year) + num_pred_years)\n",
    "\n",
    "data = {'observations': observations, 'predictions': predictions, 'year': years}\n",
    "print(data)\n",
    "preds_df = pd.DataFrame(data)\n",
    "preds_df.to_csv('output/school_predictions/'+school_name+'_predictions.csv', index=False)"
   ]
  },
  {
   "cell_type": "code",
   "execution_count": 90,
   "metadata": {},
   "outputs": [
    {
     "data": {
      "image/png": "[encoded data removed]",
      "text/plain": [
       "<Figure size 2000x500 with 1 Axes>"
      ]
     },
     "metadata": {},
     "output_type": "display_data"
    }
   ],
   "source": [
    "# plot forecasts against actual outcomes\n",
    "fig, axes = plt.subplots(1, 1, figsize=(20,5))\n",
    "\n",
    "# plt.plot(test)\n",
    "# plt.plot(predictions, color='red')\n",
    "\n",
    "plt.plot(preds_df['year'], preds_df['observations'])\n",
    "plt.plot(preds_df['year'], preds_df['predictions'])\n",
    "\n",
    "plt.title('predicted time series for '+ school_name + ' (rmse = '+str(rmse)+')')\n",
    "plt.xlabel('Years')\n",
    "plt.ylabel('Enrollment')\n",
    "plt.show()"
   ]
  }
 ],
 "metadata": {
  "kernelspec": {
   "display_name": "Python 3",
   "language": "python",
   "name": "python3"
  },
  "language_info": {
   "codemirror_mode": {
    "name": "ipython",
    "version": 3
   },
   "file_extension": ".py",
   "mimetype": "text/x-python",
   "name": "python",
   "nbconvert_exporter": "python",
   "pygments_lexer": "ipython3",
   "version": "3.10.6"
  },
  "orig_nbformat": 4
 },
 "nbformat": 4,
 "nbformat_minor": 2
}
